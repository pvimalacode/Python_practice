{
 "cells": [
  {
   "cell_type": "code",
   "execution_count": 18,
   "id": "234e59ac",
   "metadata": {},
   "outputs": [],
   "source": [
    "import pandas as pd\n",
    "import matplotlib.pyplot as plt\n",
    "import numpy as np\n",
    "import seaborn as sns\n",
    "import os\n",
    "import glob"
   ]
  },
  {
   "cell_type": "code",
   "execution_count": 19,
   "id": "ae0308c0",
   "metadata": {},
   "outputs": [
    {
     "data": {
      "text/plain": [
       "'E:\\\\Users\\\\DELL\\\\Desktop\\\\Loyalist\\\\AI\\\\Assignment\\\\Datasets'"
      ]
     },
     "execution_count": 19,
     "metadata": {},
     "output_type": "execute_result"
    }
   ],
   "source": [
    "os.getcwd()"
   ]
  },
  {
   "cell_type": "code",
   "execution_count": 20,
   "id": "7b63f571",
   "metadata": {},
   "outputs": [],
   "source": [
    "os.chdir(\"E:\\\\Users\\\\DELL\\\\Desktop\\\\Loyalist\\\\AI\\\\Assignment\\\\Datasets\")"
   ]
  },
  {
   "cell_type": "code",
   "execution_count": 21,
   "id": "ecfb2023",
   "metadata": {},
   "outputs": [
    {
     "data": {
      "text/plain": [
       "'E:\\\\Users\\\\DELL\\\\Desktop\\\\Loyalist\\\\AI\\\\Assignment\\\\Datasets'"
      ]
     },
     "execution_count": 21,
     "metadata": {},
     "output_type": "execute_result"
    }
   ],
   "source": [
    "os.getcwd()"
   ]
  },
  {
   "cell_type": "code",
   "execution_count": 22,
   "id": "230c1bad",
   "metadata": {},
   "outputs": [],
   "source": [
    "extension = 'csv' #PPT"
   ]
  },
  {
   "cell_type": "code",
   "execution_count": 23,
   "id": "bcdeac26",
   "metadata": {},
   "outputs": [
    {
     "name": "stdout",
     "output_type": "stream",
     "text": [
      "['Facebook.csv', 'Google.csv', 'Netflix.csv']\n"
     ]
    }
   ],
   "source": [
    "all_filenames = [i for i in glob.glob('*.{}'.format(extension))[1:]] #PPT\n",
    "print(all_filenames)"
   ]
  },
  {
   "cell_type": "code",
   "execution_count": 24,
   "id": "d32bacde",
   "metadata": {},
   "outputs": [],
   "source": [
    "combined_csv = pd.concat([pd.read_csv(f) for f in all_filenames ])\n",
    "\n",
    "#export to csv                                                                    #PPT\n",
    "combined_csv.to_csv( \"combined_csv.csv\", index=False, encoding='utf-8-sig')"
   ]
  },
  {
   "cell_type": "code",
   "execution_count": 25,
   "id": "53b6d0a7",
   "metadata": {},
   "outputs": [
    {
     "data": {
      "text/plain": [
       "(pandas.core.frame.DataFrame, (10698, 7))"
      ]
     },
     "execution_count": 25,
     "metadata": {},
     "output_type": "execute_result"
    }
   ],
   "source": [
    "combined_csv\n",
    "type(combined_csv),combined_csv.shape              #PPT"
   ]
  },
  {
   "cell_type": "code",
   "execution_count": 26,
   "id": "6c2d9245",
   "metadata": {},
   "outputs": [
    {
     "data": {
      "text/html": [
       "<div>\n",
       "<style scoped>\n",
       "    .dataframe tbody tr th:only-of-type {\n",
       "        vertical-align: middle;\n",
       "    }\n",
       "\n",
       "    .dataframe tbody tr th {\n",
       "        vertical-align: top;\n",
       "    }\n",
       "\n",
       "    .dataframe thead th {\n",
       "        text-align: right;\n",
       "    }\n",
       "</style>\n",
       "<table border=\"1\" class=\"dataframe\">\n",
       "  <thead>\n",
       "    <tr style=\"text-align: right;\">\n",
       "      <th></th>\n",
       "      <th>Date</th>\n",
       "      <th>Open</th>\n",
       "      <th>High</th>\n",
       "      <th>Low</th>\n",
       "      <th>Close</th>\n",
       "      <th>Adj Close</th>\n",
       "      <th>Volume</th>\n",
       "      <th>company</th>\n",
       "    </tr>\n",
       "  </thead>\n",
       "  <tbody>\n",
       "    <tr>\n",
       "      <th>0</th>\n",
       "      <td>2012-05-18</td>\n",
       "      <td>42.049999</td>\n",
       "      <td>45.000000</td>\n",
       "      <td>38.000000</td>\n",
       "      <td>38.230000</td>\n",
       "      <td>38.230000</td>\n",
       "      <td>573576400</td>\n",
       "      <td>Facebook</td>\n",
       "    </tr>\n",
       "    <tr>\n",
       "      <th>1</th>\n",
       "      <td>2012-05-21</td>\n",
       "      <td>36.529999</td>\n",
       "      <td>36.660000</td>\n",
       "      <td>33.000000</td>\n",
       "      <td>34.029999</td>\n",
       "      <td>34.029999</td>\n",
       "      <td>168192700</td>\n",
       "      <td>Facebook</td>\n",
       "    </tr>\n",
       "    <tr>\n",
       "      <th>2</th>\n",
       "      <td>2012-05-22</td>\n",
       "      <td>32.610001</td>\n",
       "      <td>33.590000</td>\n",
       "      <td>30.940001</td>\n",
       "      <td>31.000000</td>\n",
       "      <td>31.000000</td>\n",
       "      <td>101786600</td>\n",
       "      <td>Facebook</td>\n",
       "    </tr>\n",
       "    <tr>\n",
       "      <th>3</th>\n",
       "      <td>2012-05-23</td>\n",
       "      <td>31.370001</td>\n",
       "      <td>32.500000</td>\n",
       "      <td>31.360001</td>\n",
       "      <td>32.000000</td>\n",
       "      <td>32.000000</td>\n",
       "      <td>73600000</td>\n",
       "      <td>Facebook</td>\n",
       "    </tr>\n",
       "    <tr>\n",
       "      <th>4</th>\n",
       "      <td>2012-05-24</td>\n",
       "      <td>32.950001</td>\n",
       "      <td>33.209999</td>\n",
       "      <td>31.770000</td>\n",
       "      <td>33.029999</td>\n",
       "      <td>33.029999</td>\n",
       "      <td>50237200</td>\n",
       "      <td>Facebook</td>\n",
       "    </tr>\n",
       "  </tbody>\n",
       "</table>\n",
       "</div>"
      ],
      "text/plain": [
       "         Date       Open       High        Low      Close  Adj Close  \\\n",
       "0  2012-05-18  42.049999  45.000000  38.000000  38.230000  38.230000   \n",
       "1  2012-05-21  36.529999  36.660000  33.000000  34.029999  34.029999   \n",
       "2  2012-05-22  32.610001  33.590000  30.940001  31.000000  31.000000   \n",
       "3  2012-05-23  31.370001  32.500000  31.360001  32.000000  32.000000   \n",
       "4  2012-05-24  32.950001  33.209999  31.770000  33.029999  33.029999   \n",
       "\n",
       "      Volume   company  \n",
       "0  573576400  Facebook  \n",
       "1  168192700  Facebook  \n",
       "2  101786600  Facebook  \n",
       "3   73600000  Facebook  \n",
       "4   50237200  Facebook  "
      ]
     },
     "execution_count": 26,
     "metadata": {},
     "output_type": "execute_result"
    }
   ],
   "source": [
    "fdata=pd.read_csv('Facebook.csv')\n",
    "fdata['company']= 'Facebook'\n",
    "fdata.head(5)"
   ]
  },
  {
   "cell_type": "code",
   "execution_count": 27,
   "id": "c1160709",
   "metadata": {},
   "outputs": [
    {
     "data": {
      "text/plain": [
       "<matplotlib.legend.Legend at 0x28bd0cd8d60>"
      ]
     },
     "execution_count": 27,
     "metadata": {},
     "output_type": "execute_result"
    },
    {
     "data": {
      "image/png": "[encoded data removed]",
      "text/plain": [
       "<Figure size 432x288 with 1 Axes>"
      ]
     },
     "metadata": {
      "needs_background": "light"
     },
     "output_type": "display_data"
    }
   ],
   "source": [
    "plt.plot(fdata['Date'], fdata['Adj Close'], label='Facebook')\n",
    "plt.legend()"
   ]
  },
  {
   "cell_type": "code",
   "execution_count": 28,
   "id": "a5a1c938",
   "metadata": {},
   "outputs": [
    {
     "data": {
      "text/html": [
       "<div>\n",
       "<style scoped>\n",
       "    .dataframe tbody tr th:only-of-type {\n",
       "        vertical-align: middle;\n",
       "    }\n",
       "\n",
       "    .dataframe tbody tr th {\n",
       "        vertical-align: top;\n",
       "    }\n",
       "\n",
       "    .dataframe thead th {\n",
       "        text-align: right;\n",
       "    }\n",
       "</style>\n",
       "<table border=\"1\" class=\"dataframe\">\n",
       "  <thead>\n",
       "    <tr style=\"text-align: right;\">\n",
       "      <th></th>\n",
       "      <th>Date</th>\n",
       "      <th>Open</th>\n",
       "      <th>High</th>\n",
       "      <th>Low</th>\n",
       "      <th>Close</th>\n",
       "      <th>Adj Close</th>\n",
       "      <th>Volume</th>\n",
       "      <th>company</th>\n",
       "    </tr>\n",
       "  </thead>\n",
       "  <tbody>\n",
       "    <tr>\n",
       "      <th>0</th>\n",
       "      <td>2004-08-19</td>\n",
       "      <td>50.050049</td>\n",
       "      <td>52.082081</td>\n",
       "      <td>48.028027</td>\n",
       "      <td>50.220219</td>\n",
       "      <td>50.220219</td>\n",
       "      <td>44659000</td>\n",
       "      <td>Google</td>\n",
       "    </tr>\n",
       "    <tr>\n",
       "      <th>1</th>\n",
       "      <td>2004-08-20</td>\n",
       "      <td>50.555557</td>\n",
       "      <td>54.594593</td>\n",
       "      <td>50.300301</td>\n",
       "      <td>54.209209</td>\n",
       "      <td>54.209209</td>\n",
       "      <td>22834300</td>\n",
       "      <td>Google</td>\n",
       "    </tr>\n",
       "    <tr>\n",
       "      <th>2</th>\n",
       "      <td>2004-08-23</td>\n",
       "      <td>55.430431</td>\n",
       "      <td>56.796795</td>\n",
       "      <td>54.579578</td>\n",
       "      <td>54.754753</td>\n",
       "      <td>54.754753</td>\n",
       "      <td>18256100</td>\n",
       "      <td>Google</td>\n",
       "    </tr>\n",
       "    <tr>\n",
       "      <th>3</th>\n",
       "      <td>2004-08-24</td>\n",
       "      <td>55.675674</td>\n",
       "      <td>55.855854</td>\n",
       "      <td>51.836838</td>\n",
       "      <td>52.487488</td>\n",
       "      <td>52.487488</td>\n",
       "      <td>15247300</td>\n",
       "      <td>Google</td>\n",
       "    </tr>\n",
       "  </tbody>\n",
       "</table>\n",
       "</div>"
      ],
      "text/plain": [
       "         Date       Open       High        Low      Close  Adj Close  \\\n",
       "0  2004-08-19  50.050049  52.082081  48.028027  50.220219  50.220219   \n",
       "1  2004-08-20  50.555557  54.594593  50.300301  54.209209  54.209209   \n",
       "2  2004-08-23  55.430431  56.796795  54.579578  54.754753  54.754753   \n",
       "3  2004-08-24  55.675674  55.855854  51.836838  52.487488  52.487488   \n",
       "\n",
       "     Volume company  \n",
       "0  44659000  Google  \n",
       "1  22834300  Google  \n",
       "2  18256100  Google  \n",
       "3  15247300  Google  "
      ]
     },
     "execution_count": 28,
     "metadata": {},
     "output_type": "execute_result"
    }
   ],
   "source": [
    "Gdata=pd.read_csv('Google.csv')\n",
    "Gdata['company'] = 'Google'\n",
    "Gdata.head(4)"
   ]
  },
  {
   "cell_type": "code",
   "execution_count": 29,
   "id": "7abaeb08",
   "metadata": {},
   "outputs": [
    {
     "data": {
      "text/plain": [
       "<AxesSubplot:xlabel='Date', ylabel='Volume'>"
      ]
     },
     "execution_count": 29,
     "metadata": {},
     "output_type": "execute_result"
    },
    {
     "data": {
      "image/png": "[encoded data removed]",
      "text/plain": [
       "<Figure size 432x288 with 1 Axes>"
      ]
     },
     "metadata": {
      "needs_background": "light"
     },
     "output_type": "display_data"
    }
   ],
   "source": [
    "Ndata=pd.read_csv('Netflix.csv')\n",
    "Ndata['company'] = 'Netflix'\n",
    "Ndata.head(3)\n",
    "sns.lineplot(data=Ndata,x='Date',y='Volume')"
   ]
  },
  {
   "cell_type": "code",
   "execution_count": 30,
   "id": "01fffd85",
   "metadata": {},
   "outputs": [
    {
     "data": {
      "text/html": [
       "<div>\n",
       "<style scoped>\n",
       "    .dataframe tbody tr th:only-of-type {\n",
       "        vertical-align: middle;\n",
       "    }\n",
       "\n",
       "    .dataframe tbody tr th {\n",
       "        vertical-align: top;\n",
       "    }\n",
       "\n",
       "    .dataframe thead th {\n",
       "        text-align: right;\n",
       "    }\n",
       "</style>\n",
       "<table border=\"1\" class=\"dataframe\">\n",
       "  <thead>\n",
       "    <tr style=\"text-align: right;\">\n",
       "      <th></th>\n",
       "      <th>Date</th>\n",
       "      <th>Open</th>\n",
       "      <th>High</th>\n",
       "      <th>Low</th>\n",
       "      <th>Close</th>\n",
       "      <th>Adj Close</th>\n",
       "      <th>Volume</th>\n",
       "      <th>company</th>\n",
       "    </tr>\n",
       "  </thead>\n",
       "  <tbody>\n",
       "    <tr>\n",
       "      <th>0</th>\n",
       "      <td>2002-05-23</td>\n",
       "      <td>1.156429</td>\n",
       "      <td>1.242857</td>\n",
       "      <td>1.145714</td>\n",
       "      <td>1.196429</td>\n",
       "      <td>1.196429</td>\n",
       "      <td>104790000</td>\n",
       "      <td>Netflix</td>\n",
       "    </tr>\n",
       "    <tr>\n",
       "      <th>1</th>\n",
       "      <td>2002-05-24</td>\n",
       "      <td>1.214286</td>\n",
       "      <td>1.225000</td>\n",
       "      <td>1.197143</td>\n",
       "      <td>1.210000</td>\n",
       "      <td>1.210000</td>\n",
       "      <td>11104800</td>\n",
       "      <td>Netflix</td>\n",
       "    </tr>\n",
       "    <tr>\n",
       "      <th>2</th>\n",
       "      <td>2002-05-28</td>\n",
       "      <td>1.213571</td>\n",
       "      <td>1.232143</td>\n",
       "      <td>1.157143</td>\n",
       "      <td>1.157143</td>\n",
       "      <td>1.157143</td>\n",
       "      <td>6609400</td>\n",
       "      <td>Netflix</td>\n",
       "    </tr>\n",
       "    <tr>\n",
       "      <th>3</th>\n",
       "      <td>2002-05-29</td>\n",
       "      <td>1.164286</td>\n",
       "      <td>1.164286</td>\n",
       "      <td>1.085714</td>\n",
       "      <td>1.103571</td>\n",
       "      <td>1.103571</td>\n",
       "      <td>6757800</td>\n",
       "      <td>Netflix</td>\n",
       "    </tr>\n",
       "    <tr>\n",
       "      <th>4</th>\n",
       "      <td>2002-05-30</td>\n",
       "      <td>1.107857</td>\n",
       "      <td>1.107857</td>\n",
       "      <td>1.071429</td>\n",
       "      <td>1.071429</td>\n",
       "      <td>1.071429</td>\n",
       "      <td>10154200</td>\n",
       "      <td>Netflix</td>\n",
       "    </tr>\n",
       "    <tr>\n",
       "      <th>...</th>\n",
       "      <td>...</td>\n",
       "      <td>...</td>\n",
       "      <td>...</td>\n",
       "      <td>...</td>\n",
       "      <td>...</td>\n",
       "      <td>...</td>\n",
       "      <td>...</td>\n",
       "      <td>...</td>\n",
       "    </tr>\n",
       "    <tr>\n",
       "      <th>4036</th>\n",
       "      <td>2020-08-31</td>\n",
       "      <td>1643.569946</td>\n",
       "      <td>1644.500000</td>\n",
       "      <td>1625.329956</td>\n",
       "      <td>1629.530029</td>\n",
       "      <td>1629.530029</td>\n",
       "      <td>1321100</td>\n",
       "      <td>Google</td>\n",
       "    </tr>\n",
       "    <tr>\n",
       "      <th>4037</th>\n",
       "      <td>2020-09-01</td>\n",
       "      <td>1632.160034</td>\n",
       "      <td>1659.219971</td>\n",
       "      <td>1629.530029</td>\n",
       "      <td>1655.079956</td>\n",
       "      <td>1655.079956</td>\n",
       "      <td>1133800</td>\n",
       "      <td>Google</td>\n",
       "    </tr>\n",
       "    <tr>\n",
       "      <th>4038</th>\n",
       "      <td>2020-09-02</td>\n",
       "      <td>1668.010010</td>\n",
       "      <td>1726.099976</td>\n",
       "      <td>1660.189941</td>\n",
       "      <td>1717.390015</td>\n",
       "      <td>1717.390015</td>\n",
       "      <td>2476100</td>\n",
       "      <td>Google</td>\n",
       "    </tr>\n",
       "    <tr>\n",
       "      <th>4039</th>\n",
       "      <td>2020-09-03</td>\n",
       "      <td>1699.520020</td>\n",
       "      <td>1700.000000</td>\n",
       "      <td>1607.709961</td>\n",
       "      <td>1629.510010</td>\n",
       "      <td>1629.510010</td>\n",
       "      <td>3180200</td>\n",
       "      <td>Google</td>\n",
       "    </tr>\n",
       "    <tr>\n",
       "      <th>4040</th>\n",
       "      <td>2020-09-04</td>\n",
       "      <td>1609.000000</td>\n",
       "      <td>1634.989990</td>\n",
       "      <td>1537.970093</td>\n",
       "      <td>1581.209961</td>\n",
       "      <td>1581.209961</td>\n",
       "      <td>2792533</td>\n",
       "      <td>Google</td>\n",
       "    </tr>\n",
       "  </tbody>\n",
       "</table>\n",
       "<p>8622 rows × 8 columns</p>\n",
       "</div>"
      ],
      "text/plain": [
       "            Date         Open         High          Low        Close  \\\n",
       "0     2002-05-23     1.156429     1.242857     1.145714     1.196429   \n",
       "1     2002-05-24     1.214286     1.225000     1.197143     1.210000   \n",
       "2     2002-05-28     1.213571     1.232143     1.157143     1.157143   \n",
       "3     2002-05-29     1.164286     1.164286     1.085714     1.103571   \n",
       "4     2002-05-30     1.107857     1.107857     1.071429     1.071429   \n",
       "...          ...          ...          ...          ...          ...   \n",
       "4036  2020-08-31  1643.569946  1644.500000  1625.329956  1629.530029   \n",
       "4037  2020-09-01  1632.160034  1659.219971  1629.530029  1655.079956   \n",
       "4038  2020-09-02  1668.010010  1726.099976  1660.189941  1717.390015   \n",
       "4039  2020-09-03  1699.520020  1700.000000  1607.709961  1629.510010   \n",
       "4040  2020-09-04  1609.000000  1634.989990  1537.970093  1581.209961   \n",
       "\n",
       "        Adj Close     Volume  company  \n",
       "0        1.196429  104790000  Netflix  \n",
       "1        1.210000   11104800  Netflix  \n",
       "2        1.157143    6609400  Netflix  \n",
       "3        1.103571    6757800  Netflix  \n",
       "4        1.071429   10154200  Netflix  \n",
       "...           ...        ...      ...  \n",
       "4036  1629.530029    1321100   Google  \n",
       "4037  1655.079956    1133800   Google  \n",
       "4038  1717.390015    2476100   Google  \n",
       "4039  1629.510010    3180200   Google  \n",
       "4040  1581.209961    2792533   Google  \n",
       "\n",
       "[8622 rows x 8 columns]"
      ]
     },
     "execution_count": 30,
     "metadata": {},
     "output_type": "execute_result"
    }
   ],
   "source": [
    "final=Ndata.append(Gdata)\n",
    "final"
   ]
  },
  {
   "cell_type": "code",
   "execution_count": 31,
   "id": "15c65d58",
   "metadata": {},
   "outputs": [
    {
     "data": {
      "text/html": [
       "<div>\n",
       "<style scoped>\n",
       "    .dataframe tbody tr th:only-of-type {\n",
       "        vertical-align: middle;\n",
       "    }\n",
       "\n",
       "    .dataframe tbody tr th {\n",
       "        vertical-align: top;\n",
       "    }\n",
       "\n",
       "    .dataframe thead th {\n",
       "        text-align: right;\n",
       "    }\n",
       "</style>\n",
       "<table border=\"1\" class=\"dataframe\">\n",
       "  <thead>\n",
       "    <tr style=\"text-align: right;\">\n",
       "      <th></th>\n",
       "      <th>Date</th>\n",
       "      <th>Open</th>\n",
       "      <th>High</th>\n",
       "      <th>Low</th>\n",
       "      <th>Close</th>\n",
       "      <th>Adj Close</th>\n",
       "      <th>Volume</th>\n",
       "      <th>company</th>\n",
       "    </tr>\n",
       "  </thead>\n",
       "  <tbody>\n",
       "    <tr>\n",
       "      <th>0</th>\n",
       "      <td>2002-05-23</td>\n",
       "      <td>1.156429</td>\n",
       "      <td>1.242857</td>\n",
       "      <td>1.145714</td>\n",
       "      <td>1.196429</td>\n",
       "      <td>1.196429</td>\n",
       "      <td>104790000</td>\n",
       "      <td>Netflix</td>\n",
       "    </tr>\n",
       "    <tr>\n",
       "      <th>1</th>\n",
       "      <td>2002-05-24</td>\n",
       "      <td>1.214286</td>\n",
       "      <td>1.225000</td>\n",
       "      <td>1.197143</td>\n",
       "      <td>1.210000</td>\n",
       "      <td>1.210000</td>\n",
       "      <td>11104800</td>\n",
       "      <td>Netflix</td>\n",
       "    </tr>\n",
       "    <tr>\n",
       "      <th>2</th>\n",
       "      <td>2002-05-28</td>\n",
       "      <td>1.213571</td>\n",
       "      <td>1.232143</td>\n",
       "      <td>1.157143</td>\n",
       "      <td>1.157143</td>\n",
       "      <td>1.157143</td>\n",
       "      <td>6609400</td>\n",
       "      <td>Netflix</td>\n",
       "    </tr>\n",
       "    <tr>\n",
       "      <th>3</th>\n",
       "      <td>2002-05-29</td>\n",
       "      <td>1.164286</td>\n",
       "      <td>1.164286</td>\n",
       "      <td>1.085714</td>\n",
       "      <td>1.103571</td>\n",
       "      <td>1.103571</td>\n",
       "      <td>6757800</td>\n",
       "      <td>Netflix</td>\n",
       "    </tr>\n",
       "    <tr>\n",
       "      <th>4</th>\n",
       "      <td>2002-05-30</td>\n",
       "      <td>1.107857</td>\n",
       "      <td>1.107857</td>\n",
       "      <td>1.071429</td>\n",
       "      <td>1.071429</td>\n",
       "      <td>1.071429</td>\n",
       "      <td>10154200</td>\n",
       "      <td>Netflix</td>\n",
       "    </tr>\n",
       "    <tr>\n",
       "      <th>...</th>\n",
       "      <td>...</td>\n",
       "      <td>...</td>\n",
       "      <td>...</td>\n",
       "      <td>...</td>\n",
       "      <td>...</td>\n",
       "      <td>...</td>\n",
       "      <td>...</td>\n",
       "      <td>...</td>\n",
       "    </tr>\n",
       "    <tr>\n",
       "      <th>2071</th>\n",
       "      <td>2020-08-12</td>\n",
       "      <td>258.970001</td>\n",
       "      <td>263.899994</td>\n",
       "      <td>258.109985</td>\n",
       "      <td>259.890015</td>\n",
       "      <td>259.890015</td>\n",
       "      <td>21428300</td>\n",
       "      <td>Facebook</td>\n",
       "    </tr>\n",
       "    <tr>\n",
       "      <th>2072</th>\n",
       "      <td>2020-08-13</td>\n",
       "      <td>261.549988</td>\n",
       "      <td>265.160004</td>\n",
       "      <td>259.570007</td>\n",
       "      <td>261.299988</td>\n",
       "      <td>261.299988</td>\n",
       "      <td>17374000</td>\n",
       "      <td>Facebook</td>\n",
       "    </tr>\n",
       "    <tr>\n",
       "      <th>2073</th>\n",
       "      <td>2020-08-14</td>\n",
       "      <td>262.309998</td>\n",
       "      <td>262.649994</td>\n",
       "      <td>258.679993</td>\n",
       "      <td>261.239990</td>\n",
       "      <td>261.239990</td>\n",
       "      <td>14792700</td>\n",
       "      <td>Facebook</td>\n",
       "    </tr>\n",
       "    <tr>\n",
       "      <th>2074</th>\n",
       "      <td>2020-08-17</td>\n",
       "      <td>262.500000</td>\n",
       "      <td>264.100006</td>\n",
       "      <td>259.399994</td>\n",
       "      <td>261.160004</td>\n",
       "      <td>261.160004</td>\n",
       "      <td>13351100</td>\n",
       "      <td>Facebook</td>\n",
       "    </tr>\n",
       "    <tr>\n",
       "      <th>2075</th>\n",
       "      <td>2020-08-18</td>\n",
       "      <td>260.950012</td>\n",
       "      <td>265.149994</td>\n",
       "      <td>259.260010</td>\n",
       "      <td>262.339996</td>\n",
       "      <td>262.339996</td>\n",
       "      <td>18677500</td>\n",
       "      <td>Facebook</td>\n",
       "    </tr>\n",
       "  </tbody>\n",
       "</table>\n",
       "<p>10698 rows × 8 columns</p>\n",
       "</div>"
      ],
      "text/plain": [
       "            Date        Open        High         Low       Close   Adj Close  \\\n",
       "0     2002-05-23    1.156429    1.242857    1.145714    1.196429    1.196429   \n",
       "1     2002-05-24    1.214286    1.225000    1.197143    1.210000    1.210000   \n",
       "2     2002-05-28    1.213571    1.232143    1.157143    1.157143    1.157143   \n",
       "3     2002-05-29    1.164286    1.164286    1.085714    1.103571    1.103571   \n",
       "4     2002-05-30    1.107857    1.107857    1.071429    1.071429    1.071429   \n",
       "...          ...         ...         ...         ...         ...         ...   \n",
       "2071  2020-08-12  258.970001  263.899994  258.109985  259.890015  259.890015   \n",
       "2072  2020-08-13  261.549988  265.160004  259.570007  261.299988  261.299988   \n",
       "2073  2020-08-14  262.309998  262.649994  258.679993  261.239990  261.239990   \n",
       "2074  2020-08-17  262.500000  264.100006  259.399994  261.160004  261.160004   \n",
       "2075  2020-08-18  260.950012  265.149994  259.260010  262.339996  262.339996   \n",
       "\n",
       "         Volume   company  \n",
       "0     104790000   Netflix  \n",
       "1      11104800   Netflix  \n",
       "2       6609400   Netflix  \n",
       "3       6757800   Netflix  \n",
       "4      10154200   Netflix  \n",
       "...         ...       ...  \n",
       "2071   21428300  Facebook  \n",
       "2072   17374000  Facebook  \n",
       "2073   14792700  Facebook  \n",
       "2074   13351100  Facebook  \n",
       "2075   18677500  Facebook  \n",
       "\n",
       "[10698 rows x 8 columns]"
      ]
     },
     "execution_count": 31,
     "metadata": {},
     "output_type": "execute_result"
    }
   ],
   "source": [
    "final_1=Ndata.append([Gdata,fdata])\n",
    "final_1"
   ]
  },
  {
   "cell_type": "code",
   "execution_count": 32,
   "id": "a800e7b7",
   "metadata": {},
   "outputs": [
    {
     "name": "stdout",
     "output_type": "stream",
     "text": [
      "<class 'pandas.core.frame.DataFrame'>\n",
      "Int64Index: 10698 entries, 0 to 2075\n",
      "Data columns (total 8 columns):\n",
      " #   Column     Non-Null Count  Dtype  \n",
      "---  ------     --------------  -----  \n",
      " 0   Date       10698 non-null  object \n",
      " 1   Open       10698 non-null  float64\n",
      " 2   High       10698 non-null  float64\n",
      " 3   Low        10698 non-null  float64\n",
      " 4   Close      10698 non-null  float64\n",
      " 5   Adj Close  10698 non-null  float64\n",
      " 6   Volume     10698 non-null  int64  \n",
      " 7   company    10698 non-null  object \n",
      "dtypes: float64(5), int64(1), object(2)\n",
      "memory usage: 752.2+ KB\n"
     ]
    }
   ],
   "source": [
    "final_1.info()"
   ]
  },
  {
   "cell_type": "code",
   "execution_count": 33,
   "id": "1e422007",
   "metadata": {},
   "outputs": [
    {
     "data": {
      "text/plain": [
       "Date         False\n",
       "Open         False\n",
       "High         False\n",
       "Low          False\n",
       "Close        False\n",
       "Adj Close    False\n",
       "Volume       False\n",
       "company      False\n",
       "dtype: bool"
      ]
     },
     "execution_count": 33,
     "metadata": {},
     "output_type": "execute_result"
    }
   ],
   "source": [
    "final_1.isnull().any()"
   ]
  },
  {
   "cell_type": "code",
   "execution_count": 34,
   "id": "850a9b43",
   "metadata": {},
   "outputs": [
    {
     "data": {
      "text/plain": [
       "<AxesSubplot:xlabel='Date', ylabel='Volume'>"
      ]
     },
     "execution_count": 34,
     "metadata": {},
     "output_type": "execute_result"
    },
    {
     "data": {
      "image/png": "[encoded data removed]",
      "text/plain": [
       "<Figure size 432x288 with 1 Axes>"
      ]
     },
     "metadata": {
      "needs_background": "light"
     },
     "output_type": "display_data"
    }
   ],
   "source": [
    "sns.lineplot(data=final,x='Date',y='Volume',hue='company')"
   ]
  },
  {
   "cell_type": "code",
   "execution_count": 35,
   "id": "d30de986",
   "metadata": {},
   "outputs": [
    {
     "data": {
      "text/plain": [
       "<AxesSubplot:xlabel='Date', ylabel='Volume'>"
      ]
     },
     "execution_count": 35,
     "metadata": {},
     "output_type": "execute_result"
    },
    {
     "data": {
      "image/png": "[encoded data removed]",
      "text/plain": [
       "<Figure size 432x288 with 1 Axes>"
      ]
     },
     "metadata": {
      "needs_background": "light"
     },
     "output_type": "display_data"
    }
   ],
   "source": [
    "sns.lineplot(data=final_1,x='Date',y='Volume',hue='company')"
   ]
  },
  {
   "cell_type": "code",
   "execution_count": 36,
   "id": "d8ba68c5",
   "metadata": {},
   "outputs": [
    {
     "data": {
      "text/plain": [
       "<AxesSubplot:xlabel='Date', ylabel='Adj Close'>"
      ]
     },
     "execution_count": 36,
     "metadata": {},
     "output_type": "execute_result"
    },
    {
     "data": {
      "image/png": "[encoded data removed]",
      "text/plain": [
       "<Figure size 432x288 with 1 Axes>"
      ]
     },
     "metadata": {
      "needs_background": "light"
     },
     "output_type": "display_data"
    }
   ],
   "source": [
    "sns.lineplot(data=final_1,x='Date',y='Adj Close',hue='company')"
   ]
  },
  {
   "cell_type": "code",
   "execution_count": 37,
   "id": "4435ad27",
   "metadata": {},
   "outputs": [
    {
     "data": {
      "text/plain": [
       "<AxesSubplot:xlabel='Date', ylabel='Volume'>"
      ]
     },
     "execution_count": 37,
     "metadata": {},
     "output_type": "execute_result"
    },
    {
     "data": {
      "image/png": "[encoded data removed]",
      "text/plain": [
       "<Figure size 432x288 with 1 Axes>"
      ]
     },
     "metadata": {
      "needs_background": "light"
     },
     "output_type": "display_data"
    }
   ],
   "source": [
    "sns.scatterplot(data=final_1,x='Date',y='Volume',hue='company',style='company')"
   ]
  },
  {
   "cell_type": "code",
   "execution_count": 38,
   "id": "22a05186",
   "metadata": {},
   "outputs": [
    {
     "data": {
      "text/plain": [
       "<AxesSubplot:xlabel='Date', ylabel='Adj Close'>"
      ]
     },
     "execution_count": 38,
     "metadata": {},
     "output_type": "execute_result"
    },
    {
     "data": {
      "image/png": "[encoded data removed]",
      "text/plain": [
       "<Figure size 432x288 with 1 Axes>"
      ]
     },
     "metadata": {
      "needs_background": "light"
     },
     "output_type": "display_data"
    }
   ],
   "source": [
    "sns.scatterplot(data=final_1,x='Date',y='Adj Close',hue='company',style='company')"
   ]
  },
  {
   "cell_type": "code",
   "execution_count": 39,
   "id": "405f0da7",
   "metadata": {},
   "outputs": [
    {
     "data": {
      "text/plain": [
       "Open         0.697460\n",
       "High         0.699818\n",
       "Low          0.695356\n",
       "Close        0.697601\n",
       "Adj Close    0.697601\n",
       "Volume       0.142471\n",
       "dtype: float64"
      ]
     },
     "execution_count": 39,
     "metadata": {},
     "output_type": "execute_result"
    }
   ],
   "source": [
    "fdata.corrwith(Ndata, axis = 0)"
   ]
  },
  {
   "cell_type": "code",
   "execution_count": 40,
   "id": "9ace3603",
   "metadata": {},
   "outputs": [
    {
     "data": {
      "text/html": [
       "<div>\n",
       "<style scoped>\n",
       "    .dataframe tbody tr th:only-of-type {\n",
       "        vertical-align: middle;\n",
       "    }\n",
       "\n",
       "    .dataframe tbody tr th {\n",
       "        vertical-align: top;\n",
       "    }\n",
       "\n",
       "    .dataframe thead th {\n",
       "        text-align: right;\n",
       "    }\n",
       "</style>\n",
       "<table border=\"1\" class=\"dataframe\">\n",
       "  <thead>\n",
       "    <tr style=\"text-align: right;\">\n",
       "      <th></th>\n",
       "      <th>Open</th>\n",
       "      <th>High</th>\n",
       "      <th>Low</th>\n",
       "      <th>Close</th>\n",
       "      <th>Adj Close</th>\n",
       "      <th>Volume</th>\n",
       "    </tr>\n",
       "  </thead>\n",
       "  <tbody>\n",
       "    <tr>\n",
       "      <th>Open</th>\n",
       "      <td>1.000000</td>\n",
       "      <td>0.999932</td>\n",
       "      <td>0.999911</td>\n",
       "      <td>0.999848</td>\n",
       "      <td>0.999848</td>\n",
       "      <td>-0.360281</td>\n",
       "    </tr>\n",
       "    <tr>\n",
       "      <th>High</th>\n",
       "      <td>0.999932</td>\n",
       "      <td>1.000000</td>\n",
       "      <td>0.999882</td>\n",
       "      <td>0.999920</td>\n",
       "      <td>0.999920</td>\n",
       "      <td>-0.359611</td>\n",
       "    </tr>\n",
       "    <tr>\n",
       "      <th>Low</th>\n",
       "      <td>0.999911</td>\n",
       "      <td>0.999882</td>\n",
       "      <td>1.000000</td>\n",
       "      <td>0.999926</td>\n",
       "      <td>0.999926</td>\n",
       "      <td>-0.361025</td>\n",
       "    </tr>\n",
       "    <tr>\n",
       "      <th>Close</th>\n",
       "      <td>0.999848</td>\n",
       "      <td>0.999920</td>\n",
       "      <td>0.999926</td>\n",
       "      <td>1.000000</td>\n",
       "      <td>1.000000</td>\n",
       "      <td>-0.360295</td>\n",
       "    </tr>\n",
       "    <tr>\n",
       "      <th>Adj Close</th>\n",
       "      <td>0.999848</td>\n",
       "      <td>0.999920</td>\n",
       "      <td>0.999926</td>\n",
       "      <td>1.000000</td>\n",
       "      <td>1.000000</td>\n",
       "      <td>-0.360295</td>\n",
       "    </tr>\n",
       "    <tr>\n",
       "      <th>Volume</th>\n",
       "      <td>-0.360281</td>\n",
       "      <td>-0.359611</td>\n",
       "      <td>-0.361025</td>\n",
       "      <td>-0.360295</td>\n",
       "      <td>-0.360295</td>\n",
       "      <td>1.000000</td>\n",
       "    </tr>\n",
       "  </tbody>\n",
       "</table>\n",
       "</div>"
      ],
      "text/plain": [
       "               Open      High       Low     Close  Adj Close    Volume\n",
       "Open       1.000000  0.999932  0.999911  0.999848   0.999848 -0.360281\n",
       "High       0.999932  1.000000  0.999882  0.999920   0.999920 -0.359611\n",
       "Low        0.999911  0.999882  1.000000  0.999926   0.999926 -0.361025\n",
       "Close      0.999848  0.999920  0.999926  1.000000   1.000000 -0.360295\n",
       "Adj Close  0.999848  0.999920  0.999926  1.000000   1.000000 -0.360295\n",
       "Volume    -0.360281 -0.359611 -0.361025 -0.360295  -0.360295  1.000000"
      ]
     },
     "execution_count": 40,
     "metadata": {},
     "output_type": "execute_result"
    }
   ],
   "source": [
    "final_1.corr()"
   ]
  },
  {
   "cell_type": "code",
   "execution_count": 41,
   "id": "80bd0388",
   "metadata": {},
   "outputs": [
    {
     "data": {
      "text/plain": [
       "<AxesSubplot:>"
      ]
     },
     "execution_count": 41,
     "metadata": {},
     "output_type": "execute_result"
    },
    {
     "data": {
      "image/png": "[encoded data removed]",
      "text/plain": [
       "<Figure size 432x288 with 2 Axes>"
      ]
     },
     "metadata": {
      "needs_background": "light"
     },
     "output_type": "display_data"
    }
   ],
   "source": [
    "sns.heatmap(final_1.corr(), annot = True, fmt='.2g',cmap= 'coolwarm')"
   ]
  },
  {
   "cell_type": "code",
   "execution_count": 42,
   "id": "67d9941c",
   "metadata": {},
   "outputs": [
    {
     "data": {
      "text/plain": [
       "<AxesSubplot:xlabel='Volume', ylabel='Count'>"
      ]
     },
     "execution_count": 42,
     "metadata": {},
     "output_type": "execute_result"
    },
    {
     "data": {
      "image/png": "[encoded data removed]",
      "text/plain": [
       "<Figure size 432x288 with 1 Axes>"
      ]
     },
     "metadata": {
      "needs_background": "light"
     },
     "output_type": "display_data"
    }
   ],
   "source": [
    "sns.histplot(data = final_1, x=\"Volume\")"
   ]
  },
  {
   "cell_type": "code",
   "execution_count": 43,
   "id": "9a2789ac",
   "metadata": {},
   "outputs": [
    {
     "data": {
      "text/plain": [
       "<AxesSubplot:xlabel='Adj Close', ylabel='Count'>"
      ]
     },
     "execution_count": 43,
     "metadata": {},
     "output_type": "execute_result"
    },
    {
     "data": {
      "image/png": "[encoded data removed]",
      "text/plain": [
       "<Figure size 432x288 with 1 Axes>"
      ]
     },
     "metadata": {
      "needs_background": "light"
     },
     "output_type": "display_data"
    }
   ],
   "source": [
    "sns.histplot(data = final_1, x=\"Adj Close\")"
   ]
  },
  {
   "cell_type": "code",
   "execution_count": 70,
   "id": "ac4586cc",
   "metadata": {},
   "outputs": [
    {
     "data": {
      "text/plain": [
       "<AxesSubplot:>"
      ]
     },
     "execution_count": 70,
     "metadata": {},
     "output_type": "execute_result"
    },
    {
     "data": {
      "image/png": "[encoded data removed]",
      "text/plain": [
       "<Figure size 432x288 with 1 Axes>"
      ]
     },
     "metadata": {
      "needs_background": "light"
     },
     "output_type": "display_data"
    }
   ],
   "source": [
    "sns.barplot(data=final_1)"
   ]
  },
  {
   "cell_type": "code",
   "execution_count": 44,
   "id": "28195fc5",
   "metadata": {},
   "outputs": [
    {
     "data": {
      "text/html": [
       "<div>\n",
       "<style scoped>\n",
       "    .dataframe tbody tr th:only-of-type {\n",
       "        vertical-align: middle;\n",
       "    }\n",
       "\n",
       "    .dataframe tbody tr th {\n",
       "        vertical-align: top;\n",
       "    }\n",
       "\n",
       "    .dataframe thead th {\n",
       "        text-align: right;\n",
       "    }\n",
       "</style>\n",
       "<table border=\"1\" class=\"dataframe\">\n",
       "  <thead>\n",
       "    <tr style=\"text-align: right;\">\n",
       "      <th></th>\n",
       "      <th>Date</th>\n",
       "      <th>Open</th>\n",
       "      <th>High</th>\n",
       "      <th>Low</th>\n",
       "      <th>Close</th>\n",
       "      <th>Adj Close</th>\n",
       "      <th>Volume</th>\n",
       "      <th>company</th>\n",
       "    </tr>\n",
       "  </thead>\n",
       "  <tbody>\n",
       "    <tr>\n",
       "      <th>2071</th>\n",
       "      <td>2020-08-12</td>\n",
       "      <td>258.970001</td>\n",
       "      <td>263.899994</td>\n",
       "      <td>258.109985</td>\n",
       "      <td>259.890015</td>\n",
       "      <td>259.890015</td>\n",
       "      <td>21428300</td>\n",
       "      <td>Facebook</td>\n",
       "    </tr>\n",
       "    <tr>\n",
       "      <th>2072</th>\n",
       "      <td>2020-08-13</td>\n",
       "      <td>261.549988</td>\n",
       "      <td>265.160004</td>\n",
       "      <td>259.570007</td>\n",
       "      <td>261.299988</td>\n",
       "      <td>261.299988</td>\n",
       "      <td>17374000</td>\n",
       "      <td>Facebook</td>\n",
       "    </tr>\n",
       "    <tr>\n",
       "      <th>2073</th>\n",
       "      <td>2020-08-14</td>\n",
       "      <td>262.309998</td>\n",
       "      <td>262.649994</td>\n",
       "      <td>258.679993</td>\n",
       "      <td>261.239990</td>\n",
       "      <td>261.239990</td>\n",
       "      <td>14792700</td>\n",
       "      <td>Facebook</td>\n",
       "    </tr>\n",
       "    <tr>\n",
       "      <th>2074</th>\n",
       "      <td>2020-08-17</td>\n",
       "      <td>262.500000</td>\n",
       "      <td>264.100006</td>\n",
       "      <td>259.399994</td>\n",
       "      <td>261.160004</td>\n",
       "      <td>261.160004</td>\n",
       "      <td>13351100</td>\n",
       "      <td>Facebook</td>\n",
       "    </tr>\n",
       "    <tr>\n",
       "      <th>2075</th>\n",
       "      <td>2020-08-18</td>\n",
       "      <td>260.950012</td>\n",
       "      <td>265.149994</td>\n",
       "      <td>259.260010</td>\n",
       "      <td>262.339996</td>\n",
       "      <td>262.339996</td>\n",
       "      <td>18677500</td>\n",
       "      <td>Facebook</td>\n",
       "    </tr>\n",
       "  </tbody>\n",
       "</table>\n",
       "</div>"
      ],
      "text/plain": [
       "            Date        Open        High         Low       Close   Adj Close  \\\n",
       "2071  2020-08-12  258.970001  263.899994  258.109985  259.890015  259.890015   \n",
       "2072  2020-08-13  261.549988  265.160004  259.570007  261.299988  261.299988   \n",
       "2073  2020-08-14  262.309998  262.649994  258.679993  261.239990  261.239990   \n",
       "2074  2020-08-17  262.500000  264.100006  259.399994  261.160004  261.160004   \n",
       "2075  2020-08-18  260.950012  265.149994  259.260010  262.339996  262.339996   \n",
       "\n",
       "        Volume   company  \n",
       "2071  21428300  Facebook  \n",
       "2072  17374000  Facebook  \n",
       "2073  14792700  Facebook  \n",
       "2074  13351100  Facebook  \n",
       "2075  18677500  Facebook  "
      ]
     },
     "execution_count": 44,
     "metadata": {},
     "output_type": "execute_result"
    }
   ],
   "source": [
    "final_1.tail()"
   ]
  },
  {
   "cell_type": "code",
   "execution_count": 45,
   "id": "a700e978",
   "metadata": {},
   "outputs": [
    {
     "data": {
      "text/plain": [
       "<AxesSubplot:xlabel='Date', ylabel='Volume'>"
      ]
     },
     "execution_count": 45,
     "metadata": {},
     "output_type": "execute_result"
    },
    {
     "data": {
      "image/png": "[encoded data removed]",
      "text/plain": [
       "<Figure size 432x288 with 1 Axes>"
      ]
     },
     "metadata": {
      "needs_background": "light"
     },
     "output_type": "display_data"
    }
   ],
   "source": [
    "sns.barplot(data=final_1,x='Date',y='Volume',hue='company')"
   ]
  },
  {
   "cell_type": "code",
   "execution_count": null,
   "id": "a1a2e356",
   "metadata": {},
   "outputs": [],
   "source": []
  }
 ],
 "metadata": {
  "kernelspec": {
   "display_name": "Python 3",
   "language": "python",
   "name": "python3"
  },
  "language_info": {
   "codemirror_mode": {
    "name": "ipython",
    "version": 3
   },
   "file_extension": ".py",
   "mimetype": "text/x-python",
   "name": "python",
   "nbconvert_exporter": "python",
   "pygments_lexer": "ipython3",
   "version": "3.9.5"
  }
 },
 "nbformat": 4,
 "nbformat_minor": 5
}
