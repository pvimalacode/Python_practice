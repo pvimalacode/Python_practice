{
 "cells": [
  {
   "source": [
    "Q.2 [4 marks] <br>\n",
    "Your program does the following:<br>\n",
    "Use the string slicing and concatenation techniques to produce the following string:<br>\n",
    "Machine learning with python<br>\n",
    "Your input is: cvM achiNe,Lear ningKowithisPyt:Hon<br>"
   ],
   "cell_type": "markdown",
   "metadata": {}
  },
  {
   "cell_type": "code",
   "execution_count": 1,
   "id": "5b880b3b",
   "metadata": {},
   "outputs": [],
   "source": [
    "#Question 2 : By using string slicing and concatenation techniques to produce the following string\n",
    "\n",
    "input=\"cvMachiNe,LearningkowithisPyt:Hon\"\n",
    "input1=input[2:7]       #string slicing\n",
    "l=input[7].lower()      #changing machiN into lower case\n",
    "k=input[8]\n",
    "in1=input1+l+k          #string concatenation \n",
    "n=input[10:18]          #string slicing\n",
    "in2=n.lower()           #converting in to lower case\n",
    "in3=input[20:24]        #string slicing\n",
    "m=input[26:29]          #string slicing\n",
    "in4=m.lower()           #converting in to lower case\n",
    "in5=input[30:33]        #string slicing\n",
    "in6=in5.lower()         #converting in to lower case\n",
    "output=in1+\" \"+in2+\" \"+in3+\" \"+in4+in6  #string concatenation for final output\n"
   ]
  },
  {
   "cell_type": "code",
   "execution_count": 2,
   "id": "e0ce6815",
   "metadata": {},
   "outputs": [
    {
     "output_type": "execute_result",
     "data": {
      "text/plain": [
       "'Machine learning with python'"
      ]
     },
     "metadata": {},
     "execution_count": 2
    }
   ],
   "source": [
    "output"
   ]
  },
  {
   "cell_type": "code",
   "execution_count": null,
   "id": "87996816",
   "metadata": {},
   "outputs": [],
   "source": []
  }
 ],
 "metadata": {
  "kernelspec": {
   "name": "python395jvsc74a57bd0ac59ebe37160ed0dfa835113d9b8498d9f09ceb179beaac4002f036b9467c963",
   "display_name": "Python 3.9.5 64-bit"
  },
  "language_info": {
   "codemirror_mode": {
    "name": "ipython",
    "version": 3
   },
   "file_extension": ".py",
   "mimetype": "text/x-python",
   "name": "python",
   "nbconvert_exporter": "python",
   "pygments_lexer": "ipython3",
   "version": "3.9.5"
  },
  "metadata": {
   "interpreter": {
    "hash": "ac59ebe37160ed0dfa835113d9b8498d9f09ceb179beaac4002f036b9467c963"
   }
  }
 },
 "nbformat": 4,
 "nbformat_minor": 5
}