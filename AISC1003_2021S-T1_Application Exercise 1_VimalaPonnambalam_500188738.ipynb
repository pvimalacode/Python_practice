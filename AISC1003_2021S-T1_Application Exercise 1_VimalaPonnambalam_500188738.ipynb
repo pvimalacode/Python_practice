{
 "cells": [
  {
   "cell_type": "markdown",
   "metadata": {},
   "source": [
    "<h4> Add Libraries and importing diabeties datasets"
   ]
  },
  {
   "cell_type": "code",
   "execution_count": 78,
   "metadata": {},
   "outputs": [],
   "source": [
    "import sklearn\r\n",
    "from sklearn import datasets\r\n",
    "from sklearn.linear_model import LinearRegression\r\n",
    "from sklearn.model_selection import train_test_split\r\n",
    "from sklearn.metrics import mean_squared_error, r2_score\r\n"
   ]
  },
  {
   "cell_type": "markdown",
   "metadata": {},
   "source": [
    "<h4> <p>Add libraries for data analysis \r\n",
    "\r\n",
    "loading dataset"
   ]
  },
  {
   "cell_type": "code",
   "execution_count": 79,
   "metadata": {},
   "outputs": [
    {
     "data": {
      "text/plain": [
       "sklearn.utils.Bunch"
      ]
     },
     "execution_count": 79,
     "metadata": {},
     "output_type": "execute_result"
    }
   ],
   "source": [
    "import pandas as pd\r\n",
    "import numpy as np\r\n",
    "from sklearn.datasets import load_diabetes\r\n",
    "diabeties = load_diabetes()\r\n",
    "type(diabeties)"
   ]
  },
  {
   "cell_type": "markdown",
   "metadata": {},
   "source": [
    "<h4> Learn about the diabeties dataset\r\n",
    "\r\n",
    "The features are scaled by standard diviation method\r\n",
    "\r\n",
    "1. Target: Measure of disease 1 year after baseline\r\n",
    "\r\n",
    "2. features: \r\n",
    "    1.  Age\r\n",
    "    2.  Sex\r\n",
    "    3.  BMI\r\n",
    "    4.  BP\r\n",
    "    5.  Total Serum Cholesterol\r\n",
    "    6.  Low Density Lipo-Protiens\r\n",
    "    7.  High Density Lipo-Protiens\r\n",
    "    8.  Total cholesterol\r\n",
    "    9.  log(Serum Triglyceroids)\r\n",
    "    10. Blood Sugar "
   ]
  },
  {
   "cell_type": "code",
   "execution_count": 80,
   "metadata": {},
   "outputs": [
    {
     "name": "stdout",
     "output_type": "stream",
     "text": [
      ".. _diabetes_dataset:\n",
      "\n",
      "Diabetes dataset\n",
      "----------------\n",
      "\n",
      "Ten baseline variables, age, sex, body mass index, average blood\n",
      "pressure, and six blood serum measurements were obtained for each of n =\n",
      "442 diabetes patients, as well as the response of interest, a\n",
      "quantitative measure of disease progression one year after baseline.\n",
      "\n",
      "**Data Set Characteristics:**\n",
      "\n",
      "  :Number of Instances: 442\n",
      "\n",
      "  :Number of Attributes: First 10 columns are numeric predictive values\n",
      "\n",
      "  :Target: Column 11 is a quantitative measure of disease progression one year after baseline\n",
      "\n",
      "  :Attribute Information:\n",
      "      - age     age in years\n",
      "      - sex\n",
      "      - bmi     body mass index\n",
      "      - bp      average blood pressure\n",
      "      - s1      tc, total serum cholesterol\n",
      "      - s2      ldl, low-density lipoproteins\n",
      "      - s3      hdl, high-density lipoproteins\n",
      "      - s4      tch, total cholesterol / HDL\n",
      "      - s5      ltg, possibly log of serum triglycerides level\n",
      "      - s6      glu, blood sugar level\n",
      "\n",
      "Note: Each of these 10 feature variables have been mean centered and scaled by the standard deviation times `n_samples` (i.e. the sum of squares of each column totals 1).\n",
      "\n",
      "Source URL:\n",
      "https://www4.stat.ncsu.edu/~boos/var.select/diabetes.html\n",
      "\n",
      "For more information see:\n",
      "Bradley Efron, Trevor Hastie, Iain Johnstone and Robert Tibshirani (2004) \"Least Angle Regression,\" Annals of Statistics (with discussion), 407-499.\n",
      "(https://web.stanford.edu/~hastie/Papers/LARS/LeastAngle_2002.pdf)\n"
     ]
    }
   ],
   "source": [
    "print(diabeties.DESCR)"
   ]
  },
  {
   "cell_type": "markdown",
   "metadata": {},
   "source": [
    "<h4> The Feature names are different as below"
   ]
  },
  {
   "cell_type": "code",
   "execution_count": null,
   "metadata": {},
   "outputs": [],
   "source": []
  },
  {
   "cell_type": "code",
   "execution_count": 81,
   "metadata": {},
   "outputs": [
    {
     "data": {
      "text/plain": [
       "['age', 'sex', 'bmi', 'bp', 's1', 's2', 's3', 's4', 's5', 's6']"
      ]
     },
     "execution_count": 81,
     "metadata": {},
     "output_type": "execute_result"
    }
   ],
   "source": [
    "diabeties.feature_names"
   ]
  },
  {
   "cell_type": "markdown",
   "metadata": {},
   "source": [
    "<h4> \r\n",
    "creating DataFrame\r\n",
    "Adding columns names to the dataframe"
   ]
  },
  {
   "cell_type": "code",
   "execution_count": 82,
   "metadata": {},
   "outputs": [
    {
     "data": {
      "text/html": [
       "<div>\n",
       "<style scoped>\n",
       "    .dataframe tbody tr th:only-of-type {\n",
       "        vertical-align: middle;\n",
       "    }\n",
       "\n",
       "    .dataframe tbody tr th {\n",
       "        vertical-align: top;\n",
       "    }\n",
       "\n",
       "    .dataframe thead th {\n",
       "        text-align: right;\n",
       "    }\n",
       "</style>\n",
       "<table border=\"1\" class=\"dataframe\">\n",
       "  <thead>\n",
       "    <tr style=\"text-align: right;\">\n",
       "      <th></th>\n",
       "      <th>Age</th>\n",
       "      <th>Gender</th>\n",
       "      <th>BMI</th>\n",
       "      <th>BP</th>\n",
       "      <th>Tot_Serum_Cholesterol</th>\n",
       "      <th>Low_Density_LipoProteins</th>\n",
       "      <th>High_Density_LipoProteins</th>\n",
       "      <th>Tot_Cholesterol</th>\n",
       "      <th>Log_Serum_Triglyserides</th>\n",
       "      <th>Blood_Sugar_Level</th>\n",
       "      <th>target</th>\n",
       "    </tr>\n",
       "  </thead>\n",
       "  <tbody>\n",
       "    <tr>\n",
       "      <th>0</th>\n",
       "      <td>0.038076</td>\n",
       "      <td>0.050680</td>\n",
       "      <td>0.061696</td>\n",
       "      <td>0.021872</td>\n",
       "      <td>-0.044223</td>\n",
       "      <td>-0.034821</td>\n",
       "      <td>-0.043401</td>\n",
       "      <td>-0.002592</td>\n",
       "      <td>0.019908</td>\n",
       "      <td>-0.017646</td>\n",
       "      <td>151.0</td>\n",
       "    </tr>\n",
       "    <tr>\n",
       "      <th>1</th>\n",
       "      <td>-0.001882</td>\n",
       "      <td>-0.044642</td>\n",
       "      <td>-0.051474</td>\n",
       "      <td>-0.026328</td>\n",
       "      <td>-0.008449</td>\n",
       "      <td>-0.019163</td>\n",
       "      <td>0.074412</td>\n",
       "      <td>-0.039493</td>\n",
       "      <td>-0.068330</td>\n",
       "      <td>-0.092204</td>\n",
       "      <td>75.0</td>\n",
       "    </tr>\n",
       "    <tr>\n",
       "      <th>2</th>\n",
       "      <td>0.085299</td>\n",
       "      <td>0.050680</td>\n",
       "      <td>0.044451</td>\n",
       "      <td>-0.005671</td>\n",
       "      <td>-0.045599</td>\n",
       "      <td>-0.034194</td>\n",
       "      <td>-0.032356</td>\n",
       "      <td>-0.002592</td>\n",
       "      <td>0.002864</td>\n",
       "      <td>-0.025930</td>\n",
       "      <td>141.0</td>\n",
       "    </tr>\n",
       "    <tr>\n",
       "      <th>3</th>\n",
       "      <td>-0.089063</td>\n",
       "      <td>-0.044642</td>\n",
       "      <td>-0.011595</td>\n",
       "      <td>-0.036656</td>\n",
       "      <td>0.012191</td>\n",
       "      <td>0.024991</td>\n",
       "      <td>-0.036038</td>\n",
       "      <td>0.034309</td>\n",
       "      <td>0.022692</td>\n",
       "      <td>-0.009362</td>\n",
       "      <td>206.0</td>\n",
       "    </tr>\n",
       "    <tr>\n",
       "      <th>4</th>\n",
       "      <td>0.005383</td>\n",
       "      <td>-0.044642</td>\n",
       "      <td>-0.036385</td>\n",
       "      <td>0.021872</td>\n",
       "      <td>0.003935</td>\n",
       "      <td>0.015596</td>\n",
       "      <td>0.008142</td>\n",
       "      <td>-0.002592</td>\n",
       "      <td>-0.031991</td>\n",
       "      <td>-0.046641</td>\n",
       "      <td>135.0</td>\n",
       "    </tr>\n",
       "  </tbody>\n",
       "</table>\n",
       "</div>"
      ],
      "text/plain": [
       "        Age    Gender       BMI        BP  Tot_Serum_Cholesterol  \\\n",
       "0  0.038076  0.050680  0.061696  0.021872              -0.044223   \n",
       "1 -0.001882 -0.044642 -0.051474 -0.026328              -0.008449   \n",
       "2  0.085299  0.050680  0.044451 -0.005671              -0.045599   \n",
       "3 -0.089063 -0.044642 -0.011595 -0.036656               0.012191   \n",
       "4  0.005383 -0.044642 -0.036385  0.021872               0.003935   \n",
       "\n",
       "   Low_Density_LipoProteins  High_Density_LipoProteins  Tot_Cholesterol  \\\n",
       "0                 -0.034821                  -0.043401        -0.002592   \n",
       "1                 -0.019163                   0.074412        -0.039493   \n",
       "2                 -0.034194                  -0.032356        -0.002592   \n",
       "3                  0.024991                  -0.036038         0.034309   \n",
       "4                  0.015596                   0.008142        -0.002592   \n",
       "\n",
       "   Log_Serum_Triglyserides  Blood_Sugar_Level  target  \n",
       "0                 0.019908          -0.017646   151.0  \n",
       "1                -0.068330          -0.092204    75.0  \n",
       "2                 0.002864          -0.025930   141.0  \n",
       "3                 0.022692          -0.009362   206.0  \n",
       "4                -0.031991          -0.046641   135.0  "
      ]
     },
     "execution_count": 82,
     "metadata": {},
     "output_type": "execute_result"
    }
   ],
   "source": [
    "df=pd.DataFrame(diabeties.data)\r\n",
    "df.columns=diabeties.feature_names\r\n",
    "df['target'] = diabeties['target']\r\n",
    "df.rename(columns = {'s1' : 'Tot_Serum_Cholesterol', 's2' : 'Low_Density_LipoProteins', 's3':'High_Density_LipoProteins',\\\r\n",
    "    's4':'Tot_Cholesterol','s5':'Log_Serum_Triglyserides','s6':'Blood_Sugar_Level','age':'Age','sex':'Gender',\\\r\n",
    "        'bmi':'BMI','bp':'BP'}, inplace = True)\r\n",
    "\r\n",
    "df.head()"
   ]
  },
  {
   "cell_type": "markdown",
   "metadata": {},
   "source": [
    "<h4> There are no null values\r\n",
    "\r\n",
    "Size is 442 X 10"
   ]
  },
  {
   "cell_type": "code",
   "execution_count": 83,
   "metadata": {},
   "outputs": [
    {
     "data": {
      "text/html": [
       "<div>\n",
       "<style scoped>\n",
       "    .dataframe tbody tr th:only-of-type {\n",
       "        vertical-align: middle;\n",
       "    }\n",
       "\n",
       "    .dataframe tbody tr th {\n",
       "        vertical-align: top;\n",
       "    }\n",
       "\n",
       "    .dataframe thead th {\n",
       "        text-align: right;\n",
       "    }\n",
       "</style>\n",
       "<table border=\"1\" class=\"dataframe\">\n",
       "  <thead>\n",
       "    <tr style=\"text-align: right;\">\n",
       "      <th></th>\n",
       "      <th>Age</th>\n",
       "      <th>Gender</th>\n",
       "      <th>BMI</th>\n",
       "      <th>BP</th>\n",
       "      <th>Tot_Serum_Cholesterol</th>\n",
       "      <th>Low_Density_LipoProteins</th>\n",
       "      <th>High_Density_LipoProteins</th>\n",
       "      <th>Tot_Cholesterol</th>\n",
       "      <th>Log_Serum_Triglyserides</th>\n",
       "      <th>Blood_Sugar_Level</th>\n",
       "      <th>target</th>\n",
       "    </tr>\n",
       "  </thead>\n",
       "  <tbody>\n",
       "    <tr>\n",
       "      <th>count</th>\n",
       "      <td>4.420000e+02</td>\n",
       "      <td>4.420000e+02</td>\n",
       "      <td>4.420000e+02</td>\n",
       "      <td>4.420000e+02</td>\n",
       "      <td>4.420000e+02</td>\n",
       "      <td>4.420000e+02</td>\n",
       "      <td>4.420000e+02</td>\n",
       "      <td>4.420000e+02</td>\n",
       "      <td>4.420000e+02</td>\n",
       "      <td>4.420000e+02</td>\n",
       "      <td>442.000000</td>\n",
       "    </tr>\n",
       "    <tr>\n",
       "      <th>mean</th>\n",
       "      <td>-3.639623e-16</td>\n",
       "      <td>1.309912e-16</td>\n",
       "      <td>-8.013951e-16</td>\n",
       "      <td>1.289818e-16</td>\n",
       "      <td>-9.042540e-17</td>\n",
       "      <td>1.301121e-16</td>\n",
       "      <td>-4.563971e-16</td>\n",
       "      <td>3.863174e-16</td>\n",
       "      <td>-3.848103e-16</td>\n",
       "      <td>-3.398488e-16</td>\n",
       "      <td>152.133484</td>\n",
       "    </tr>\n",
       "    <tr>\n",
       "      <th>std</th>\n",
       "      <td>4.761905e-02</td>\n",
       "      <td>4.761905e-02</td>\n",
       "      <td>4.761905e-02</td>\n",
       "      <td>4.761905e-02</td>\n",
       "      <td>4.761905e-02</td>\n",
       "      <td>4.761905e-02</td>\n",
       "      <td>4.761905e-02</td>\n",
       "      <td>4.761905e-02</td>\n",
       "      <td>4.761905e-02</td>\n",
       "      <td>4.761905e-02</td>\n",
       "      <td>77.093005</td>\n",
       "    </tr>\n",
       "    <tr>\n",
       "      <th>min</th>\n",
       "      <td>-1.072256e-01</td>\n",
       "      <td>-4.464164e-02</td>\n",
       "      <td>-9.027530e-02</td>\n",
       "      <td>-1.123996e-01</td>\n",
       "      <td>-1.267807e-01</td>\n",
       "      <td>-1.156131e-01</td>\n",
       "      <td>-1.023071e-01</td>\n",
       "      <td>-7.639450e-02</td>\n",
       "      <td>-1.260974e-01</td>\n",
       "      <td>-1.377672e-01</td>\n",
       "      <td>25.000000</td>\n",
       "    </tr>\n",
       "    <tr>\n",
       "      <th>25%</th>\n",
       "      <td>-3.729927e-02</td>\n",
       "      <td>-4.464164e-02</td>\n",
       "      <td>-3.422907e-02</td>\n",
       "      <td>-3.665645e-02</td>\n",
       "      <td>-3.424784e-02</td>\n",
       "      <td>-3.035840e-02</td>\n",
       "      <td>-3.511716e-02</td>\n",
       "      <td>-3.949338e-02</td>\n",
       "      <td>-3.324879e-02</td>\n",
       "      <td>-3.317903e-02</td>\n",
       "      <td>87.000000</td>\n",
       "    </tr>\n",
       "    <tr>\n",
       "      <th>50%</th>\n",
       "      <td>5.383060e-03</td>\n",
       "      <td>-4.464164e-02</td>\n",
       "      <td>-7.283766e-03</td>\n",
       "      <td>-5.670611e-03</td>\n",
       "      <td>-4.320866e-03</td>\n",
       "      <td>-3.819065e-03</td>\n",
       "      <td>-6.584468e-03</td>\n",
       "      <td>-2.592262e-03</td>\n",
       "      <td>-1.947634e-03</td>\n",
       "      <td>-1.077698e-03</td>\n",
       "      <td>140.500000</td>\n",
       "    </tr>\n",
       "    <tr>\n",
       "      <th>75%</th>\n",
       "      <td>3.807591e-02</td>\n",
       "      <td>5.068012e-02</td>\n",
       "      <td>3.124802e-02</td>\n",
       "      <td>3.564384e-02</td>\n",
       "      <td>2.835801e-02</td>\n",
       "      <td>2.984439e-02</td>\n",
       "      <td>2.931150e-02</td>\n",
       "      <td>3.430886e-02</td>\n",
       "      <td>3.243323e-02</td>\n",
       "      <td>2.791705e-02</td>\n",
       "      <td>211.500000</td>\n",
       "    </tr>\n",
       "    <tr>\n",
       "      <th>max</th>\n",
       "      <td>1.107267e-01</td>\n",
       "      <td>5.068012e-02</td>\n",
       "      <td>1.705552e-01</td>\n",
       "      <td>1.320442e-01</td>\n",
       "      <td>1.539137e-01</td>\n",
       "      <td>1.987880e-01</td>\n",
       "      <td>1.811791e-01</td>\n",
       "      <td>1.852344e-01</td>\n",
       "      <td>1.335990e-01</td>\n",
       "      <td>1.356118e-01</td>\n",
       "      <td>346.000000</td>\n",
       "    </tr>\n",
       "  </tbody>\n",
       "</table>\n",
       "</div>"
      ],
      "text/plain": [
       "                Age        Gender           BMI            BP  \\\n",
       "count  4.420000e+02  4.420000e+02  4.420000e+02  4.420000e+02   \n",
       "mean  -3.639623e-16  1.309912e-16 -8.013951e-16  1.289818e-16   \n",
       "std    4.761905e-02  4.761905e-02  4.761905e-02  4.761905e-02   \n",
       "min   -1.072256e-01 -4.464164e-02 -9.027530e-02 -1.123996e-01   \n",
       "25%   -3.729927e-02 -4.464164e-02 -3.422907e-02 -3.665645e-02   \n",
       "50%    5.383060e-03 -4.464164e-02 -7.283766e-03 -5.670611e-03   \n",
       "75%    3.807591e-02  5.068012e-02  3.124802e-02  3.564384e-02   \n",
       "max    1.107267e-01  5.068012e-02  1.705552e-01  1.320442e-01   \n",
       "\n",
       "       Tot_Serum_Cholesterol  Low_Density_LipoProteins  \\\n",
       "count           4.420000e+02              4.420000e+02   \n",
       "mean           -9.042540e-17              1.301121e-16   \n",
       "std             4.761905e-02              4.761905e-02   \n",
       "min            -1.267807e-01             -1.156131e-01   \n",
       "25%            -3.424784e-02             -3.035840e-02   \n",
       "50%            -4.320866e-03             -3.819065e-03   \n",
       "75%             2.835801e-02              2.984439e-02   \n",
       "max             1.539137e-01              1.987880e-01   \n",
       "\n",
       "       High_Density_LipoProteins  Tot_Cholesterol  Log_Serum_Triglyserides  \\\n",
       "count               4.420000e+02     4.420000e+02             4.420000e+02   \n",
       "mean               -4.563971e-16     3.863174e-16            -3.848103e-16   \n",
       "std                 4.761905e-02     4.761905e-02             4.761905e-02   \n",
       "min                -1.023071e-01    -7.639450e-02            -1.260974e-01   \n",
       "25%                -3.511716e-02    -3.949338e-02            -3.324879e-02   \n",
       "50%                -6.584468e-03    -2.592262e-03            -1.947634e-03   \n",
       "75%                 2.931150e-02     3.430886e-02             3.243323e-02   \n",
       "max                 1.811791e-01     1.852344e-01             1.335990e-01   \n",
       "\n",
       "       Blood_Sugar_Level      target  \n",
       "count       4.420000e+02  442.000000  \n",
       "mean       -3.398488e-16  152.133484  \n",
       "std         4.761905e-02   77.093005  \n",
       "min        -1.377672e-01   25.000000  \n",
       "25%        -3.317903e-02   87.000000  \n",
       "50%        -1.077698e-03  140.500000  \n",
       "75%         2.791705e-02  211.500000  \n",
       "max         1.356118e-01  346.000000  "
      ]
     },
     "execution_count": 83,
     "metadata": {},
     "output_type": "execute_result"
    }
   ],
   "source": [
    "df.describe()"
   ]
  },
  {
   "cell_type": "code",
   "execution_count": 84,
   "metadata": {},
   "outputs": [
    {
     "name": "stdout",
     "output_type": "stream",
     "text": [
      "<class 'pandas.core.frame.DataFrame'>\n",
      "RangeIndex: 442 entries, 0 to 441\n",
      "Data columns (total 11 columns):\n",
      " #   Column                     Non-Null Count  Dtype  \n",
      "---  ------                     --------------  -----  \n",
      " 0   Age                        442 non-null    float64\n",
      " 1   Gender                     442 non-null    float64\n",
      " 2   BMI                        442 non-null    float64\n",
      " 3   BP                         442 non-null    float64\n",
      " 4   Tot_Serum_Cholesterol      442 non-null    float64\n",
      " 5   Low_Density_LipoProteins   442 non-null    float64\n",
      " 6   High_Density_LipoProteins  442 non-null    float64\n",
      " 7   Tot_Cholesterol            442 non-null    float64\n",
      " 8   Log_Serum_Triglyserides    442 non-null    float64\n",
      " 9   Blood_Sugar_Level          442 non-null    float64\n",
      " 10  target                     442 non-null    float64\n",
      "dtypes: float64(11)\n",
      "memory usage: 38.1 KB\n"
     ]
    }
   ],
   "source": [
    "df.info()"
   ]
  },
  {
   "cell_type": "markdown",
   "metadata": {},
   "source": [
    "<h4>Standard Deviation is same for all the features except target column"
   ]
  },
  {
   "cell_type": "code",
   "execution_count": 85,
   "metadata": {},
   "outputs": [
    {
     "data": {
      "text/html": [
       "<div>\n",
       "<style scoped>\n",
       "    .dataframe tbody tr th:only-of-type {\n",
       "        vertical-align: middle;\n",
       "    }\n",
       "\n",
       "    .dataframe tbody tr th {\n",
       "        vertical-align: top;\n",
       "    }\n",
       "\n",
       "    .dataframe thead th {\n",
       "        text-align: right;\n",
       "    }\n",
       "</style>\n",
       "<table border=\"1\" class=\"dataframe\">\n",
       "  <thead>\n",
       "    <tr style=\"text-align: right;\">\n",
       "      <th></th>\n",
       "      <th>Age</th>\n",
       "      <th>Gender</th>\n",
       "      <th>BMI</th>\n",
       "      <th>BP</th>\n",
       "      <th>Tot_Serum_Cholesterol</th>\n",
       "      <th>Low_Density_LipoProteins</th>\n",
       "      <th>High_Density_LipoProteins</th>\n",
       "      <th>Tot_Cholesterol</th>\n",
       "      <th>Log_Serum_Triglyserides</th>\n",
       "      <th>Blood_Sugar_Level</th>\n",
       "      <th>target</th>\n",
       "    </tr>\n",
       "  </thead>\n",
       "  <tbody>\n",
       "    <tr>\n",
       "      <th>count</th>\n",
       "      <td>4.420000e+02</td>\n",
       "      <td>4.420000e+02</td>\n",
       "      <td>4.420000e+02</td>\n",
       "      <td>4.420000e+02</td>\n",
       "      <td>4.420000e+02</td>\n",
       "      <td>4.420000e+02</td>\n",
       "      <td>4.420000e+02</td>\n",
       "      <td>4.420000e+02</td>\n",
       "      <td>4.420000e+02</td>\n",
       "      <td>4.420000e+02</td>\n",
       "      <td>442.000000</td>\n",
       "    </tr>\n",
       "    <tr>\n",
       "      <th>mean</th>\n",
       "      <td>-3.639623e-16</td>\n",
       "      <td>1.309912e-16</td>\n",
       "      <td>-8.013951e-16</td>\n",
       "      <td>1.289818e-16</td>\n",
       "      <td>-9.042540e-17</td>\n",
       "      <td>1.301121e-16</td>\n",
       "      <td>-4.563971e-16</td>\n",
       "      <td>3.863174e-16</td>\n",
       "      <td>-3.848103e-16</td>\n",
       "      <td>-3.398488e-16</td>\n",
       "      <td>152.133484</td>\n",
       "    </tr>\n",
       "    <tr>\n",
       "      <th>std</th>\n",
       "      <td>4.761905e-02</td>\n",
       "      <td>4.761905e-02</td>\n",
       "      <td>4.761905e-02</td>\n",
       "      <td>4.761905e-02</td>\n",
       "      <td>4.761905e-02</td>\n",
       "      <td>4.761905e-02</td>\n",
       "      <td>4.761905e-02</td>\n",
       "      <td>4.761905e-02</td>\n",
       "      <td>4.761905e-02</td>\n",
       "      <td>4.761905e-02</td>\n",
       "      <td>77.093005</td>\n",
       "    </tr>\n",
       "    <tr>\n",
       "      <th>min</th>\n",
       "      <td>-1.072256e-01</td>\n",
       "      <td>-4.464164e-02</td>\n",
       "      <td>-9.027530e-02</td>\n",
       "      <td>-1.123996e-01</td>\n",
       "      <td>-1.267807e-01</td>\n",
       "      <td>-1.156131e-01</td>\n",
       "      <td>-1.023071e-01</td>\n",
       "      <td>-7.639450e-02</td>\n",
       "      <td>-1.260974e-01</td>\n",
       "      <td>-1.377672e-01</td>\n",
       "      <td>25.000000</td>\n",
       "    </tr>\n",
       "    <tr>\n",
       "      <th>25%</th>\n",
       "      <td>-3.729927e-02</td>\n",
       "      <td>-4.464164e-02</td>\n",
       "      <td>-3.422907e-02</td>\n",
       "      <td>-3.665645e-02</td>\n",
       "      <td>-3.424784e-02</td>\n",
       "      <td>-3.035840e-02</td>\n",
       "      <td>-3.511716e-02</td>\n",
       "      <td>-3.949338e-02</td>\n",
       "      <td>-3.324879e-02</td>\n",
       "      <td>-3.317903e-02</td>\n",
       "      <td>87.000000</td>\n",
       "    </tr>\n",
       "    <tr>\n",
       "      <th>50%</th>\n",
       "      <td>5.383060e-03</td>\n",
       "      <td>-4.464164e-02</td>\n",
       "      <td>-7.283766e-03</td>\n",
       "      <td>-5.670611e-03</td>\n",
       "      <td>-4.320866e-03</td>\n",
       "      <td>-3.819065e-03</td>\n",
       "      <td>-6.584468e-03</td>\n",
       "      <td>-2.592262e-03</td>\n",
       "      <td>-1.947634e-03</td>\n",
       "      <td>-1.077698e-03</td>\n",
       "      <td>140.500000</td>\n",
       "    </tr>\n",
       "    <tr>\n",
       "      <th>75%</th>\n",
       "      <td>3.807591e-02</td>\n",
       "      <td>5.068012e-02</td>\n",
       "      <td>3.124802e-02</td>\n",
       "      <td>3.564384e-02</td>\n",
       "      <td>2.835801e-02</td>\n",
       "      <td>2.984439e-02</td>\n",
       "      <td>2.931150e-02</td>\n",
       "      <td>3.430886e-02</td>\n",
       "      <td>3.243323e-02</td>\n",
       "      <td>2.791705e-02</td>\n",
       "      <td>211.500000</td>\n",
       "    </tr>\n",
       "    <tr>\n",
       "      <th>max</th>\n",
       "      <td>1.107267e-01</td>\n",
       "      <td>5.068012e-02</td>\n",
       "      <td>1.705552e-01</td>\n",
       "      <td>1.320442e-01</td>\n",
       "      <td>1.539137e-01</td>\n",
       "      <td>1.987880e-01</td>\n",
       "      <td>1.811791e-01</td>\n",
       "      <td>1.852344e-01</td>\n",
       "      <td>1.335990e-01</td>\n",
       "      <td>1.356118e-01</td>\n",
       "      <td>346.000000</td>\n",
       "    </tr>\n",
       "  </tbody>\n",
       "</table>\n",
       "</div>"
      ],
      "text/plain": [
       "                Age        Gender           BMI            BP  \\\n",
       "count  4.420000e+02  4.420000e+02  4.420000e+02  4.420000e+02   \n",
       "mean  -3.639623e-16  1.309912e-16 -8.013951e-16  1.289818e-16   \n",
       "std    4.761905e-02  4.761905e-02  4.761905e-02  4.761905e-02   \n",
       "min   -1.072256e-01 -4.464164e-02 -9.027530e-02 -1.123996e-01   \n",
       "25%   -3.729927e-02 -4.464164e-02 -3.422907e-02 -3.665645e-02   \n",
       "50%    5.383060e-03 -4.464164e-02 -7.283766e-03 -5.670611e-03   \n",
       "75%    3.807591e-02  5.068012e-02  3.124802e-02  3.564384e-02   \n",
       "max    1.107267e-01  5.068012e-02  1.705552e-01  1.320442e-01   \n",
       "\n",
       "       Tot_Serum_Cholesterol  Low_Density_LipoProteins  \\\n",
       "count           4.420000e+02              4.420000e+02   \n",
       "mean           -9.042540e-17              1.301121e-16   \n",
       "std             4.761905e-02              4.761905e-02   \n",
       "min            -1.267807e-01             -1.156131e-01   \n",
       "25%            -3.424784e-02             -3.035840e-02   \n",
       "50%            -4.320866e-03             -3.819065e-03   \n",
       "75%             2.835801e-02              2.984439e-02   \n",
       "max             1.539137e-01              1.987880e-01   \n",
       "\n",
       "       High_Density_LipoProteins  Tot_Cholesterol  Log_Serum_Triglyserides  \\\n",
       "count               4.420000e+02     4.420000e+02             4.420000e+02   \n",
       "mean               -4.563971e-16     3.863174e-16            -3.848103e-16   \n",
       "std                 4.761905e-02     4.761905e-02             4.761905e-02   \n",
       "min                -1.023071e-01    -7.639450e-02            -1.260974e-01   \n",
       "25%                -3.511716e-02    -3.949338e-02            -3.324879e-02   \n",
       "50%                -6.584468e-03    -2.592262e-03            -1.947634e-03   \n",
       "75%                 2.931150e-02     3.430886e-02             3.243323e-02   \n",
       "max                 1.811791e-01     1.852344e-01             1.335990e-01   \n",
       "\n",
       "       Blood_Sugar_Level      target  \n",
       "count       4.420000e+02  442.000000  \n",
       "mean       -3.398488e-16  152.133484  \n",
       "std         4.761905e-02   77.093005  \n",
       "min        -1.377672e-01   25.000000  \n",
       "25%        -3.317903e-02   87.000000  \n",
       "50%        -1.077698e-03  140.500000  \n",
       "75%         2.791705e-02  211.500000  \n",
       "max         1.356118e-01  346.000000  "
      ]
     },
     "execution_count": 85,
     "metadata": {},
     "output_type": "execute_result"
    }
   ],
   "source": [
    "df.describe()"
   ]
  },
  {
   "cell_type": "markdown",
   "metadata": {},
   "source": [
    "<h4>\r\n",
    "The dependent features are called the dependent variables, outputs, or responses.\r\n",
    "\r\n",
    "The independent features are called the independent variables, inputs, or predictors."
   ]
  },
  {
   "cell_type": "code",
   "execution_count": 44,
   "metadata": {},
   "outputs": [
    {
     "data": {
      "text/plain": [
       "(442, 11)"
      ]
     },
     "execution_count": 44,
     "metadata": {},
     "output_type": "execute_result"
    }
   ],
   "source": [
    "df.shape"
   ]
  },
  {
   "cell_type": "code",
   "execution_count": 90,
   "metadata": {},
   "outputs": [
    {
     "data": {
      "text/plain": [
       "159.966406"
      ]
     },
     "execution_count": 90,
     "metadata": {},
     "output_type": "execute_result"
    }
   ],
   "source": [
    "(52.05*.038)-(174.55*0.050680) + (760.7*0.021)+150.86"
   ]
  },
  {
   "cell_type": "code",
   "execution_count": 86,
   "metadata": {},
   "outputs": [
    {
     "data": {
      "text/html": [
       "<div>\n",
       "<style scoped>\n",
       "    .dataframe tbody tr th:only-of-type {\n",
       "        vertical-align: middle;\n",
       "    }\n",
       "\n",
       "    .dataframe tbody tr th {\n",
       "        vertical-align: top;\n",
       "    }\n",
       "\n",
       "    .dataframe thead th {\n",
       "        text-align: right;\n",
       "    }\n",
       "</style>\n",
       "<table border=\"1\" class=\"dataframe\">\n",
       "  <thead>\n",
       "    <tr style=\"text-align: right;\">\n",
       "      <th></th>\n",
       "      <th>Age</th>\n",
       "    </tr>\n",
       "  </thead>\n",
       "  <tbody>\n",
       "    <tr>\n",
       "      <th>0</th>\n",
       "      <td>0.038076</td>\n",
       "    </tr>\n",
       "    <tr>\n",
       "      <th>1</th>\n",
       "      <td>-0.001882</td>\n",
       "    </tr>\n",
       "    <tr>\n",
       "      <th>2</th>\n",
       "      <td>0.085299</td>\n",
       "    </tr>\n",
       "    <tr>\n",
       "      <th>3</th>\n",
       "      <td>-0.089063</td>\n",
       "    </tr>\n",
       "    <tr>\n",
       "      <th>4</th>\n",
       "      <td>0.005383</td>\n",
       "    </tr>\n",
       "    <tr>\n",
       "      <th>...</th>\n",
       "      <td>...</td>\n",
       "    </tr>\n",
       "    <tr>\n",
       "      <th>437</th>\n",
       "      <td>0.041708</td>\n",
       "    </tr>\n",
       "    <tr>\n",
       "      <th>438</th>\n",
       "      <td>-0.005515</td>\n",
       "    </tr>\n",
       "    <tr>\n",
       "      <th>439</th>\n",
       "      <td>0.041708</td>\n",
       "    </tr>\n",
       "    <tr>\n",
       "      <th>440</th>\n",
       "      <td>-0.045472</td>\n",
       "    </tr>\n",
       "    <tr>\n",
       "      <th>441</th>\n",
       "      <td>-0.045472</td>\n",
       "    </tr>\n",
       "  </tbody>\n",
       "</table>\n",
       "<p>442 rows × 1 columns</p>\n",
       "</div>"
      ],
      "text/plain": [
       "          Age\n",
       "0    0.038076\n",
       "1   -0.001882\n",
       "2    0.085299\n",
       "3   -0.089063\n",
       "4    0.005383\n",
       "..        ...\n",
       "437  0.041708\n",
       "438 -0.005515\n",
       "439  0.041708\n",
       "440 -0.045472\n",
       "441 -0.045472\n",
       "\n",
       "[442 rows x 1 columns]"
      ]
     },
     "execution_count": 86,
     "metadata": {},
     "output_type": "execute_result"
    }
   ],
   "source": [
    "df[['Age']],df[['Target']]"
   ]
  },
  {
   "cell_type": "markdown",
   "metadata": {},
   "source": [
    "<h2><b> Applying Linear Regression to predict diesease progression after 1 year"
   ]
  },
  {
   "cell_type": "code",
   "execution_count": 45,
   "metadata": {},
   "outputs": [],
   "source": [
    "regr_model=LinearRegression()"
   ]
  },
  {
   "cell_type": "markdown",
   "metadata": {},
   "source": [
    "<b>Splitting Data for traning the model and testing the prediction\r\n",
    "\r\n",
    "\r\n",
    "80% Training\r\n",
    "\r\n",
    "20% Testing"
   ]
  },
  {
   "cell_type": "code",
   "execution_count": 46,
   "metadata": {},
   "outputs": [
    {
     "data": {
      "text/plain": [
       "((442, 11), (353, 10), (89, 10), (353, 1), (89, 1))"
      ]
     },
     "execution_count": 46,
     "metadata": {},
     "output_type": "execute_result"
    }
   ],
   "source": [
    "x_train,x_test,y_train,y_test=train_test_split(df.iloc[:,:-1].values,df.iloc[:,-1:].values,test_size=.2,random_state=6)\r\n",
    "df.shape,x_train.shape, x_test.shape,y_train.shape,y_test.shape"
   ]
  },
  {
   "cell_type": "markdown",
   "metadata": {},
   "source": [
    "<b>Training the model"
   ]
  },
  {
   "cell_type": "code",
   "execution_count": 47,
   "metadata": {},
   "outputs": [
    {
     "data": {
      "text/plain": [
       "LinearRegression()"
      ]
     },
     "execution_count": 47,
     "metadata": {},
     "output_type": "execute_result"
    }
   ],
   "source": [
    "regr_model.fit(x_train, y_train)"
   ]
  },
  {
   "cell_type": "markdown",
   "metadata": {},
   "source": [
    "<b> Predicting the targets"
   ]
  },
  {
   "cell_type": "code",
   "execution_count": 48,
   "metadata": {},
   "outputs": [],
   "source": [
    "y_predict = regr_model.predict(x_test)"
   ]
  },
  {
   "cell_type": "markdown",
   "metadata": {},
   "source": [
    "<b>Evaluation the Model with RMSE and R-Square values"
   ]
  },
  {
   "cell_type": "code",
   "execution_count": 49,
   "metadata": {},
   "outputs": [
    {
     "data": {
      "text/plain": [
       "(54.39899473425268, 0.458142855451689)"
      ]
     },
     "execution_count": 49,
     "metadata": {},
     "output_type": "execute_result"
    }
   ],
   "source": [
    "rmse = np.sqrt(mean_squared_error(y_test, y_predict))\r\n",
    "r2 = r2_score(y_test, y_predict)\r\n",
    "rmse,r2"
   ]
  },
  {
   "cell_type": "markdown",
   "metadata": {},
   "source": [
    "<b>Finding the slope and intercept of the line Y"
   ]
  },
  {
   "cell_type": "code",
   "execution_count": 50,
   "metadata": {},
   "outputs": [
    {
     "name": "stdout",
     "output_type": "stream",
     "text": [
      "Slope: [[  -53.90396481  -275.28710446   544.60473637   364.55070495\n",
      "  -1094.39312069   747.00278828   218.83381543   178.08111107\n",
      "    857.80549012    81.872915  ]]\n",
      "Intercept: [150.33741067]\n"
     ]
    }
   ],
   "source": [
    "print('Slope:' ,regr_model.coef_)\r\n",
    "print('Intercept:', regr_model.intercept_)"
   ]
  },
  {
   "cell_type": "markdown",
   "metadata": {},
   "source": [
    "<h1> <b>r2: should be close to 1\r\n",
    "\r\n",
    "\r\n",
    "rmse: should be less"
   ]
  },
  {
   "cell_type": "markdown",
   "metadata": {},
   "source": [
    "<b><h3> EDA: Feature Selection to fine tune the Model"
   ]
  },
  {
   "cell_type": "code",
   "execution_count": 51,
   "metadata": {},
   "outputs": [
    {
     "data": {
      "text/plain": [
       "<AxesSubplot:>"
      ]
     },
     "execution_count": 51,
     "metadata": {},
     "output_type": "execute_result"
    },
    {
     "data": {
      "image/png": "[encoded data removed]",
      "text/plain": [
       "<Figure size 720x720 with 2 Axes>"
      ]
     },
     "metadata": {
      "needs_background": "light"
     },
     "output_type": "display_data"
    }
   ],
   "source": [
    "import seaborn as sns\r\n",
    "import matplotlib.pyplot as plt\r\n",
    "plt.figure(figsize=(10,10))\r\n",
    "sns.heatmap(df.corr(),annot=True)\r\n"
   ]
  },
  {
   "cell_type": "code",
   "execution_count": 52,
   "metadata": {},
   "outputs": [
    {
     "data": {
      "text/plain": [
       "target                       1.000000\n",
       "BMI                          0.586450\n",
       "Log_Serum_Triglyserides      0.565883\n",
       "BP                           0.441484\n",
       "Tot_Cholesterol              0.430453\n",
       "High_Density_LipoProteins    0.394789\n",
       "Blood_Sugar_Level            0.382483\n",
       "Tot_Serum_Cholesterol        0.212022\n",
       "Age                          0.187889\n",
       "Low_Density_LipoProteins     0.174054\n",
       "Gender                       0.043062\n",
       "Name: target, dtype: float64"
      ]
     },
     "execution_count": 52,
     "metadata": {},
     "output_type": "execute_result"
    }
   ],
   "source": [
    "abs(df.corr()['target'][:]).sort_values(ascending=False)"
   ]
  },
  {
   "cell_type": "markdown",
   "metadata": {},
   "source": [
    "<b><h3>Selecting all the columns that has corr greater than 0.3 with traget column and evaluate the model"
   ]
  },
  {
   "cell_type": "markdown",
   "metadata": {},
   "source": [
    "1. BMI                          0.586450\r\n",
    "2. Log_Serum_Triglyserides      0.565883\r\n",
    "3. BP                           0.441484\r\n",
    "4. Tot_Cholesterol              0.430453\r\n",
    "5. High_Density_LipoProteins    0.394789\r\n",
    "6. Blood_Sugar_Level            0.382483"
   ]
  },
  {
   "cell_type": "markdown",
   "metadata": {},
   "source": [
    "<b><h4>The Features should not be depended on each other. So dropping features which has inter denpendencies"
   ]
  },
  {
   "cell_type": "code",
   "execution_count": 53,
   "metadata": {},
   "outputs": [
    {
     "name": "stdout",
     "output_type": "stream",
     "text": [
      "Age :\n",
      "Age                          1.000000\n",
      "BP                           0.335427\n",
      "Blood_Sugar_Level            0.301731\n",
      "Log_Serum_Triglyserides      0.270777\n",
      "Tot_Serum_Cholesterol        0.260061\n",
      "Low_Density_LipoProteins     0.219243\n",
      "Tot_Cholesterol              0.203841\n",
      "target                       0.187889\n",
      "BMI                          0.185085\n",
      "Gender                       0.173737\n",
      "High_Density_LipoProteins    0.075181\n",
      "Name: Age, dtype: float64\n",
      "\n",
      "Gender :\n",
      "Gender                       1.000000\n",
      "High_Density_LipoProteins    0.379090\n",
      "Tot_Cholesterol              0.332115\n",
      "BP                           0.241013\n",
      "Blood_Sugar_Level            0.208133\n",
      "Age                          0.173737\n",
      "Log_Serum_Triglyserides      0.149918\n",
      "Low_Density_LipoProteins     0.142637\n",
      "BMI                          0.088161\n",
      "target                       0.043062\n",
      "Tot_Serum_Cholesterol        0.035277\n",
      "Name: Gender, dtype: float64\n",
      "\n",
      "BMI :\n",
      "BMI                          1.000000\n",
      "target                       0.586450\n",
      "Log_Serum_Triglyserides      0.446159\n",
      "Tot_Cholesterol              0.413807\n",
      "BP                           0.395415\n",
      "Blood_Sugar_Level            0.388680\n",
      "High_Density_LipoProteins    0.366811\n",
      "Low_Density_LipoProteins     0.261170\n",
      "Tot_Serum_Cholesterol        0.249777\n",
      "Age                          0.185085\n",
      "Gender                       0.088161\n",
      "Name: BMI, dtype: float64\n",
      "\n",
      "BP :\n",
      "BP                           1.000000\n",
      "target                       0.441484\n",
      "BMI                          0.395415\n",
      "Log_Serum_Triglyserides      0.393478\n",
      "Blood_Sugar_Level            0.390429\n",
      "Age                          0.335427\n",
      "Tot_Cholesterol              0.257653\n",
      "Tot_Serum_Cholesterol        0.242470\n",
      "Gender                       0.241013\n",
      "Low_Density_LipoProteins     0.185558\n",
      "High_Density_LipoProteins    0.178761\n",
      "Name: BP, dtype: float64\n",
      "\n",
      "Tot_Serum_Cholesterol :\n",
      "Tot_Serum_Cholesterol        1.000000\n",
      "Low_Density_LipoProteins     0.896663\n",
      "Tot_Cholesterol              0.542207\n",
      "Log_Serum_Triglyserides      0.515501\n",
      "Blood_Sugar_Level            0.325717\n",
      "Age                          0.260061\n",
      "BMI                          0.249777\n",
      "BP                           0.242470\n",
      "target                       0.212022\n",
      "High_Density_LipoProteins    0.051519\n",
      "Gender                       0.035277\n",
      "Name: Tot_Serum_Cholesterol, dtype: float64\n",
      "\n",
      "Low_Density_LipoProteins :\n",
      "Low_Density_LipoProteins     1.000000\n",
      "Tot_Serum_Cholesterol        0.896663\n",
      "Tot_Cholesterol              0.659817\n",
      "Log_Serum_Triglyserides      0.318353\n",
      "Blood_Sugar_Level            0.290600\n",
      "BMI                          0.261170\n",
      "Age                          0.219243\n",
      "High_Density_LipoProteins    0.196455\n",
      "BP                           0.185558\n",
      "target                       0.174054\n",
      "Gender                       0.142637\n",
      "Name: Low_Density_LipoProteins, dtype: float64\n",
      "\n",
      "High_Density_LipoProteins :\n",
      "High_Density_LipoProteins    1.000000\n",
      "Tot_Cholesterol              0.738493\n",
      "Log_Serum_Triglyserides      0.398577\n",
      "target                       0.394789\n",
      "Gender                       0.379090\n",
      "BMI                          0.366811\n",
      "Blood_Sugar_Level            0.273697\n",
      "Low_Density_LipoProteins     0.196455\n",
      "BP                           0.178761\n",
      "Age                          0.075181\n",
      "Tot_Serum_Cholesterol        0.051519\n",
      "Name: High_Density_LipoProteins, dtype: float64\n",
      "\n",
      "Tot_Cholesterol :\n",
      "Tot_Cholesterol              1.000000\n",
      "High_Density_LipoProteins    0.738493\n",
      "Low_Density_LipoProteins     0.659817\n",
      "Log_Serum_Triglyserides      0.617857\n",
      "Tot_Serum_Cholesterol        0.542207\n",
      "target                       0.430453\n",
      "Blood_Sugar_Level            0.417212\n",
      "BMI                          0.413807\n",
      "Gender                       0.332115\n",
      "BP                           0.257653\n",
      "Age                          0.203841\n",
      "Name: Tot_Cholesterol, dtype: float64\n",
      "\n",
      "Log_Serum_Triglyserides :\n",
      "Log_Serum_Triglyserides      1.000000\n",
      "Tot_Cholesterol              0.617857\n",
      "target                       0.565883\n",
      "Tot_Serum_Cholesterol        0.515501\n",
      "Blood_Sugar_Level            0.464670\n",
      "BMI                          0.446159\n",
      "High_Density_LipoProteins    0.398577\n",
      "BP                           0.393478\n",
      "Low_Density_LipoProteins     0.318353\n",
      "Age                          0.270777\n",
      "Gender                       0.149918\n",
      "Name: Log_Serum_Triglyserides, dtype: float64\n",
      "\n",
      "Blood_Sugar_Level :\n",
      "Blood_Sugar_Level            1.000000\n",
      "Log_Serum_Triglyserides      0.464670\n",
      "Tot_Cholesterol              0.417212\n",
      "BP                           0.390429\n",
      "BMI                          0.388680\n",
      "target                       0.382483\n",
      "Tot_Serum_Cholesterol        0.325717\n",
      "Age                          0.301731\n",
      "Low_Density_LipoProteins     0.290600\n",
      "High_Density_LipoProteins    0.273697\n",
      "Gender                       0.208133\n",
      "Name: Blood_Sugar_Level, dtype: float64\n",
      "\n"
     ]
    }
   ],
   "source": [
    "for col in df.columns[:-1]:\r\n",
    "    print(col,':')\r\n",
    "    print(abs(df.corr()[col][:]).sort_values(ascending=False),end='\\n\\n')"
   ]
  },
  {
   "cell_type": "markdown",
   "metadata": {},
   "source": [
    "<h4><b>We can see 'Tot_Cholesterol' and 'Log_Serum_Triglyserides' has more corr for the featues of corr[taget]>.3"
   ]
  },
  {
   "cell_type": "markdown",
   "metadata": {},
   "source": [
    "<h4><b>Applying Model on features that has corr >0.3"
   ]
  },
  {
   "cell_type": "code",
   "execution_count": 54,
   "metadata": {},
   "outputs": [
    {
     "data": {
      "text/plain": [
       "((442, 7), (397, 6), (45, 6), (397, 1), (45, 1))"
      ]
     },
     "execution_count": 54,
     "metadata": {},
     "output_type": "execute_result"
    }
   ],
   "source": [
    "df1=df[['BMI','Log_Serum_Triglyserides','BP','Tot_Cholesterol','High_Density_LipoProteins','Blood_Sugar_Level','target']]\r\n",
    "x1_train,x1_test,y1_train,y1_test=train_test_split(df1.iloc[:,:-1].values,df1.iloc[:,-1:].values,test_size=.1,random_state=6)\r\n",
    "df1.shape,x1_train.shape, x1_test.shape,y1_train.shape,y1_test.shape"
   ]
  },
  {
   "cell_type": "code",
   "execution_count": 55,
   "metadata": {},
   "outputs": [
    {
     "name": "stdout",
     "output_type": "stream",
     "text": [
      "old rmse and r2 54.39899473425268 0.458142855451689\n",
      "rmse & r2 53.78422809284733 0.5890554510981845\n",
      "Slope: [[ 517.95124927  537.50018747  295.06581268 -166.76558704 -280.86571673\n",
      "    44.42022261]]\n",
      "Intercept: [150.73046389]\n"
     ]
    }
   ],
   "source": [
    "regr_model.fit(x1_train, y1_train)\r\n",
    "y1_predict = regr_model.predict(x1_test)\r\n",
    "rmse1 = np.sqrt(mean_squared_error(y1_test, y1_predict))\r\n",
    "r21= r2_score(y1_test, y1_predict)\r\n",
    "print('old rmse and r2',rmse,r2)\r\n",
    "print('rmse & r2',rmse1,r21)\r\n",
    "print('Slope:' ,regr_model.coef_)\r\n",
    "print('Intercept:', regr_model.intercept_)"
   ]
  },
  {
   "cell_type": "markdown",
   "metadata": {},
   "source": [
    "<h4><b>The r2 value increased and rmse decreased. This is an improvement\r\n",
    "\r\n",
    "The next fine tune by dropping corr < .4\r\n",
    "\r\n"
   ]
  },
  {
   "cell_type": "code",
   "execution_count": 56,
   "metadata": {},
   "outputs": [
    {
     "data": {
      "text/plain": [
       "((442, 4), (353, 3), (89, 3), (353, 1), (89, 1))"
      ]
     },
     "execution_count": 56,
     "metadata": {},
     "output_type": "execute_result"
    }
   ],
   "source": [
    "df2=df[['BMI','Log_Serum_Triglyserides','BP','Tot_Cholesterol']]\r\n",
    "x2_train,x2_test,y2_train,y2_test=train_test_split(df2.iloc[:,:-1].values,df2.iloc[:,-1:].values,test_size=.2,random_state=6)\r\n",
    "df2.shape,x2_train.shape, x2_test.shape,y2_train.shape,y2_test.shape"
   ]
  },
  {
   "cell_type": "code",
   "execution_count": null,
   "metadata": {},
   "outputs": [],
   "source": []
  },
  {
   "cell_type": "code",
   "execution_count": 57,
   "metadata": {},
   "outputs": [
    {
     "name": "stdout",
     "output_type": "stream",
     "text": [
      "rmse & r2 for Coor >.03 53.78422809284733 0.5890554510981845\n",
      "rmse & r2 0.03437310019785917 0.37713929087083964\n",
      "Slope: [[ 0.1844516   0.56210467 -0.01236162]]\n",
      "Intercept: [-0.00059427]\n"
     ]
    }
   ],
   "source": [
    "regr_model.fit(x2_train, y2_train)\r\n",
    "y2_predict = regr_model.predict(x2_test)\r\n",
    "rmse2 = np.sqrt(mean_squared_error(y2_test, y2_predict))\r\n",
    "r22 = r2_score(y2_test, y2_predict)\r\n",
    "print('rmse & r2 for Coor >.03',rmse1,r21)\r\n",
    "print('rmse & r2',rmse2,r22)\r\n",
    "print('Slope:' ,regr_model.coef_)\r\n",
    "print('Intercept:', regr_model.intercept_)"
   ]
  },
  {
   "cell_type": "markdown",
   "metadata": {},
   "source": [
    "<h4><b>The RMSE significantly decreased but r2 also decreased which is not advisable.\r\n",
    "\r\n",
    "So fine tuning by dropping inter dependent features\r\n",
    "\r\n",
    " 'Tot_Cholesterol' and 'Log_Serum_Triglyserides' has more corr for the featues of corr[taget]>.3"
   ]
  },
  {
   "cell_type": "code",
   "execution_count": 58,
   "metadata": {},
   "outputs": [
    {
     "data": {
      "text/plain": [
       "((442, 5), (353, 4), (89, 4), (353, 1), (89, 1))"
      ]
     },
     "execution_count": 58,
     "metadata": {},
     "output_type": "execute_result"
    }
   ],
   "source": [
    "df3=df[['BMI','BP','High_Density_LipoProteins','Blood_Sugar_Level','target']]\r\n",
    "x3_train,x3_test,y3_train,y3_test=train_test_split(df3.iloc[:,:-1].values,df3.iloc[:,-1:].values,test_size=.2,random_state=6)\r\n",
    "df3.shape,x3_train.shape, x3_test.shape,y3_train.shape,y3_test.shape"
   ]
  },
  {
   "cell_type": "code",
   "execution_count": 59,
   "metadata": {},
   "outputs": [
    {
     "name": "stdout",
     "output_type": "stream",
     "text": [
      "rmse & r2 for Corr >.03 53.78422809284733 0.5890554510981845\n",
      "rmse & r2 57.0378542438644 0.4042975123855762\n",
      "Slope: [[ 664.99739312  373.27603487 -288.15350391  158.95082715]]\n",
      "Intercept: [150.36113553]\n"
     ]
    }
   ],
   "source": [
    "regr_model.fit(x3_train, y3_train)\r\n",
    "y3_predict = regr_model.predict(x3_test)\r\n",
    "rmse3 = np.sqrt(mean_squared_error(y3_test, y3_predict))\r\n",
    "r23 = r2_score(y3_test, y3_predict)\r\n",
    "print('rmse & r2 for Corr >.03',rmse1,r21)\r\n",
    "#print('rmse & r2 for corr',rmse2,r22)\r\n",
    "print('rmse & r2',rmse3,r23)\r\n",
    "print('Slope:' ,regr_model.coef_)\r\n",
    "print('Intercept:', regr_model.intercept_)"
   ]
  },
  {
   "cell_type": "markdown",
   "metadata": {},
   "source": [
    "<h4><b> The r2 value decreased and rmse increased. Not Advisable\r\n",
    "\r\n",
    "fine tuning by removing Blood sugar"
   ]
  },
  {
   "cell_type": "code",
   "execution_count": 60,
   "metadata": {},
   "outputs": [
    {
     "data": {
      "text/plain": [
       "((442, 6), (353, 5), (89, 5), (353, 1), (89, 1))"
      ]
     },
     "execution_count": 60,
     "metadata": {},
     "output_type": "execute_result"
    }
   ],
   "source": [
    "df4=df[['BMI','Log_Serum_Triglyserides','BP','Tot_Cholesterol','High_Density_LipoProteins','target']]\r\n",
    "x4_train,x4_test,y4_train,y4_test=train_test_split(df4.iloc[:,:-1].values,df4.iloc[:,-1:].values,test_size=.2,random_state=6)\r\n",
    "df4.shape,x4_train.shape, x4_test.shape,y4_train.shape,y4_test.shape"
   ]
  },
  {
   "cell_type": "code",
   "execution_count": 61,
   "metadata": {},
   "outputs": [
    {
     "name": "stdout",
     "output_type": "stream",
     "text": [
      "rmse & r2 for Corr >.03 53.78422809284733 0.5890554510981845\n",
      "rmse & r2 53.493905803243024 0.476023665014517\n",
      "Slope: [[ 595.87055278  533.46021099  293.58720469 -142.63453007 -252.01298626]]\n",
      "Intercept: [150.18580922]\n"
     ]
    }
   ],
   "source": [
    "regr_model.fit(x4_train, y4_train)\r\n",
    "y4_predict = regr_model.predict(x4_test)\r\n",
    "rmse4 = np.sqrt(mean_squared_error(y4_test, y4_predict))\r\n",
    "r24 = r2_score(y4_test, y4_predict)\r\n",
    "\r\n",
    "print('rmse & r2 for Corr >.03',rmse1,r21)\r\n",
    "print('rmse & r2',rmse4,r24)\r\n",
    "print('Slope:' ,regr_model.coef_)\r\n",
    "print('Intercept:', regr_model.intercept_)"
   ]
  },
  {
   "cell_type": "markdown",
   "metadata": {},
   "source": [
    "<h4><b> NO change in rmse but r2 decresed not advisable\r\n",
    "\r\n",
    "Fine Tuning by splitting 90% Train and 10%Test"
   ]
  },
  {
   "cell_type": "code",
   "execution_count": 62,
   "metadata": {},
   "outputs": [
    {
     "data": {
      "text/plain": [
       "((442, 6), (397, 5), (45, 5), (397, 1), (45, 1))"
      ]
     },
     "execution_count": 62,
     "metadata": {},
     "output_type": "execute_result"
    }
   ],
   "source": [
    "df5=df[['BMI','Log_Serum_Triglyserides','BP','Tot_Cholesterol','High_Density_LipoProteins','target']]\r\n",
    "x5_train,x5_test,y5_train,y5_test=train_test_split(df5.iloc[:,:-1].values,df5.iloc[:,-1:].values,test_size=.1,random_state=6)\r\n",
    "df5.shape,x5_train.shape, x5_test.shape,y5_train.shape,y5_test.shape"
   ]
  },
  {
   "cell_type": "code",
   "execution_count": 63,
   "metadata": {},
   "outputs": [
    {
     "name": "stdout",
     "output_type": "stream",
     "text": [
      "rmse & r2 for Corr >.03 & 80/20 53.78422809284733 0.5890554510981845\n",
      "rmse & r2 for Corr >.03 & 90/10 53.79134158273823 0.5889467410427581\n",
      "Slope: [[ 524.98684474  547.85474602  303.38492681 -158.38908931 -278.57060826]]\n",
      "Intercept: [150.72236156]\n"
     ]
    }
   ],
   "source": [
    "regr_model.fit(x5_train, y5_train)\r\n",
    "y5_predict = regr_model.predict(x5_test)\r\n",
    "rmse5 = np.sqrt(mean_squared_error(y5_test, y5_predict))\r\n",
    "r25 = r2_score(y5_test, y5_predict)\r\n",
    "\r\n",
    "print('rmse & r2 for Corr >.03 & 80/20',rmse1,r21)\r\n",
    "print('rmse & r2 for Corr >.03 & 90/10',rmse5,r25)\r\n",
    "print('Slope:' ,regr_model.coef_)\r\n",
    "print('Intercept:', regr_model.intercept_)\r\n",
    "#regr_model.score(x5_test, y5_test)"
   ]
  },
  {
   "cell_type": "markdown",
   "metadata": {},
   "source": [
    "<h4><b> No significant change with splitting techniques\r\n",
    "\r\n",
    "Checking R2 value with Gradient Descent method on corr >0.3"
   ]
  },
  {
   "cell_type": "code",
   "execution_count": 64,
   "metadata": {},
   "outputs": [
    {
     "data": {
      "text/plain": [
       "((442, 7), (397, 6), (45, 6), (397,), (45,))"
      ]
     },
     "execution_count": 64,
     "metadata": {},
     "output_type": "execute_result"
    }
   ],
   "source": [
    "from sklearn.linear_model import SGDRegressor\r\n",
    "df6=df[['BMI','Log_Serum_Triglyserides','BP','Tot_Cholesterol','High_Density_LipoProteins','Blood_Sugar_Level','target']]\r\n",
    "x6_train,x6_test,y6_train,y6_test=train_test_split(df6.iloc[:,:-1].values,df6.iloc[:,-1:].values,test_size=.1,random_state=6)\r\n",
    "x6_train,x6_test,y6_train,y6_test=x6_train,x6_test,y6_train.ravel(),y6_test.ravel()\r\n",
    "df6.shape,x6_train.shape, x6_test.shape,y6_train.shape,y6_test.shape"
   ]
  },
  {
   "cell_type": "code",
   "execution_count": 65,
   "metadata": {},
   "outputs": [
    {
     "name": "stdout",
     "output_type": "stream",
     "text": [
      "rmse & r2 for Corr >.03 & 80/20 53.78422809284733 0.5890554510981845\n",
      "rmse & r2 for Corr >.03 & 90/10 53.79134158273823 0.5889467410427581\n"
     ]
    },
    {
     "data": {
      "text/plain": [
       "(0.5731561385199806,\n",
       " array([ 410.35060434,  360.90549389,  287.00200629,   92.77261203,\n",
       "        -167.49329589,  125.75053993]),\n",
       " array([150.70121049]),\n",
       " 4988)"
      ]
     },
     "execution_count": 65,
     "metadata": {},
     "output_type": "execute_result"
    }
   ],
   "source": [
    "g_desc= SGDRegressor(max_iter=5500,tol=1e-3) \r\n",
    "g_desc.fit(x6_train,y6_train)\r\n",
    "y_predict = g_desc.predict(x6_test)\r\n",
    "print('rmse & r2 for Corr >.03 & 80/20',rmse1,r21)\r\n",
    "print('rmse & r2 for Corr >.03 & 90/10',rmse5,r25)\r\n",
    "g_desc.score(x6_test,y6_test),g_desc.coef_,g_desc.intercept_,g_desc.n_iter_"
   ]
  },
  {
   "cell_type": "markdown",
   "metadata": {},
   "source": [
    "<h4><b>No Significant change after Gradient Descent\r\n",
    "\r\n",
    "The model is 58% accurate\r\n",
    "\r\n",
    "Fine Tuning further by removing Outliers"
   ]
  },
  {
   "cell_type": "markdown",
   "metadata": {},
   "source": []
  },
  {
   "cell_type": "code",
   "execution_count": 66,
   "metadata": {},
   "outputs": [
    {
     "data": {
      "image/png": "[encoded data removed]",
      "text/plain": [
       "<Figure size 432x288 with 1 Axes>"
      ]
     },
     "metadata": {
      "needs_background": "light"
     },
     "output_type": "display_data"
    },
    {
     "data": {
      "image/png": "[encoded data removed]",
      "text/plain": [
       "<Figure size 432x288 with 1 Axes>"
      ]
     },
     "metadata": {
      "needs_background": "light"
     },
     "output_type": "display_data"
    },
    {
     "data": {
      "image/png": "[encoded data removed]",
      "text/plain": [
       "<Figure size 432x288 with 1 Axes>"
      ]
     },
     "metadata": {
      "needs_background": "light"
     },
     "output_type": "display_data"
    },
    {
     "data": {
      "image/png": "[encoded data removed]",
      "text/plain": [
       "<Figure size 432x288 with 1 Axes>"
      ]
     },
     "metadata": {
      "needs_background": "light"
     },
     "output_type": "display_data"
    },
    {
     "data": {
      "image/png": "[encoded data removed]",
      "text/plain": [
       "<Figure size 432x288 with 1 Axes>"
      ]
     },
     "metadata": {
      "needs_background": "light"
     },
     "output_type": "display_data"
    },
    {
     "data": {
      "image/png": "[encoded data removed]",
      "text/plain": [
       "<Figure size 432x288 with 1 Axes>"
      ]
     },
     "metadata": {
      "needs_background": "light"
     },
     "output_type": "display_data"
    },
    {
     "data": {
      "image/png": "[encoded data removed]",
      "text/plain": [
       "<Figure size 432x288 with 1 Axes>"
      ]
     },
     "metadata": {
      "needs_background": "light"
     },
     "output_type": "display_data"
    }
   ],
   "source": [
    "cols=['BMI','Log_Serum_Triglyserides','BP','Tot_Cholesterol','High_Density_LipoProteins','Blood_Sugar_Level','target']\r\n",
    "for col in df6.columns:\r\n",
    "    sns.boxplot(data=df6,x=col)\r\n",
    "    plt.show()"
   ]
  },
  {
   "cell_type": "code",
   "execution_count": 67,
   "metadata": {},
   "outputs": [
    {
     "name": "stderr",
     "output_type": "stream",
     "text": [
      "<ipython-input-67-8d7be484881d>:7: FutureWarning: Automatic reindexing on DataFrame vs Series comparisons is deprecated and will raise ValueError in a future version.  Do `left, right = left.align(right, axis=1, copy=False)` before e.g. `left == right`\n",
      "  df7 = df7[~((df7 < (Q1 - 1.5 * IQR)) |(df7 > (Q3 + 1.5 * IQR))).any(axis=1)]\n",
      "<ipython-input-67-8d7be484881d>:7: FutureWarning: Automatic reindexing on DataFrame vs Series comparisons is deprecated and will raise ValueError in a future version.  Do `left, right = left.align(right, axis=1, copy=False)` before e.g. `left == right`\n",
      "  df7 = df7[~((df7 < (Q1 - 1.5 * IQR)) |(df7 > (Q3 + 1.5 * IQR))).any(axis=1)]\n"
     ]
    }
   ],
   "source": [
    "low = .05\r\n",
    "high = .95\r\n",
    "Q1 = df.quantile(0.05)\r\n",
    "Q3 = df.quantile(0.95)\r\n",
    "IQR = Q3 - Q1\r\n",
    "df7=df6\r\n",
    "df7 = df7[~((df7 < (Q1 - 1.5 * IQR)) |(df7 > (Q3 + 1.5 * IQR))).any(axis=1)]\r\n",
    "#df7.dropna(inplace=True)"
   ]
  },
  {
   "cell_type": "code",
   "execution_count": 68,
   "metadata": {},
   "outputs": [
    {
     "data": {
      "text/html": [
       "<div>\n",
       "<style scoped>\n",
       "    .dataframe tbody tr th:only-of-type {\n",
       "        vertical-align: middle;\n",
       "    }\n",
       "\n",
       "    .dataframe tbody tr th {\n",
       "        vertical-align: top;\n",
       "    }\n",
       "\n",
       "    .dataframe thead th {\n",
       "        text-align: right;\n",
       "    }\n",
       "</style>\n",
       "<table border=\"1\" class=\"dataframe\">\n",
       "  <thead>\n",
       "    <tr style=\"text-align: right;\">\n",
       "      <th></th>\n",
       "      <th>BMI</th>\n",
       "      <th>Log_Serum_Triglyserides</th>\n",
       "      <th>BP</th>\n",
       "      <th>Tot_Cholesterol</th>\n",
       "      <th>High_Density_LipoProteins</th>\n",
       "      <th>Blood_Sugar_Level</th>\n",
       "      <th>target</th>\n",
       "    </tr>\n",
       "  </thead>\n",
       "  <tbody>\n",
       "    <tr>\n",
       "      <th>0</th>\n",
       "      <td>0.061696</td>\n",
       "      <td>0.019908</td>\n",
       "      <td>0.021872</td>\n",
       "      <td>-0.002592</td>\n",
       "      <td>-0.043401</td>\n",
       "      <td>-0.017646</td>\n",
       "      <td>151.0</td>\n",
       "    </tr>\n",
       "    <tr>\n",
       "      <th>1</th>\n",
       "      <td>-0.051474</td>\n",
       "      <td>-0.068330</td>\n",
       "      <td>-0.026328</td>\n",
       "      <td>-0.039493</td>\n",
       "      <td>0.074412</td>\n",
       "      <td>-0.092204</td>\n",
       "      <td>75.0</td>\n",
       "    </tr>\n",
       "    <tr>\n",
       "      <th>2</th>\n",
       "      <td>0.044451</td>\n",
       "      <td>0.002864</td>\n",
       "      <td>-0.005671</td>\n",
       "      <td>-0.002592</td>\n",
       "      <td>-0.032356</td>\n",
       "      <td>-0.025930</td>\n",
       "      <td>141.0</td>\n",
       "    </tr>\n",
       "    <tr>\n",
       "      <th>3</th>\n",
       "      <td>-0.011595</td>\n",
       "      <td>0.022692</td>\n",
       "      <td>-0.036656</td>\n",
       "      <td>0.034309</td>\n",
       "      <td>-0.036038</td>\n",
       "      <td>-0.009362</td>\n",
       "      <td>206.0</td>\n",
       "    </tr>\n",
       "    <tr>\n",
       "      <th>4</th>\n",
       "      <td>-0.036385</td>\n",
       "      <td>-0.031991</td>\n",
       "      <td>0.021872</td>\n",
       "      <td>-0.002592</td>\n",
       "      <td>0.008142</td>\n",
       "      <td>-0.046641</td>\n",
       "      <td>135.0</td>\n",
       "    </tr>\n",
       "  </tbody>\n",
       "</table>\n",
       "</div>"
      ],
      "text/plain": [
       "        BMI  Log_Serum_Triglyserides        BP  Tot_Cholesterol  \\\n",
       "0  0.061696                 0.019908  0.021872        -0.002592   \n",
       "1 -0.051474                -0.068330 -0.026328        -0.039493   \n",
       "2  0.044451                 0.002864 -0.005671        -0.002592   \n",
       "3 -0.011595                 0.022692 -0.036656         0.034309   \n",
       "4 -0.036385                -0.031991  0.021872        -0.002592   \n",
       "\n",
       "   High_Density_LipoProteins  Blood_Sugar_Level  target  \n",
       "0                  -0.043401          -0.017646   151.0  \n",
       "1                   0.074412          -0.092204    75.0  \n",
       "2                  -0.032356          -0.025930   141.0  \n",
       "3                  -0.036038          -0.009362   206.0  \n",
       "4                   0.008142          -0.046641   135.0  "
      ]
     },
     "execution_count": 68,
     "metadata": {},
     "output_type": "execute_result"
    }
   ],
   "source": [
    "df7.head()"
   ]
  },
  {
   "cell_type": "markdown",
   "metadata": {},
   "source": [
    "<h4><b> Outliers are removed now"
   ]
  },
  {
   "cell_type": "code",
   "execution_count": 69,
   "metadata": {},
   "outputs": [
    {
     "data": {
      "image/png": "[encoded data removed]",
      "text/plain": [
       "<Figure size 432x288 with 1 Axes>"
      ]
     },
     "metadata": {
      "needs_background": "light"
     },
     "output_type": "display_data"
    },
    {
     "data": {
      "image/png": "[encoded data removed]",
      "text/plain": [
       "<Figure size 432x288 with 1 Axes>"
      ]
     },
     "metadata": {
      "needs_background": "light"
     },
     "output_type": "display_data"
    },
    {
     "data": {
      "image/png": "[encoded data removed]",
      "text/plain": [
       "<Figure size 432x288 with 1 Axes>"
      ]
     },
     "metadata": {
      "needs_background": "light"
     },
     "output_type": "display_data"
    },
    {
     "data": {
      "image/png": "[encoded data removed]",
      "text/plain": [
       "<Figure size 432x288 with 1 Axes>"
      ]
     },
     "metadata": {
      "needs_background": "light"
     },
     "output_type": "display_data"
    },
    {
     "data": {
      "image/png": "[encoded data removed]",
      "text/plain": [
       "<Figure size 432x288 with 1 Axes>"
      ]
     },
     "metadata": {
      "needs_background": "light"
     },
     "output_type": "display_data"
    },
    {
     "data": {
      "image/png": "[encoded data removed]",
      "text/plain": [
       "<Figure size 432x288 with 1 Axes>"
      ]
     },
     "metadata": {
      "needs_background": "light"
     },
     "output_type": "display_data"
    },
    {
     "data": {
      "image/png": "[encoded data removed]",
      "text/plain": [
       "<Figure size 432x288 with 1 Axes>"
      ]
     },
     "metadata": {
      "needs_background": "light"
     },
     "output_type": "display_data"
    }
   ],
   "source": [
    "for col in df7.columns:\r\n",
    "    sns.boxplot(data=df7,x=col)\r\n",
    "    plt.show()"
   ]
  },
  {
   "cell_type": "code",
   "execution_count": 70,
   "metadata": {},
   "outputs": [
    {
     "data": {
      "text/plain": [
       "(442, 7)"
      ]
     },
     "execution_count": 70,
     "metadata": {},
     "output_type": "execute_result"
    }
   ],
   "source": [
    "df7.shape"
   ]
  },
  {
   "cell_type": "code",
   "execution_count": 71,
   "metadata": {},
   "outputs": [
    {
     "name": "stdout",
     "output_type": "stream",
     "text": [
      "<class 'pandas.core.frame.DataFrame'>\n",
      "Int64Index: 442 entries, 0 to 441\n",
      "Data columns (total 7 columns):\n",
      " #   Column                     Non-Null Count  Dtype  \n",
      "---  ------                     --------------  -----  \n",
      " 0   BMI                        442 non-null    float64\n",
      " 1   Log_Serum_Triglyserides    442 non-null    float64\n",
      " 2   BP                         442 non-null    float64\n",
      " 3   Tot_Cholesterol            442 non-null    float64\n",
      " 4   High_Density_LipoProteins  442 non-null    float64\n",
      " 5   Blood_Sugar_Level          442 non-null    float64\n",
      " 6   target                     442 non-null    float64\n",
      "dtypes: float64(7)\n",
      "memory usage: 27.6 KB\n"
     ]
    }
   ],
   "source": [
    "df7.info()"
   ]
  },
  {
   "cell_type": "code",
   "execution_count": 72,
   "metadata": {},
   "outputs": [
    {
     "data": {
      "text/plain": [
       "((442, 7), (397, 6), (45, 6), (397,), (45,))"
      ]
     },
     "execution_count": 72,
     "metadata": {},
     "output_type": "execute_result"
    }
   ],
   "source": [
    "x7_train,x7_test,y7_train,y7_test=train_test_split(df7.iloc[:,:-1].values,df7.iloc[:,-1:].values,test_size=.1,random_state=6)\r\n",
    "x7_train,x7_test,y7_train,y7_test=x7_train,x7_test,y7_train.ravel(),y7_test.ravel()\r\n",
    "df7.shape,x7_train.shape, x7_test.shape,y7_train.shape,y7_test.shape"
   ]
  },
  {
   "cell_type": "code",
   "execution_count": 73,
   "metadata": {},
   "outputs": [
    {
     "name": "stdout",
     "output_type": "stream",
     "text": [
      "rmse & r2 for Corr >.03 & 80/20 53.78422809284733 0.5890554510981845\n",
      "rmse & r2 for Corr >.03 & 90/10 53.79134158273823 0.5889467410427581\n"
     ]
    },
    {
     "data": {
      "text/plain": [
       "(0.5712240155006506,\n",
       " array([ 402.16583246,  354.61341741,  283.85650534,   99.8607994 ,\n",
       "        -167.61141109,  129.7759981 ]),\n",
       " array([150.65218854]),\n",
       " 4519)"
      ]
     },
     "execution_count": 73,
     "metadata": {},
     "output_type": "execute_result"
    }
   ],
   "source": [
    "g_desc= SGDRegressor(max_iter=100000,tol=1e-3) \r\n",
    "g_desc.fit(x7_train,y7_train)\r\n",
    "y_predict = g_desc.predict(x7_test)\r\n",
    "print('rmse & r2 for Corr >.03 & 80/20',rmse1,r21)\r\n",
    "print('rmse & r2 for Corr >.03 & 90/10',rmse5,r25)\r\n",
    "g_desc.score(x7_test,y7_test),g_desc.coef_,g_desc.intercept_,g_desc.n_iter_"
   ]
  },
  {
   "cell_type": "code",
   "execution_count": 74,
   "metadata": {},
   "outputs": [
    {
     "data": {
      "text/plain": [
       "((442, 7), (397, 6), (45, 6), (397, 1), (45, 1))"
      ]
     },
     "execution_count": 74,
     "metadata": {},
     "output_type": "execute_result"
    }
   ],
   "source": [
    "#df5=df[['BMI','Log_Serum_Triglyserides','BP','Tot_Cholesterol','High_Density_LipoProteins','target']]\r\n",
    "x8_train,x8_test,y8_train,y8_test=train_test_split(df7.iloc[:,:-1].values,df7.iloc[:,-1:].values,test_size=.1,random_state=6)\r\n",
    "df7.shape,x8_train.shape, x8_test.shape,y8_train.shape,y8_test.shape"
   ]
  },
  {
   "cell_type": "code",
   "execution_count": 75,
   "metadata": {},
   "outputs": [
    {
     "name": "stdout",
     "output_type": "stream",
     "text": [
      "rmse & r2 for Corr >.03 & 80/20 53.78422809284733 0.5890554510981845\n",
      "rmse & r2 for Corr >.03 & 90/10 53.79134158273823 0.5889467410427581\n",
      "rmse & r2 after removing outliers 53.78422809284733 0.5890554510981845\n",
      "Slope: [[ 517.95124927  537.50018747  295.06581268 -166.76558704 -280.86571673\n",
      "    44.42022261]]\n",
      "Intercept: [150.73046389]\n"
     ]
    }
   ],
   "source": [
    "regr_model.fit(x8_train, y8_train)\r\n",
    "y8_predict = regr_model.predict(x8_test)\r\n",
    "rmse8 = np.sqrt(mean_squared_error(y8_test, y8_predict))\r\n",
    "r28 = r2_score(y8_test, y8_predict)\r\n",
    "\r\n",
    "print('rmse & r2 for Corr >.03 & 80/20',rmse1,r21)\r\n",
    "print('rmse & r2 for Corr >.03 & 90/10',rmse5,r25)\r\n",
    "print('rmse & r2 after removing outliers',rmse8,r28)\r\n",
    "print('Slope:' ,regr_model.coef_)\r\n",
    "print('Intercept:', regr_model.intercept_)\r\n",
    "#regr_model.score(x5_test, y5_test)"
   ]
  },
  {
   "cell_type": "markdown",
   "metadata": {},
   "source": [
    "<h2><b>The model has 58.9% accuracy"
   ]
  },
  {
   "cell_type": "markdown",
   "metadata": {},
   "source": [
    "<h4>The Model is not performing better by removing outliers\r\n",
    "\r\n",
    "Therefore best model is as below"
   ]
  },
  {
   "cell_type": "code",
   "execution_count": 76,
   "metadata": {},
   "outputs": [
    {
     "name": "stdout",
     "output_type": "stream",
     "text": [
      "rmse & r2 for Corr >.03 & 80/20 53.78422809284733 0.5890554510981845\n",
      "rmse & r2 for Corr >.03 & 90/10 53.79134158273823 0.5889467410427581\n",
      "Slope: [[ 524.98684474  547.85474602  303.38492681 -158.38908931 -278.57060826]]\n",
      "Intercept: [150.72236156]\n"
     ]
    }
   ],
   "source": [
    "regr_model.fit(x5_train, y5_train)\r\n",
    "y5_predict = regr_model.predict(x5_test)\r\n",
    "rmse5 = np.sqrt(mean_squared_error(y5_test, y5_predict))\r\n",
    "r25 = r2_score(y5_test, y5_predict)\r\n",
    "\r\n",
    "print('rmse & r2 for Corr >.03 & 80/20',rmse1,r21)\r\n",
    "print('rmse & r2 for Corr >.03 & 90/10',rmse5,r25)\r\n",
    "print('Slope:' ,regr_model.coef_)\r\n",
    "print('Intercept:', regr_model.intercept_)\r\n",
    "#regr_model.score(x5_test, y5_test)"
   ]
  }
 ],
 "metadata": {
  "interpreter": {
   "hash": "ac59ebe37160ed0dfa835113d9b8498d9f09ceb179beaac4002f036b9467c963"
  },
  "kernelspec": {
   "display_name": "Python 3.9.5 64-bit",
   "name": "python3"
  },
  "language_info": {
   "codemirror_mode": {
    "name": "ipython",
    "version": 3
   },
   "file_extension": ".py",
   "mimetype": "text/x-python",
   "name": "python",
   "nbconvert_exporter": "python",
   "pygments_lexer": "ipython3",
   "version": "3.9.5"
  },
  "orig_nbformat": 4
 },
 "nbformat": 4,
 "nbformat_minor": 2
}