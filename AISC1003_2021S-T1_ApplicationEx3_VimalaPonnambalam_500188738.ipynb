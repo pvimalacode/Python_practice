{
 "cells": [
  {
   "cell_type": "markdown",
   "source": [
    "<h3> <b>Import required libraries"
   ],
   "metadata": {}
  },
  {
   "cell_type": "code",
   "execution_count": 2,
   "source": [
    "from sklearn import svm\r\n",
    "from sklearn.datasets import load_iris\r\n",
    "\r\n",
    "from sklearn.model_selection import train_test_split\r\n",
    "from sklearn.metrics import confusion_matrix,classification_report,accuracy_score,recall_score,precision_score\r\n",
    "\r\n",
    "import pandas as pd\r\n",
    "import numpy as np\r\n",
    "\r\n",
    "import matplotlib.pyplot as plt\r\n",
    "import seaborn as sns"
   ],
   "outputs": [],
   "metadata": {}
  },
  {
   "cell_type": "markdown",
   "source": [
    "<h3> <b> Load dataset"
   ],
   "metadata": {}
  },
  {
   "cell_type": "code",
   "execution_count": 3,
   "source": [
    "iris = load_iris()\r\n",
    "type(iris)"
   ],
   "outputs": [
    {
     "output_type": "execute_result",
     "data": {
      "text/plain": [
       "sklearn.utils.Bunch"
      ]
     },
     "metadata": {},
     "execution_count": 3
    }
   ],
   "metadata": {}
  },
  {
   "cell_type": "markdown",
   "source": [
    "<h3><b> Understand dataset"
   ],
   "metadata": {}
  },
  {
   "cell_type": "code",
   "execution_count": 4,
   "source": [
    "print(iris.DESCR)"
   ],
   "outputs": [
    {
     "output_type": "stream",
     "name": "stdout",
     "text": [
      ".. _iris_dataset:\n",
      "\n",
      "Iris plants dataset\n",
      "--------------------\n",
      "\n",
      "**Data Set Characteristics:**\n",
      "\n",
      "    :Number of Instances: 150 (50 in each of three classes)\n",
      "    :Number of Attributes: 4 numeric, predictive attributes and the class\n",
      "    :Attribute Information:\n",
      "        - sepal length in cm\n",
      "        - sepal width in cm\n",
      "        - petal length in cm\n",
      "        - petal width in cm\n",
      "        - class:\n",
      "                - Iris-Setosa\n",
      "                - Iris-Versicolour\n",
      "                - Iris-Virginica\n",
      "                \n",
      "    :Summary Statistics:\n",
      "\n",
      "    ============== ==== ==== ======= ===== ====================\n",
      "                    Min  Max   Mean    SD   Class Correlation\n",
      "    ============== ==== ==== ======= ===== ====================\n",
      "    sepal length:   4.3  7.9   5.84   0.83    0.7826\n",
      "    sepal width:    2.0  4.4   3.05   0.43   -0.4194\n",
      "    petal length:   1.0  6.9   3.76   1.76    0.9490  (high!)\n",
      "    petal width:    0.1  2.5   1.20   0.76    0.9565  (high!)\n",
      "    ============== ==== ==== ======= ===== ====================\n",
      "\n",
      "    :Missing Attribute Values: None\n",
      "    :Class Distribution: 33.3% for each of 3 classes.\n",
      "    :Creator: R.A. Fisher\n",
      "    :Donor: Michael Marshall (MARSHALL%PLU@io.arc.nasa.gov)\n",
      "    :Date: July, 1988\n",
      "\n",
      "The famous Iris database, first used by Sir R.A. Fisher. The dataset is taken\n",
      "from Fisher's paper. Note that it's the same as in R, but not as in the UCI\n",
      "Machine Learning Repository, which has two wrong data points.\n",
      "\n",
      "This is perhaps the best known database to be found in the\n",
      "pattern recognition literature.  Fisher's paper is a classic in the field and\n",
      "is referenced frequently to this day.  (See Duda & Hart, for example.)  The\n",
      "data set contains 3 classes of 50 instances each, where each class refers to a\n",
      "type of iris plant.  One class is linearly separable from the other 2; the\n",
      "latter are NOT linearly separable from each other.\n",
      "\n",
      ".. topic:: References\n",
      "\n",
      "   - Fisher, R.A. \"The use of multiple measurements in taxonomic problems\"\n",
      "     Annual Eugenics, 7, Part II, 179-188 (1936); also in \"Contributions to\n",
      "     Mathematical Statistics\" (John Wiley, NY, 1950).\n",
      "   - Duda, R.O., & Hart, P.E. (1973) Pattern Classification and Scene Analysis.\n",
      "     (Q327.D83) John Wiley & Sons.  ISBN 0-471-22361-1.  See page 218.\n",
      "   - Dasarathy, B.V. (1980) \"Nosing Around the Neighborhood: A New System\n",
      "     Structure and Classification Rule for Recognition in Partially Exposed\n",
      "     Environments\".  IEEE Transactions on Pattern Analysis and Machine\n",
      "     Intelligence, Vol. PAMI-2, No. 1, 67-71.\n",
      "   - Gates, G.W. (1972) \"The Reduced Nearest Neighbor Rule\".  IEEE Transactions\n",
      "     on Information Theory, May 1972, 431-433.\n",
      "   - See also: 1988 MLC Proceedings, 54-64.  Cheeseman et al\"s AUTOCLASS II\n",
      "     conceptual clustering system finds 3 classes in the data.\n",
      "   - Many, many more ...\n"
     ]
    }
   ],
   "metadata": {}
  },
  {
   "cell_type": "markdown",
   "source": [
    "<h3><b> Get feature names"
   ],
   "metadata": {}
  },
  {
   "cell_type": "code",
   "execution_count": 5,
   "source": [
    "iris.feature_names"
   ],
   "outputs": [
    {
     "output_type": "execute_result",
     "data": {
      "text/plain": [
       "['sepal length (cm)',\n",
       " 'sepal width (cm)',\n",
       " 'petal length (cm)',\n",
       " 'petal width (cm)']"
      ]
     },
     "metadata": {},
     "execution_count": 5
    }
   ],
   "metadata": {}
  },
  {
   "cell_type": "markdown",
   "source": [
    "<h3> <b> Add target column"
   ],
   "metadata": {}
  },
  {
   "cell_type": "code",
   "execution_count": 6,
   "source": [
    "df=pd.DataFrame(iris.data)\r\n",
    "df.columns=iris.feature_names\r\n",
    "df['target'] = iris['target']\r\n",
    "\r\n",
    "df.head()"
   ],
   "outputs": [
    {
     "output_type": "execute_result",
     "data": {
      "text/plain": [
       "   sepal length (cm)  sepal width (cm)  petal length (cm)  petal width (cm)  \\\n",
       "0                5.1               3.5                1.4               0.2   \n",
       "1                4.9               3.0                1.4               0.2   \n",
       "2                4.7               3.2                1.3               0.2   \n",
       "3                4.6               3.1                1.5               0.2   \n",
       "4                5.0               3.6                1.4               0.2   \n",
       "\n",
       "   target  \n",
       "0       0  \n",
       "1       0  \n",
       "2       0  \n",
       "3       0  \n",
       "4       0  "
      ],
      "text/html": [
       "<div>\n",
       "<style scoped>\n",
       "    .dataframe tbody tr th:only-of-type {\n",
       "        vertical-align: middle;\n",
       "    }\n",
       "\n",
       "    .dataframe tbody tr th {\n",
       "        vertical-align: top;\n",
       "    }\n",
       "\n",
       "    .dataframe thead th {\n",
       "        text-align: right;\n",
       "    }\n",
       "</style>\n",
       "<table border=\"1\" class=\"dataframe\">\n",
       "  <thead>\n",
       "    <tr style=\"text-align: right;\">\n",
       "      <th></th>\n",
       "      <th>sepal length (cm)</th>\n",
       "      <th>sepal width (cm)</th>\n",
       "      <th>petal length (cm)</th>\n",
       "      <th>petal width (cm)</th>\n",
       "      <th>target</th>\n",
       "    </tr>\n",
       "  </thead>\n",
       "  <tbody>\n",
       "    <tr>\n",
       "      <th>0</th>\n",
       "      <td>5.1</td>\n",
       "      <td>3.5</td>\n",
       "      <td>1.4</td>\n",
       "      <td>0.2</td>\n",
       "      <td>0</td>\n",
       "    </tr>\n",
       "    <tr>\n",
       "      <th>1</th>\n",
       "      <td>4.9</td>\n",
       "      <td>3.0</td>\n",
       "      <td>1.4</td>\n",
       "      <td>0.2</td>\n",
       "      <td>0</td>\n",
       "    </tr>\n",
       "    <tr>\n",
       "      <th>2</th>\n",
       "      <td>4.7</td>\n",
       "      <td>3.2</td>\n",
       "      <td>1.3</td>\n",
       "      <td>0.2</td>\n",
       "      <td>0</td>\n",
       "    </tr>\n",
       "    <tr>\n",
       "      <th>3</th>\n",
       "      <td>4.6</td>\n",
       "      <td>3.1</td>\n",
       "      <td>1.5</td>\n",
       "      <td>0.2</td>\n",
       "      <td>0</td>\n",
       "    </tr>\n",
       "    <tr>\n",
       "      <th>4</th>\n",
       "      <td>5.0</td>\n",
       "      <td>3.6</td>\n",
       "      <td>1.4</td>\n",
       "      <td>0.2</td>\n",
       "      <td>0</td>\n",
       "    </tr>\n",
       "  </tbody>\n",
       "</table>\n",
       "</div>"
      ]
     },
     "metadata": {},
     "execution_count": 6
    }
   ],
   "metadata": {}
  },
  {
   "cell_type": "markdown",
   "source": [
    "<h3> <b> Categorical variables"
   ],
   "metadata": {}
  },
  {
   "cell_type": "code",
   "execution_count": 7,
   "source": [
    "iris.target_names"
   ],
   "outputs": [
    {
     "output_type": "execute_result",
     "data": {
      "text/plain": [
       "array(['setosa', 'versicolor', 'virginica'], dtype='<U10')"
      ]
     },
     "metadata": {},
     "execution_count": 7
    }
   ],
   "metadata": {}
  },
  {
   "cell_type": "markdown",
   "source": [
    "<h3><b> distribution of categorical column"
   ],
   "metadata": {}
  },
  {
   "cell_type": "code",
   "execution_count": 8,
   "source": [
    "df['target'].value_counts()"
   ],
   "outputs": [
    {
     "output_type": "execute_result",
     "data": {
      "text/plain": [
       "0    50\n",
       "1    50\n",
       "2    50\n",
       "Name: target, dtype: int64"
      ]
     },
     "metadata": {},
     "execution_count": 8
    }
   ],
   "metadata": {}
  },
  {
   "cell_type": "markdown",
   "source": [
    "<h3> <b> Defining a function to \r\n",
    "\r\n",
    "    1. Fit\r\n",
    "\r\n",
    "    2. Predict\r\n",
    "    \r\n",
    "    3. Calculate accuracy\r\n",
    "\r\n",
    "    4. Visualize the model"
   ],
   "metadata": {}
  },
  {
   "cell_type": "code",
   "execution_count": 9,
   "source": [
    "def svm_reg(df):\r\n",
    "    regr_model = svm.SVC(kernel='linear')\r\n",
    "    \r\n",
    "    x_train,x_test,y_train,y_test=train_test_split(df.iloc[:,:-1].values,df.iloc[:,-1:].values,test_size=0.2,random_state=6)\r\n",
    "    print('features',df.columns[:-1],'\\n')\r\n",
    "    print(\"Shape of DataFrame, X-Test,X-Train,Y-Test,Y-Train\\t: \",df.shape,x_train.shape, x_test.shape,y_train.shape,y_test.shape)\r\n",
    "    y_train=y_train.ravel()\r\n",
    "    y_test=y_test.ravel()\r\n",
    "    regr_model.fit(x_train, y_train)\r\n",
    "    y_predict = regr_model.predict(x_test)\r\n",
    "    \r\n",
    "    print('accuracy:',accuracy_score(y_test,y_predict))\r\n",
    "    print('Precision:',precision_score(y_test,y_predict,average='micro'))\r\n",
    "    print('Recall:',recall_score(y_test,y_predict,average='micro'))\r\n",
    "    \r\n",
    "    cm=confusion_matrix(y_predict,y_test)\r\n",
    "    report=classification_report(y_test, y_predict, digits=3)\r\n",
    "\r\n",
    "    cm_df = pd.DataFrame(cm)\r\n",
    "    cm_df.columns = ['Predicted 0','Predicted 1','Predicted 2']\r\n",
    "    cm_df = cm_df.rename(index={0: 'Actual 0',1:'Actual 1',2:'Actual 2'})\r\n",
    "    print(cm_df)\r\n",
    "    print(report)\r\n",
    "    \r\n",
    "    import matplotlib.pyplot as plt\r\n",
    "\r\n",
    "    labels =['Class 0', 'Class 1', 'Class 2']\r\n",
    "    fig = plt.figure()\r\n",
    "    ax = fig.add_subplot(111)\r\n",
    "    cax = ax.matshow(cm)\r\n",
    "    plt.title('Confusion matrix ')\r\n",
    "    fig.colorbar(cax)\r\n",
    "    ax.set_xticklabels([''] + labels)\r\n",
    "    ax.set_yticklabels([''] + labels)\r\n",
    "    plt.xlabel('Predicted Values')\r\n",
    "    plt.ylabel('Actual Values')\r\n",
    "    plt.show()"
   ],
   "outputs": [],
   "metadata": {}
  },
  {
   "cell_type": "code",
   "execution_count": 10,
   "source": [
    "svm_reg(df)"
   ],
   "outputs": [
    {
     "output_type": "stream",
     "name": "stdout",
     "text": [
      "features Index(['sepal length (cm)', 'sepal width (cm)', 'petal length (cm)',\n",
      "       'petal width (cm)'],\n",
      "      dtype='object') \n",
      "\n",
      "Shape of DataFrame, X-Test,X-Train,Y-Test,Y-Train\t:  (150, 5) (120, 4) (30, 4) (120, 1) (30, 1)\n",
      "accuracy: 1.0\n",
      "Precision: 1.0\n",
      "Recall: 1.0\n",
      "          Predicted 0  Predicted 1  Predicted 2\n",
      "Actual 0            9            0            0\n",
      "Actual 1            0           10            0\n",
      "Actual 2            0            0           11\n",
      "              precision    recall  f1-score   support\n",
      "\n",
      "           0      1.000     1.000     1.000         9\n",
      "           1      1.000     1.000     1.000        10\n",
      "           2      1.000     1.000     1.000        11\n",
      "\n",
      "    accuracy                          1.000        30\n",
      "   macro avg      1.000     1.000     1.000        30\n",
      "weighted avg      1.000     1.000     1.000        30\n",
      "\n"
     ]
    },
    {
     "output_type": "stream",
     "name": "stderr",
     "text": [
      "<ipython-input-9-7b62f52477c6>:33: UserWarning: FixedFormatter should only be used together with FixedLocator\n",
      "  ax.set_xticklabels([''] + labels)\n",
      "<ipython-input-9-7b62f52477c6>:34: UserWarning: FixedFormatter should only be used together with FixedLocator\n",
      "  ax.set_yticklabels([''] + labels)\n"
     ]
    },
    {
     "output_type": "display_data",
     "data": {
      "text/plain": [
       "<Figure size 432x288 with 2 Axes>"
      ],
      "image/png": "[encoded data removed]"
     },
     "metadata": {
      "needs_background": "light"
     }
    }
   ],
   "metadata": {}
  },
  {
   "cell_type": "markdown",
   "source": [
    "<h1><b>Accuracy 100% reached"
   ],
   "metadata": {}
  },
  {
   "cell_type": "code",
   "execution_count": 11,
   "source": [
    "# Spot Check Algorithms\r\n",
    "array = df.values\r\n",
    "X = array[:,0:4]\r\n",
    "y = array[:,4]\r\n",
    "X_train, X_validation, Y_train, Y_validation = train_test_split(X, y, test_size=0.20, random_state=1)\r\n",
    "\r\n",
    "models = []\r\n",
    "models.append(('Linear', svm.SVC(kernel='linear')))"
   ],
   "outputs": [],
   "metadata": {}
  },
  {
   "cell_type": "code",
   "execution_count": 20,
   "source": [
    "# Spot Check Algorithms\r\n",
    "from sklearn.model_selection import StratifiedKFold\r\n",
    "from sklearn.model_selection import cross_val_score\r\n",
    "\r\n",
    "array = df.values\r\n",
    "X = array[:,0:4]\r\n",
    "y = array[:,4]\r\n",
    "X_train, X_validation, Y_train, Y_validation = train_test_split(X, y, test_size=0.20, random_state=1)\r\n",
    "\r\n",
    "models = []\r\n",
    "models.append(('Linear', svm.SVC(kernel='linear')))\r\n",
    "#models.append(('Gaussian', svm.SVC(kernel='gaussian')))\r\n",
    "models.append(('Gaussian rbf', svm.SVC(kernel='rbf')))\r\n",
    "models.append(('Sigmoid', svm.SVC(kernel='sigmoid')))\r\n",
    "models.append(('polynomial', svm.SVC(kernel='poly')))\r\n",
    "\r\n",
    "# evaluate each model in turn\r\n",
    "results = []\r\n",
    "names = []\r\n",
    "for name, model in models:\r\n",
    "\tkfold = StratifiedKFold(n_splits=10, random_state=1, shuffle=True)\r\n",
    "\tcv_results = cross_val_score(model, X_train, Y_train, cv=kfold, scoring='accuracy')\r\n",
    "\tresults.append(cv_results)\r\n",
    "\tnames.append(name)\r\n",
    "\tprint('%s: %f (%f)' % (name, cv_results.mean(), cv_results.std()))"
   ],
   "outputs": [
    {
     "output_type": "stream",
     "name": "stdout",
     "text": [
      "Linear: 0.975000 (0.038188)\n",
      "Gaussian rbf: 0.966667 (0.040825)\n",
      "Sigmoid: 0.366667 (0.040825)\n",
      "polynomial: 0.975000 (0.038188)\n"
     ]
    }
   ],
   "metadata": {}
  },
  {
   "cell_type": "code",
   "execution_count": 13,
   "source": [
    "X = iris.data[:, :2]\r\n",
    "y = iris.target\r\n",
    "C = 1.0\r\n",
    "x_min, x_max = X[:, 0].min() - 1, X[:, 0].max() + 1\r\n",
    "y_min, y_max = X[:, 1].min() - 1, X[:, 1].max() + 1\r\n",
    "h = (x_max / x_min)/100\r\n",
    "xx, yy = np.meshgrid(np.arange(x_min, x_max, h), np.arange(y_min, y_max, h))\r\n",
    "X_plot = np.c_[xx.ravel(), yy.ravel()]\r\n",
    "svc_classifier = svm.SVC(kernel='linear', C=C).fit(X, y)\r\n",
    "\r\n",
    "Z = svc_classifier.predict(X_plot)\r\n",
    "Z = Z.reshape(xx.shape)\r\n",
    "\r\n",
    "## Code of plotting\r\n",
    "plt.figure(figsize=(15, 5))\r\n",
    "plt.subplot(121)\r\n",
    "plt.contourf(xx, yy, Z, alpha=0.3)\r\n",
    "plt.set_cmap(\"gist_rainbow\") \r\n",
    "plt.scatter(X[:, 0], X[:, 1], c=y, cmap=plt.cm.Set1)\r\n",
    "plt.xlabel('Sepal length')\r\n",
    "plt.ylabel('Sepal width')\r\n",
    "plt.xlim(xx.min(), xx.max())\r\n",
    "plt.title('Support Vector Classifier with linear kernel')"
   ],
   "outputs": [
    {
     "output_type": "execute_result",
     "data": {
      "text/plain": [
       "Text(0.5, 1.0, 'Support Vector Classifier with linear kernel')"
      ]
     },
     "metadata": {},
     "execution_count": 13
    },
    {
     "output_type": "display_data",
     "data": {
      "text/plain": [
       "<Figure size 1080x360 with 1 Axes>"
      ],
      "image/png": "[encoded data removed]"
     },
     "metadata": {
      "needs_background": "light"
     }
    }
   ],
   "metadata": {}
  },
  {
   "cell_type": "code",
   "execution_count": 14,
   "source": [
    "X = iris.data[:, :2]\r\n",
    "y = iris.target\r\n",
    "C = 1.0\r\n",
    "x_min, x_max = X[:, 0].min() - 1, X[:, 0].max() + 1\r\n",
    "y_min, y_max = X[:, 1].min() - 1, X[:, 1].max() + 1\r\n",
    "h = (x_max / x_min)/100\r\n",
    "xx, yy = np.meshgrid(np.arange(x_min, x_max, h), np.arange(y_min, y_max, h))\r\n",
    "X_plot = np.c_[xx.ravel(), yy.ravel()]\r\n",
    "svc_classifier = svm.SVC(kernel='poly', C=C).fit(X, y)\r\n",
    "\r\n",
    "Z = svc_classifier.predict(X_plot)\r\n",
    "Z = Z.reshape(xx.shape)\r\n",
    "\r\n",
    "## Code of plotting\r\n",
    "plt.figure(figsize=(15, 5))\r\n",
    "plt.subplot(121)\r\n",
    "plt.contourf(xx, yy, Z, alpha=0.3)\r\n",
    "plt.set_cmap(\"gist_rainbow\") \r\n",
    "plt.scatter(X[:, 0], X[:, 1], c=y, cmap=plt.cm.Set1)\r\n",
    "plt.xlabel('Sepal length')\r\n",
    "plt.ylabel('Sepal width')\r\n",
    "plt.xlim(xx.min(), xx.max())\r\n",
    "plt.title('Support Vector Classifier with linear kernel')"
   ],
   "outputs": [
    {
     "output_type": "execute_result",
     "data": {
      "text/plain": [
       "Text(0.5, 1.0, 'Support Vector Classifier with linear kernel')"
      ]
     },
     "metadata": {},
     "execution_count": 14
    },
    {
     "output_type": "display_data",
     "data": {
      "text/plain": [
       "<Figure size 1080x360 with 1 Axes>"
      ],
      "image/png": "[encoded data removed]"
     },
     "metadata": {
      "needs_background": "light"
     }
    }
   ],
   "metadata": {}
  },
  {
   "cell_type": "code",
   "execution_count": 15,
   "source": [
    "def svm_reg_1(df):\r\n",
    "    regr_model = svm.SVC(kernel='poly')\r\n",
    "    \r\n",
    "    x_train,x_test,y_train,y_test=train_test_split(df.iloc[:,:-1].values,df.iloc[:,-1:].values,test_size=0.2,random_state=6)\r\n",
    "    print('features',df.columns[:-1],'\\n')\r\n",
    "    print(\"Shape of DataFrame, X-Test,X-Train,Y-Test,Y-Train\\t: \",df.shape,x_train.shape, x_test.shape,y_train.shape,y_test.shape)\r\n",
    "    y_train=y_train.ravel()\r\n",
    "    y_test=y_test.ravel()\r\n",
    "    regr_model.fit(x_train, y_train)\r\n",
    "    y_predict = regr_model.predict(x_test)\r\n",
    "    \r\n",
    "    print('accuracy:',accuracy_score(y_test,y_predict))\r\n",
    "    print('Precision:',precision_score(y_test,y_predict,average='micro'))\r\n",
    "    print('Recall:',recall_score(y_test,y_predict,average='micro'))\r\n",
    "    \r\n",
    "    cm=confusion_matrix(y_predict,y_test)\r\n",
    "    report=classification_report(y_test, y_predict, digits=3)\r\n",
    "\r\n",
    "    cm_df = pd.DataFrame(cm)\r\n",
    "    cm_df.columns = ['Predicted 0','Predicted 1','Predicted 2']\r\n",
    "    cm_df = cm_df.rename(index={0: 'Actual 0',1:'Actual 1',2:'Actual 2'})\r\n",
    "    print(cm_df)\r\n",
    "    print(report)\r\n",
    "    \r\n",
    "    import matplotlib.pyplot as plt\r\n",
    "\r\n",
    "    labels =['Class 0', 'Class 1', 'Class 2']\r\n",
    "    fig = plt.figure()\r\n",
    "    ax = fig.add_subplot(111)\r\n",
    "    cax = ax.matshow(cm)\r\n",
    "    plt.title('Confusion matrix ')\r\n",
    "    fig.colorbar(cax)\r\n",
    "    ax.set_xticklabels([''] + labels)\r\n",
    "    ax.set_yticklabels([''] + labels)\r\n",
    "    plt.xlabel('Predicted Values')\r\n",
    "    plt.ylabel('Actual Values')\r\n",
    "    plt.show()\r\n",
    "svm_reg_1(df)"
   ],
   "outputs": [
    {
     "output_type": "stream",
     "name": "stdout",
     "text": [
      "features Index(['sepal length (cm)', 'sepal width (cm)', 'petal length (cm)',\n",
      "       'petal width (cm)'],\n",
      "      dtype='object') \n",
      "\n",
      "Shape of DataFrame, X-Test,X-Train,Y-Test,Y-Train\t:  (150, 5) (120, 4) (30, 4) (120, 1) (30, 1)\n",
      "accuracy: 1.0\n",
      "Precision: 1.0\n",
      "Recall: 1.0\n",
      "          Predicted 0  Predicted 1  Predicted 2\n",
      "Actual 0            9            0            0\n",
      "Actual 1            0           10            0\n",
      "Actual 2            0            0           11\n",
      "              precision    recall  f1-score   support\n",
      "\n",
      "           0      1.000     1.000     1.000         9\n",
      "           1      1.000     1.000     1.000        10\n",
      "           2      1.000     1.000     1.000        11\n",
      "\n",
      "    accuracy                          1.000        30\n",
      "   macro avg      1.000     1.000     1.000        30\n",
      "weighted avg      1.000     1.000     1.000        30\n",
      "\n"
     ]
    },
    {
     "output_type": "stream",
     "name": "stderr",
     "text": [
      "<ipython-input-15-405a7a63bc16>:33: UserWarning: FixedFormatter should only be used together with FixedLocator\n",
      "  ax.set_xticklabels([''] + labels)\n",
      "<ipython-input-15-405a7a63bc16>:34: UserWarning: FixedFormatter should only be used together with FixedLocator\n",
      "  ax.set_yticklabels([''] + labels)\n"
     ]
    },
    {
     "output_type": "display_data",
     "data": {
      "text/plain": [
       "<Figure size 432x288 with 2 Axes>"
      ],
      "image/png": "[encoded data removed]"
     },
     "metadata": {
      "needs_background": "light"
     }
    }
   ],
   "metadata": {}
  }
 ],
 "metadata": {
  "orig_nbformat": 4,
  "language_info": {
   "name": "python"
  }
 },
 "nbformat": 4,
 "nbformat_minor": 2
}