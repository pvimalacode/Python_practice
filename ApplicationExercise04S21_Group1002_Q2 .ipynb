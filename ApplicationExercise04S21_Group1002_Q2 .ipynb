{
 "cells": [
  {
   "cell_type": "code",
   "execution_count": 8,
   "source": [
    "import os\r\n",
    "os.getcwd()\r\n",
    "os.chdir(\"C:\\DS&AI\\Vimala\\Python\\Python_Class\\Pythongrp4\")"
   ],
   "outputs": [],
   "metadata": {}
  },
  {
   "cell_type": "code",
   "execution_count": 3,
   "source": [
    "file = input(\"Enter file name: \")\r\n",
    "fh = open(file)\r\n",
    "lst=list()\r\n",
    "for line in fh:\r\n",
    "    for each in line:\r\n",
    "        word = line.split()\r\n",
    "        for wrd in word:\r\n",
    "            if wrd not in lst:\r\n",
    "                lst.append(wrd)\r\n",
    "print(lst)"
   ],
   "outputs": [
    {
     "output_type": "stream",
     "name": "stdout",
     "text": [
      "['Bed', 'frames', 'are', 'good', 'and', 'setup', 'was', 'easy', ',', 'but', 'the', 'slats', 'too', 'far', 'apart', 'to', 'use', 'it', 'without', 'a', 'box', 'spring', '.', '$', 'If', 'more', 'than', '2', 'inches', 'voids', 'your', 'mattress', 'warranty.', 'Now', 'I', 'have', 'buy', 'slats,', 'which', 'is', 'not', 'only', 'hassle', 'an', 'added', 'cost,', 'just', 'make', 'sure', 'can', 'this', 'frame.', 'Seeing', 'highly', 'rated', 'reviews', 'for', 'bed,', 'decided', 'go', 'as', 'well-priced', 'will', 'try', 'simple', 'with', 'pros', 'cons', 'Pros', ':', '1', 'Reasonable', 'price', '-', 'bought', 'at', '207', '+', 'tax', 'if', 'you', 'look', 'wayfair.ca', 'similar', 'bed', '(', 'search', 'Colby', ')', '350', 'has', 'exact', 'design', 'one.', 'believe', 'they', 'made', 'by', 'same', 'manufacturer', 'rebranded', 'sell', 'wayfair.', 'Considering', 'that,', 'great', 'price.', 'Sturdy', 'The', \"doesn't\", 'squeak', 'sturdy', 'because', 'of', 'metal', 'frame', 'some', 'mention', 'later', '3', 'Installation', 'easy,', 'took', 'me', 'hour.', '4', 'Slats', 'attach', 'using', 'two', 'sided', '\"', 'grabs', '\".', \"Don't\", 'know', 'name.', 'read', 'before', 'purchasing', 'thought,', 'wow', '55', 'people', 'raving', 'about', 'this.', 'Got', 'it.', 'pieces', 'all', 'tucked', 'neatly', 'inside', 'headboard.', 'It', 'comes', 'tools', 'need', 'assemble.', 'wanted', 'something', 'could', 'do', 'myself', 'ever', 'build', 'furniture)', '37', 'minutes', 'from', 'start', 'finish.', 'directions', 'very', 'understand', 'hardware', 'ie', 'no', 'stripped', 'screws', ').', 'There', 'velcro', 'that', 'holds', 'in', 'place.', 'My', 'bit', 'higher', 'would', 'liked', 'takes', 'away', 'headboard,', 'looks', 'so', 'great.', 'You', 'store', 'millions', 'dollars', 'back', 'zippered', 'too.', 'definitely', 'be', 'buying', 'Zinus', 'products', 'future.', 'Excellent', 'quality', 'paid', '246', 'king', 'Buy', 'now', 'its', 'available', '!', 'UPDATE', '29', 'SEPTEMBER', '2018', 'This', 'amazing.', 'moved', 'houses', 'it,', 'fit', 'nicely', 'headboard', 'set', 'up', 'again.', 'cat,', 'she', \"hasn't\", 'any', 'claw', 'marks', 'craftsmanship.', '5', 'stars', 'around!!', 'We', 'really', 'love', 'got', 'size', 'platform', 'our', 'new', 'Douglas', 'foam', 'had', 'concerns', 'being', 'supportive', 'enough', 'slats.', 'turns', 'out,', \"it's\", 'incredibly', 'sturdy,', 'quite', 'close', 'together', 'nice!', 'Was', 'super', 'came', 'we', 'needed.', 'husband', 'sleep', 'on', 'comfortably', 'creaking', 'or', 'issues', 'Shipping,', 'manufacturers', 'fault', 'ordered', 'Amazon', 'Prime,', 'Feb', '13', 'received', '19', '21', 'contacted', 'them', 'after', 'date', 'am', 'told', 'itâ€™s', 'sold', 'out', 'get', 'soon', 'in.', 'shipped', 'overnight', 'March', '2.', 'Worth', 'wait', 'one', 'easiest', 'write', \"I've\", 'given.', 'other', 'here', 'WOW', 'were', 'right.', 'insane', 'how', 'price,', 'even', 'well', 'put', 'is.', 'IKEA', 'should', 'designed', 'incredible', 'thought', 'everything', 'painless', 'together.', 'Unlike', 'replaced,', 'SOLID.', 'Nothing', 'wobbles', 'extra', 'parts', 'fantastic', 'still', \"can't\", \"I'm\", 'looking', 'might', 'my', 'apartment.', 'Would', 'again']\n"
     ]
    }
   ],
   "metadata": {}
  },
  {
   "cell_type": "code",
   "execution_count": 4,
   "source": [
    "import re\r\n",
    "def remove_values_from_lst(lst, val):\r\n",
    "   return [value for value in lst if value != val]\r\n",
    "art = ['a','an','the','she','are','is']\r\n",
    "for word in list(lst):  # iterating on a copy since removing will mess things up\r\n",
    "    if word in art:\r\n",
    "        lst.remove(word)\r\n",
    "#print(lst)\r\n",
    "New_list = lst\r\n",
    "print([re.sub('[^a-zA-Z0-9]+','',_) for _ in New_list])\r\n",
    "#print(New_list)"
   ],
   "outputs": [
    {
     "output_type": "stream",
     "name": "stdout",
     "text": [
      "['Bed', 'frames', 'good', 'and', 'setup', 'was', 'easy', '', 'but', 'slats', 'too', 'far', 'apart', 'to', 'use', 'it', 'without', 'box', 'spring', '', '', 'If', 'more', 'than', '2', 'inches', 'voids', 'your', 'mattress', 'warranty', 'Now', 'I', 'have', 'buy', 'slats', 'which', 'not', 'only', 'hassle', 'added', 'cost', 'just', 'make', 'sure', 'can', 'this', 'frame', 'Seeing', 'highly', 'rated', 'reviews', 'for', 'bed', 'decided', 'go', 'as', 'wellpriced', 'will', 'try', 'simple', 'with', 'pros', 'cons', 'Pros', '', '1', 'Reasonable', 'price', '', 'bought', 'at', '207', '', 'tax', 'if', 'you', 'look', 'wayfairca', 'similar', 'bed', '', 'search', 'Colby', '', '350', 'has', 'exact', 'design', 'one', 'believe', 'they', 'made', 'by', 'same', 'manufacturer', 'rebranded', 'sell', 'wayfair', 'Considering', 'that', 'great', 'price', 'Sturdy', 'The', 'doesnt', 'squeak', 'sturdy', 'because', 'of', 'metal', 'frame', 'some', 'mention', 'later', '3', 'Installation', 'easy', 'took', 'me', 'hour', '4', 'Slats', 'attach', 'using', 'two', 'sided', '', 'grabs', '', 'Dont', 'know', 'name', 'read', 'before', 'purchasing', 'thought', 'wow', '55', 'people', 'raving', 'about', 'this', 'Got', 'it', 'pieces', 'all', 'tucked', 'neatly', 'inside', 'headboard', 'It', 'comes', 'tools', 'need', 'assemble', 'wanted', 'something', 'could', 'do', 'myself', 'ever', 'build', 'furniture', '37', 'minutes', 'from', 'start', 'finish', 'directions', 'very', 'understand', 'hardware', 'ie', 'no', 'stripped', 'screws', '', 'There', 'velcro', 'that', 'holds', 'in', 'place', 'My', 'bit', 'higher', 'would', 'liked', 'takes', 'away', 'headboard', 'looks', 'so', 'great', 'You', 'store', 'millions', 'dollars', 'back', 'zippered', 'too', 'definitely', 'be', 'buying', 'Zinus', 'products', 'future', 'Excellent', 'quality', 'paid', '246', 'king', 'Buy', 'now', 'its', 'available', '', 'UPDATE', '29', 'SEPTEMBER', '2018', 'This', 'amazing', 'moved', 'houses', 'it', 'fit', 'nicely', 'headboard', 'set', 'up', 'again', 'cat', 'hasnt', 'any', 'claw', 'marks', 'craftsmanship', '5', 'stars', 'around', 'We', 'really', 'love', 'got', 'size', 'platform', 'our', 'new', 'Douglas', 'foam', 'had', 'concerns', 'being', 'supportive', 'enough', 'slats', 'turns', 'out', 'its', 'incredibly', 'sturdy', 'quite', 'close', 'together', 'nice', 'Was', 'super', 'came', 'we', 'needed', 'husband', 'sleep', 'on', 'comfortably', 'creaking', 'or', 'issues', 'Shipping', 'manufacturers', 'fault', 'ordered', 'Amazon', 'Prime', 'Feb', '13', 'received', '19', '21', 'contacted', 'them', 'after', 'date', 'am', 'told', 'its', 'sold', 'out', 'get', 'soon', 'in', 'shipped', 'overnight', 'March', '2', 'Worth', 'wait', 'one', 'easiest', 'write', 'Ive', 'given', 'other', 'here', 'WOW', 'were', 'right', 'insane', 'how', 'price', 'even', 'well', 'put', 'is', 'IKEA', 'should', 'designed', 'incredible', 'thought', 'everything', 'painless', 'together', 'Unlike', 'replaced', 'SOLID', 'Nothing', 'wobbles', 'extra', 'parts', 'fantastic', 'still', 'cant', 'Im', 'looking', 'might', 'my', 'apartment', 'Would', 'again']\n"
     ]
    }
   ],
   "metadata": {}
  },
  {
   "cell_type": "code",
   "execution_count": 5,
   "source": [
    "g=len(re.findall(r'good|amazing', ' '.join(New_list)))\r\n",
    "print(g)"
   ],
   "outputs": [
    {
     "output_type": "stream",
     "name": "stdout",
     "text": [
      "2\n"
     ]
    }
   ],
   "metadata": {}
  },
  {
   "cell_type": "code",
   "execution_count": 6,
   "source": [
    "b=len(re.findall(r'terrible|angry|dirty', ' '.join(New_list)))\r\n",
    "print(b)"
   ],
   "outputs": [
    {
     "output_type": "stream",
     "name": "stdout",
     "text": [
      "0\n"
     ]
    }
   ],
   "metadata": {}
  },
  {
   "cell_type": "code",
   "execution_count": 7,
   "source": [
    "if g>b:\r\n",
    "    print('Good Review ')\r\n",
    "elif g==b:\r\n",
    "    print('Neutral Review')\r\n",
    "else:\r\n",
    "    print('Bad Review')\r\n",
    "    "
   ],
   "outputs": [
    {
     "output_type": "stream",
     "name": "stdout",
     "text": [
      "Good Review \n"
     ]
    }
   ],
   "metadata": {}
  },
  {
   "cell_type": "code",
   "execution_count": null,
   "source": [],
   "outputs": [],
   "metadata": {}
  }
 ],
 "metadata": {
  "kernelspec": {
   "name": "python3",
   "display_name": "Python 3.9.5 64-bit"
  },
  "language_info": {
   "codemirror_mode": {
    "name": "ipython",
    "version": 3
   },
   "file_extension": ".py",
   "mimetype": "text/x-python",
   "name": "python",
   "nbconvert_exporter": "python",
   "pygments_lexer": "ipython3",
   "version": "3.9.5"
  },
  "interpreter": {
   "hash": "ac59ebe37160ed0dfa835113d9b8498d9f09ceb179beaac4002f036b9467c963"
  }
 },
 "nbformat": 4,
 "nbformat_minor": 5
}