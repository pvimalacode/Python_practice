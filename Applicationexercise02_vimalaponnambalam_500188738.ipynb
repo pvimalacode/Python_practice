{
 "cells": [
  {
   "cell_type": "code",
   "execution_count": 113,
   "source": [
    "import pyinputplus as pyip\r\n",
    "print('Monthly Payment Calculator')\r\n",
    "temp='y'\r\n",
    "while temp=='y':\r\n",
    "    print('DATA ENTRY')\r\n",
    "    pv=pyip.inputNum('Loan amount:\\t\\t\\t:',min=0)\r\n",
    "    yir=pyip.inputNum('Yearly interest rate:\\t\\t\\t:',min=0)\r\n",
    "    year=pyip.inputNum('Years:\\t\\t\\t:',min=0)\r\n",
    "    m=year*12\r\n",
    "    i=(yir/100)/12\r\n",
    "    mpay=pv*i/(1-(1/(1+i)**n))\r\n",
    "    print('\\nFORMATTED RESULTS\\nLoan amount\\t\\t:','${:,.2f}'.format(lamt),'\\nYearly interest rate\\t:','{:,.1f}%'.format(yir),'\\nNumber of years\\t\\t:',year,'\\nMonthly payment\\t\\t:','${:,.2f}'.format(mpay))\r\n",
    "    temp=input('Continue? (y/n):')\r\n",
    "print('Bye!')"
   ],
   "outputs": [
    {
     "output_type": "stream",
     "name": "stdout",
     "text": [
      "Monthly Payment Calculator\n",
      "DATA ENTRY\n",
      "Loan amount:\t\t\t:Yearly interest rate:\t\t\t:Years:\t\t\t:\n",
      "FORMATTED RESULTS\n",
      "Loan amount\t\t: $500,000.00 \n",
      "Yearly interest rate\t: 5.6% \n",
      "Number of years\t\t: 30 \n",
      "Monthly payment\t\t: $2,870.39\n",
      "DATA ENTRY\n",
      "Loan amount:\t\t\t:Yearly interest rate:\t\t\t:Years:\t\t\t:\n",
      "FORMATTED RESULTS\n",
      "Loan amount\t\t: $500,000.00 \n",
      "Yearly interest rate\t: 4.3% \n",
      "Number of years\t\t: 30 \n",
      "Monthly payment\t\t: $2,474.36\n",
      "Bye!\n"
     ]
    }
   ],
   "metadata": {}
  },
  {
   "cell_type": "code",
   "execution_count": 121,
   "source": [
    "temp='y'\r\n",
    "while temp=='y':\r\n",
    "    a=int(input(\"Number 1:\"))\r\n",
    "    b=int(input(\"Number 2:\"))\r\n",
    "    GCD=gcd(a,b)\r\n",
    "    print(\"Greatest common divisor:\",GCD)\r\n",
    "    temp=input('Continue? (y/n): ')\r\n",
    "print('Bye!')\r\n",
    "\r\n"
   ],
   "outputs": [
    {
     "output_type": "stream",
     "name": "stdout",
     "text": [
      "Greatest common divisor: 5\n",
      "Greatest common divisor: 3\n",
      "Greatest common divisor: 1\n",
      "Bye!\n"
     ]
    }
   ],
   "metadata": {}
  },
  {
   "cell_type": "code",
   "execution_count": 2,
   "source": [
    "p_rate={'A':14,'B':17.5,'C':21.5,'D':25,'E':31.5}\r\n",
    "\r\n",
    "hrs=int(input('the number of hours worked by an employee:'))\r\n",
    "emptype=input('Enter type of employee:')\r\n",
    "if emptype.upper() in p_rate:\r\n",
    "    gross=p_rate[emptype.upper()]*hrs\r\n",
    "    print('the gross pay of the employee:',gross)\r\n",
    "else:\r\n",
    "    print('incorrect inputs')"
   ],
   "outputs": [
    {
     "output_type": "stream",
     "name": "stdout",
     "text": [
      "the gross pay of the employee: 1092\n"
     ]
    }
   ],
   "metadata": {}
  },
  {
   "cell_type": "code",
   "execution_count": 1,
   "source": [
    "78*14"
   ],
   "outputs": [
    {
     "output_type": "execute_result",
     "data": {
      "text/plain": [
       "1092"
      ]
     },
     "metadata": {},
     "execution_count": 1
    }
   ],
   "metadata": {}
  },
  {
   "cell_type": "code",
   "execution_count": null,
   "source": [],
   "outputs": [],
   "metadata": {}
  }
 ],
 "metadata": {
  "orig_nbformat": 4,
  "language_info": {
   "name": "python",
   "version": "3.9.5",
   "mimetype": "text/x-python",
   "codemirror_mode": {
    "name": "ipython",
    "version": 3
   },
   "pygments_lexer": "ipython3",
   "nbconvert_exporter": "python",
   "file_extension": ".py"
  },
  "kernelspec": {
   "name": "python3",
   "display_name": "Python 3.9.5 64-bit"
  },
  "interpreter": {
   "hash": "ac59ebe37160ed0dfa835113d9b8498d9f09ceb179beaac4002f036b9467c963"
  }
 },
 "nbformat": 4,
 "nbformat_minor": 2
}