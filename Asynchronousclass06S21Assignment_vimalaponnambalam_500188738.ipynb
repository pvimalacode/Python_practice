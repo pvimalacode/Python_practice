{
 "cells": [
  {
   "cell_type": "markdown",
   "metadata": {},
   "source": [
    "<h1>Asynchronous class 06S21</h1>\r\n",
    "\r\n",
    "<h2>Chapter 12 How to work with dictionaries</h2>\r\n",
    "\r\n",
    "<b>Use the class time to review Chapter 12 posted in week 6  on Moodle up to slide 19 and create python programs for the dictionary examples listed there.\r\n",
    "\r\n",
    "You must spend at least 2 hrs.\r\n",
    "\r\n",
    "zip all programs in a zip file and submit it here.</b>"
   ]
  },
  {
   "cell_type": "markdown",
   "metadata": {},
   "source": [
    "<b>The syntax for creating a dictionary"
   ]
  },
  {
   "cell_type": "code",
   "execution_count": 15,
   "metadata": {},
   "outputs": [
    {
     "name": "stdout",
     "output_type": "stream",
     "text": [
      "{'key1': 'values1', 'key2': [1, 2, True, 'test'], (1, 2): 'This accepts tuple as key but not list', 3: 8}\n"
     ]
    }
   ],
   "source": [
    "dict_test = {'key1':'values1','key2':[1,2,True,'test'],(1,2):'This accepts tuple as key but not list',3:8}\r\n",
    "print(dict_test)"
   ]
  },
  {
   "cell_type": "markdown",
   "metadata": {},
   "source": [
    "<b>Empty Dictionary"
   ]
  },
  {
   "cell_type": "code",
   "execution_count": 16,
   "metadata": {},
   "outputs": [
    {
     "name": "stdout",
     "output_type": "stream",
     "text": [
      "{}\n"
     ]
    }
   ],
   "source": [
    "dict_empty={}\r\n",
    "print(dict_empty)"
   ]
  },
  {
   "cell_type": "markdown",
   "metadata": {},
   "source": [
    "<b> Accessing Values from dictionary"
   ]
  },
  {
   "cell_type": "code",
   "execution_count": 17,
   "metadata": {},
   "outputs": [
    {
     "name": "stdout",
     "output_type": "stream",
     "text": [
      "[1, 2, True, 'test']\n"
     ]
    }
   ],
   "source": [
    "value2= dict_test['key2']\r\n",
    "print(value2)"
   ]
  },
  {
   "cell_type": "code",
   "execution_count": 18,
   "metadata": {},
   "outputs": [
    {
     "ename": "KeyError",
     "evalue": "'key3'",
     "output_type": "error",
     "traceback": [
      "\u001b[1;31m---------------------------------------------------------------------------\u001b[0m",
      "\u001b[1;31mKeyError\u001b[0m                                  Traceback (most recent call last)",
      "\u001b[1;32m<ipython-input-18-a2a151b247c8>\u001b[0m in \u001b[0;36m<module>\u001b[1;34m\u001b[0m\n\u001b[1;32m----> 1\u001b[1;33m \u001b[0mvalue3\u001b[0m\u001b[1;33m=\u001b[0m\u001b[0mdict_test\u001b[0m\u001b[1;33m[\u001b[0m\u001b[1;34m'key3'\u001b[0m\u001b[1;33m]\u001b[0m\u001b[1;33m\u001b[0m\u001b[1;33m\u001b[0m\u001b[0m\n\u001b[0m",
      "\u001b[1;31mKeyError\u001b[0m: 'key3'"
     ]
    }
   ],
   "source": [
    "value3=dict_test['key3']"
   ]
  },
  {
   "cell_type": "markdown",
   "metadata": {},
   "source": [
    "<b> Adding values if key exists"
   ]
  },
  {
   "cell_type": "code",
   "execution_count": 19,
   "metadata": {},
   "outputs": [
    {
     "name": "stdout",
     "output_type": "stream",
     "text": [
      "[1, 2, True, 'test']\n",
      "This has been changed\n"
     ]
    }
   ],
   "source": [
    "print(dict_test['key2'])\r\n",
    "dict_test['key2']='This has been changed'\r\n",
    "print(dict_test['key2'])"
   ]
  },
  {
   "cell_type": "code",
   "execution_count": 20,
   "metadata": {},
   "outputs": [
    {
     "name": "stdout",
     "output_type": "stream",
     "text": [
      "{'key1': 'values1', 'key2': 'This has been changed', (1, 2): 'This accepts tuple as key but not list', 3: 8, 'key3': 'This has been added new'}\n"
     ]
    }
   ],
   "source": [
    "dict_test['key3']='This has been added new'\r\n",
    "print(dict_test)"
   ]
  },
  {
   "cell_type": "code",
   "execution_count": 21,
   "metadata": {},
   "outputs": [
    {
     "name": "stdout",
     "output_type": "stream",
     "text": [
      "Key does not exist\n"
     ]
    }
   ],
   "source": [
    "d_key='key21'\r\n",
    "if d_key in dict_test:\r\n",
    "    print(dict_test[d_key])\r\n",
    "else:\r\n",
    "    print(\"Key does not exist\")"
   ]
  },
  {
   "cell_type": "code",
   "execution_count": 22,
   "metadata": {},
   "outputs": [
    {
     "data": {
      "text/plain": [
       "'Key does not exist'"
      ]
     },
     "execution_count": 22,
     "metadata": {},
     "output_type": "execute_result"
    }
   ],
   "source": [
    "dict_test.get('key21','Key does not exist')"
   ]
  },
  {
   "cell_type": "markdown",
   "metadata": {},
   "source": [
    "<b> Deleting an item from dictionary"
   ]
  },
  {
   "cell_type": "code",
   "execution_count": 23,
   "metadata": {},
   "outputs": [
    {
     "name": "stdout",
     "output_type": "stream",
     "text": [
      "{'key1': 'values1', 'key2': 'This has been changed', (1, 2): 'This accepts tuple as key but not list', 3: 8, 'key3': 'This has been added new'}\n",
      "{'key1': 'values1', 'key2': 'This has been changed', (1, 2): 'This accepts tuple as key but not list', 3: 8}\n"
     ]
    }
   ],
   "source": [
    "print(dict_test)\r\n",
    "del dict_test['key3']\r\n",
    "print(dict_test)"
   ]
  },
  {
   "cell_type": "code",
   "execution_count": 24,
   "metadata": {},
   "outputs": [
    {
     "name": "stdout",
     "output_type": "stream",
     "text": [
      "Istanbul was deleted from countries\n"
     ]
    }
   ],
   "source": [
    "countries = {\"CA\": \"Canada\",\"US\": \"United States\",\"GB\": \"Great Britain\",\"MX\": \"Mexico\",'IS':'Istanbul'}\r\n",
    "\r\n",
    "code='IS'\r\n",
    "\r\n",
    "if code in countries:\r\n",
    "    country=countries[code]\r\n",
    "    del countries[code]\r\n",
    "    print(country,'was deleted from countries')\r\n",
    "else:\r\n",
    "    print('Country Code does not exists')\r\n"
   ]
  },
  {
   "cell_type": "markdown",
   "metadata": {},
   "source": [
    "<b> Dictionary Methods for deletion"
   ]
  },
  {
   "cell_type": "code",
   "execution_count": 25,
   "metadata": {},
   "outputs": [],
   "source": [
    "country=countries.pop('US')"
   ]
  },
  {
   "cell_type": "code",
   "execution_count": 26,
   "metadata": {},
   "outputs": [
    {
     "data": {
      "text/plain": [
       "({'CA': 'Canada', 'GB': 'Great Britain', 'MX': 'Mexico'}, 'United States')"
      ]
     },
     "execution_count": 26,
     "metadata": {},
     "output_type": "execute_result"
    }
   ],
   "source": [
    "countries,country"
   ]
  },
  {
   "cell_type": "code",
   "execution_count": 27,
   "metadata": {},
   "outputs": [
    {
     "ename": "KeyError",
     "evalue": "'IE'",
     "output_type": "error",
     "traceback": [
      "\u001b[1;31m---------------------------------------------------------------------------\u001b[0m",
      "\u001b[1;31mKeyError\u001b[0m                                  Traceback (most recent call last)",
      "\u001b[1;32m<ipython-input-27-18b29c15d552>\u001b[0m in \u001b[0;36m<module>\u001b[1;34m\u001b[0m\n\u001b[1;32m----> 1\u001b[1;33m \u001b[0mcountries\u001b[0m\u001b[1;33m.\u001b[0m\u001b[0mpop\u001b[0m\u001b[1;33m(\u001b[0m\u001b[1;34m'IE'\u001b[0m\u001b[1;33m)\u001b[0m\u001b[1;33m\u001b[0m\u001b[1;33m\u001b[0m\u001b[0m\n\u001b[0m",
      "\u001b[1;31mKeyError\u001b[0m: 'IE'"
     ]
    }
   ],
   "source": [
    "countries.pop('IE')"
   ]
  },
  {
   "cell_type": "code",
   "execution_count": 28,
   "metadata": {},
   "outputs": [
    {
     "data": {
      "text/plain": [
       "'Does not exists'"
      ]
     },
     "execution_count": 28,
     "metadata": {},
     "output_type": "execute_result"
    }
   ],
   "source": [
    "countries.pop('IE','Does not exists')"
   ]
  },
  {
   "cell_type": "code",
   "execution_count": 29,
   "metadata": {},
   "outputs": [
    {
     "name": "stdout",
     "output_type": "stream",
     "text": [
      "dict_keys(['key1', 'key2', (1, 2), 3])\n"
     ]
    },
    {
     "data": {
      "text/plain": [
       "dict_keys(['CA', 'GB', 'MX'])"
      ]
     },
     "execution_count": 29,
     "metadata": {},
     "output_type": "execute_result"
    }
   ],
   "source": [
    "print(dict_test.keys())\r\n",
    "countries.keys()"
   ]
  },
  {
   "cell_type": "code",
   "execution_count": 30,
   "metadata": {},
   "outputs": [
    {
     "name": "stdout",
     "output_type": "stream",
     "text": [
      "dict_values(['values1', 'This has been changed', 'This accepts tuple as key but not list', 8])\n"
     ]
    },
    {
     "data": {
      "text/plain": [
       "dict_values(['Canada', 'Great Britain', 'Mexico'])"
      ]
     },
     "execution_count": 30,
     "metadata": {},
     "output_type": "execute_result"
    }
   ],
   "source": [
    "print(dict_test.values())\r\n",
    "countries.values()"
   ]
  },
  {
   "cell_type": "code",
   "execution_count": 31,
   "metadata": {},
   "outputs": [
    {
     "data": {
      "text/plain": [
       "dict_items([('key1', 'values1'), ('key2', 'This has been changed'), ((1, 2), 'This accepts tuple as key but not list'), (3, 8)])"
      ]
     },
     "execution_count": 31,
     "metadata": {},
     "output_type": "execute_result"
    }
   ],
   "source": [
    "dict_test.items()"
   ]
  },
  {
   "cell_type": "code",
   "execution_count": 32,
   "metadata": {},
   "outputs": [
    {
     "name": "stdout",
     "output_type": "stream",
     "text": [
      "key1 : values1\n",
      "key2 : This has been changed\n",
      "(1, 2) : This accepts tuple as key but not list\n",
      "3 : 8\n"
     ]
    }
   ],
   "source": [
    "for item in dict_test:\r\n",
    "    print(item,':',dict_test[item])"
   ]
  },
  {
   "cell_type": "code",
   "execution_count": 33,
   "metadata": {},
   "outputs": [
    {
     "name": "stdout",
     "output_type": "stream",
     "text": [
      "key1 : values1\n",
      "key2 : This has been changed\n",
      "(1, 2) : This accepts tuple as key but not list\n",
      "3 : 8\n"
     ]
    }
   ],
   "source": [
    "for k,v in dict_test.items():\r\n",
    "    print(k,':',v)"
   ]
  },
  {
   "cell_type": "code",
   "execution_count": 34,
   "metadata": {},
   "outputs": [
    {
     "name": "stdout",
     "output_type": "stream",
     "text": [
      "values1\n",
      "This has been changed\n",
      "This accepts tuple as key but not list\n",
      "8\n"
     ]
    }
   ],
   "source": [
    "for value in dict_test.values():\r\n",
    "    print(value)"
   ]
  },
  {
   "cell_type": "markdown",
   "metadata": {},
   "source": [
    "<b>Build-in Constructors"
   ]
  },
  {
   "cell_type": "code",
   "execution_count": 35,
   "metadata": {},
   "outputs": [
    {
     "name": "stdout",
     "output_type": "stream",
     "text": [
      "<class 'list'> <class 'dict_keys'>\n",
      "['CA', 'US', 'GB', 'MX', 'IS']\n",
      "CA\n",
      "GB\n",
      "IS\n",
      "MX\n",
      "US\n"
     ]
    }
   ],
   "source": [
    "countries = {\"CA\": \"Canada\",\"US\": \"United States\",\"GB\": \"Great Britain\",\"MX\": \"Mexico\",'IS':'Istanbul'}\r\n",
    "country_code = list(countries.keys())\r\n",
    "print(type(country_code),type(countries.keys()))\r\n",
    "print(country_code)\r\n",
    "country_code.sort()\r\n",
    "for code in country_code:\r\n",
    "    print(code)"
   ]
  },
  {
   "cell_type": "markdown",
   "metadata": {},
   "source": [
    "<b> 2D list to dictionary"
   ]
  },
  {
   "cell_type": "code",
   "execution_count": 36,
   "metadata": {},
   "outputs": [
    {
     "name": "stdout",
     "output_type": "stream",
     "text": [
      "{'GB': 'United Kingdom', 'NL': 'Netherlands', 'DE': 'Germany'}\n"
     ]
    }
   ],
   "source": [
    "countries = [[\"GB\", \"United Kingdom\"],[\"NL\", \"Netherlands\"],[\"DE\", \"Germany\"]]\r\n",
    "countries_dict=dict(countries)\r\n",
    "print(countries_dict)"
   ]
  },
  {
   "cell_type": "markdown",
   "metadata": {},
   "source": [
    "\r\n",
    "<p>\r\n",
    "COMMAND MENU\r\n",
    "\r\n",
    "view - View country name\r\n",
    "add  - Add a country\r\n",
    "del  - Delete a country\r\n",
    "exit - Exit program\r\n",
    "\r\n",
    "Command: view\r\n",
    "Country codes: CA MX US \r\n",
    "Enter country code: mx\r\n",
    "Country name: Mexico.\r\n",
    "\r\n",
    "Command: add\r\n",
    "Enter country code: nl\r\n",
    "Enter country name: netherlands\r\n",
    "Netherlands was added.\r\n",
    "\r\n",
    "Command: view\r\n",
    "Country codes: CA MX NL US \r\n",
    "Enter country code: nl\r\n",
    "Country name: Netherlands.\r\n",
    "\r\n",
    "Command: del\r\n",
    "Enter country code: us\r\n",
    "United States was deleted.\r\n",
    "\r\n",
    "Command: exit\r\n",
    "Bye!\r\n",
    "\r\n",
    "</p>"
   ]
  },
  {
   "cell_type": "code",
   "execution_count": 1,
   "metadata": {},
   "outputs": [],
   "source": [
    "def disp():\r\n",
    "    print('view\\t-\\tView country name\\n\\\r\n",
    "add\\t-\\tAdd a country\\n\\\r\n",
    "del\\t-\\tDelete a country\\n\\\r\n",
    "exit\\t-\\tExit program')\r\n",
    "    cmds=['view','add','del','exit']\r\n",
    "    cmd=(input('command:')).lower()\r\n",
    "    if cmd in cmds:\r\n",
    "        return(cmd)\r\n",
    "    else:\r\n",
    "        print(\" Enter only 'view','add','del','exit'\")\r\n",
    "        #disp()\r\n",
    "\r\n",
    "    "
   ]
  },
  {
   "cell_type": "code",
   "execution_count": 10,
   "metadata": {},
   "outputs": [
    {
     "name": "stdout",
     "output_type": "stream",
     "text": [
      "view\t-\tView country name\n",
      "add\t-\tAdd a country\n",
      "del\t-\tDelete a country\n",
      "exit\t-\tExit program\n",
      " Enter only 'view','add','del','exit'\n",
      "view\t-\tView country name\n",
      "add\t-\tAdd a country\n",
      "del\t-\tDelete a country\n",
      "exit\t-\tExit program\n",
      " Enter only 'view','add','del','exit'\n",
      "view\t-\tView country name\n",
      "add\t-\tAdd a country\n",
      "del\t-\tDelete a country\n",
      "exit\t-\tExit program\n",
      " Enter only 'view','add','del','exit'\n",
      "view\t-\tView country name\n",
      "add\t-\tAdd a country\n",
      "del\t-\tDelete a country\n",
      "exit\t-\tExit program\n"
     ]
    }
   ],
   "source": [
    "cmd=disp()"
   ]
  },
  {
   "cell_type": "code",
   "execution_count": 38,
   "metadata": {},
   "outputs": [
    {
     "name": "stdout",
     "output_type": "stream",
     "text": [
      "GB NL DE\n"
     ]
    }
   ],
   "source": [
    "print(*countries_dict.keys())"
   ]
  },
  {
   "cell_type": "code",
   "execution_count": 4,
   "metadata": {},
   "outputs": [],
   "source": [
    "def view_code():\r\n",
    "    print('country codes:',*countries_dict.keys())\r\n",
    "    code=input('Enter any of the above codes:').upper()\r\n",
    "    if code in countries_dict.keys():\r\n",
    "        #break\r\n",
    "        print('Country Name:',countries_dict[code])\r\n",
    "        \r\n",
    "    else:\r\n",
    "        print('Enter only',*countries_dict.keys())\r\n",
    "        view_code()\r\n",
    "        \r\n",
    "\r\n",
    "    "
   ]
  },
  {
   "cell_type": "code",
   "execution_count": 9,
   "metadata": {},
   "outputs": [
    {
     "name": "stdout",
     "output_type": "stream",
     "text": [
      "country codes: CA US GB MX IS\n",
      "Country Name: Istanbul\n"
     ]
    }
   ],
   "source": [
    "view_code()"
   ]
  },
  {
   "cell_type": "code",
   "execution_count": 5,
   "metadata": {},
   "outputs": [],
   "source": [
    "def add_code():\r\n",
    "    key=input('Enter Country Code:').upper()\r\n",
    "    if key in countries_dict.keys():\r\n",
    "        print('Key Already exists. Enter codes other than',*countries_dict.keys())\r\n",
    "        add_code()\r\n",
    "    else:\r\n",
    "        value=input('Enter Country Name:').capitalize()\r\n",
    "        countries_dict[key]=value\r\n",
    "        print('Country',value,'added')\r\n",
    "        \r\n",
    "    \r\n"
   ]
  },
  {
   "cell_type": "code",
   "execution_count": 6,
   "metadata": {},
   "outputs": [],
   "source": [
    "def del_k():\r\n",
    "    key=input('Enter Country Code to del:').upper()\r\n",
    "    if key in countries_dict.keys():\r\n",
    "        deleted=countries_dict[key]\r\n",
    "        del countries_dict[key]\r\n",
    "        print('Country',deleted,'deleted')\r\n",
    "        \r\n",
    "    else:\r\n",
    "        print('Enter Valid codes.Acceptable code:',*countries_dict.keys())\r\n",
    "        del_k()\r\n",
    "    \r\n",
    "    \r\n",
    "        "
   ]
  },
  {
   "cell_type": "code",
   "execution_count": 12,
   "metadata": {},
   "outputs": [
    {
     "name": "stdout",
     "output_type": "stream",
     "text": [
      "view\t-\tView country name\n",
      "add\t-\tAdd a country\n",
      "del\t-\tDelete a country\n",
      "exit\t-\tExit program\n",
      "country codes: CA US GB MX IS\n",
      "Enter only CA US GB MX IS\n",
      "country codes: CA US GB MX IS\n",
      "Country Name: United States\n",
      "view\t-\tView country name\n",
      "add\t-\tAdd a country\n",
      "del\t-\tDelete a country\n",
      "exit\t-\tExit program\n",
      "Country Okahama added\n",
      "view\t-\tView country name\n",
      "add\t-\tAdd a country\n",
      "del\t-\tDelete a country\n",
      "exit\t-\tExit program\n",
      "Enter Valid codes.Acceptable code: CA US GB MX IS OK\n",
      "Country Okahama deleted\n",
      "view\t-\tView country name\n",
      "add\t-\tAdd a country\n",
      "del\t-\tDelete a country\n",
      "exit\t-\tExit program\n",
      "Bye!\n"
     ]
    }
   ],
   "source": [
    "countries_dict = {\"CA\": \"Canada\",\"US\": \"United States\",\"GB\": \"Great Britain\",\"MX\": \"Mexico\",'IS':'Istanbul'}\r\n",
    "#cmd=disp()\r\n",
    "while True:\r\n",
    "    cmd=disp()\r\n",
    "    if cmd=='view':\r\n",
    "        view_code()\r\n",
    "    elif cmd=='add':\r\n",
    "        add_code()\r\n",
    "    elif cmd=='del':\r\n",
    "        del_k()\r\n",
    "    elif cmd=='exit':\r\n",
    "        print('Bye!')\r\n",
    "        break\r\n",
    "    "
   ]
  },
  {
   "cell_type": "code",
   "execution_count": null,
   "metadata": {},
   "outputs": [],
   "source": []
  }
 ],
 "metadata": {
  "interpreter": {
   "hash": "ac59ebe37160ed0dfa835113d9b8498d9f09ceb179beaac4002f036b9467c963"
  },
  "kernelspec": {
   "display_name": "Python 3.9.5 64-bit",
   "name": "python3"
  },
  "language_info": {
   "codemirror_mode": {
    "name": "ipython",
    "version": 3
   },
   "file_extension": ".py",
   "mimetype": "text/x-python",
   "name": "python",
   "nbconvert_exporter": "python",
   "pygments_lexer": "ipython3",
   "version": "3.9.5"
  },
  "orig_nbformat": 4
 },
 "nbformat": 4,
 "nbformat_minor": 2
}