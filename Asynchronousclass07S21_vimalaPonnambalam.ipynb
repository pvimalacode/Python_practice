{
 "cells": [
  {
   "cell_type": "code",
   "execution_count": 3,
   "source": [
    "def print_welcome(): # defining function\r\n",
    "    print(\"welcome to functions!\") \r\n",
    "\r\n",
    "print_welcome() # calling the function"
   ],
   "outputs": [
    {
     "output_type": "stream",
     "name": "stdout",
     "text": [
      "welcome to functions!\n"
     ]
    }
   ],
   "metadata": {}
  },
  {
   "cell_type": "code",
   "execution_count": 4,
   "source": [
    "def cal(miles,gallons): # defining with arguments\r\n",
    "    mpg = miles/gallons\r\n",
    "    return(round(mpg,2))\r\n",
    "\r\n",
    "cal(500,4) # calling function with parameters"
   ],
   "outputs": [
    {
     "output_type": "execute_result",
     "data": {
      "text/plain": [
       "125.0"
      ]
     },
     "metadata": {},
     "execution_count": 4
    }
   ],
   "metadata": {}
  },
  {
   "cell_type": "code",
   "execution_count": 10,
   "source": [
    "def main():\r\n",
    "\r\n",
    "    print(\"The future value of calculator\")\r\n",
    "    monthly_investment = float(input(\"Enter Monthly Investment:\"))\r\n",
    "    yearly_interest = float(input('Enter yearly interest:'))\r\n",
    "    years = int(input(\"Enter number of years:\"))\r\n",
    "\r\n",
    "    future_Value = cal_val(monthly_investment,yearly_interest,years)\r\n",
    "    print(\"Future Value:\",round(future_Value,2))\r\n",
    "\r\n",
    "def cal_val(monthly_investment=100, yearly_interest=8.5,years=10):\r\n",
    "    monthly_interest_rate= (yearly_interest*100)/12\r\n",
    "    months= years*12\r\n",
    "    value=0\r\n",
    "    for i in range(0,months):\r\n",
    "        value+=monthly_investment\r\n",
    "        monthly_interest = value*monthly_interest_rate\r\n",
    "        value+=monthly_interest\r\n",
    "    return value"
   ],
   "outputs": [],
   "metadata": {}
  },
  {
   "cell_type": "code",
   "execution_count": 6,
   "source": [
    "if __name__=='__main__':\r\n",
    "    main()"
   ],
   "outputs": [
    {
     "output_type": "stream",
     "name": "stdout",
     "text": [
      "The future value of calculator\n",
      "Future Value: 2.4508656712492622e+55\n"
     ]
    }
   ],
   "metadata": {}
  },
  {
   "cell_type": "code",
   "execution_count": 8,
   "source": [
    "cal_val(100,8.5,10)"
   ],
   "outputs": [
    {
     "output_type": "execute_result",
     "data": {
      "text/plain": [
       "5.823857143050256e+224"
      ]
     },
     "metadata": {},
     "execution_count": 8
    }
   ],
   "metadata": {}
  },
  {
   "cell_type": "code",
   "execution_count": 11,
   "source": [
    "cal_val()"
   ],
   "outputs": [
    {
     "output_type": "execute_result",
     "data": {
      "text/plain": [
       "5.823857143050256e+224"
      ]
     },
     "metadata": {},
     "execution_count": 11
    }
   ],
   "metadata": {}
  },
  {
   "cell_type": "code",
   "execution_count": 22,
   "source": [
    "tax=0\r\n",
    "def cal_tax(amt,tax1):\r\n",
    "    global tax\r\n",
    "    print(tax)\r\n",
    "    tax=amt*tax1\r\n",
    "    print(tax)\r\n",
    "def main():\r\n",
    "    cal_tax(85,0.5)\r\n",
    "    print(tax)"
   ],
   "outputs": [],
   "metadata": {}
  },
  {
   "cell_type": "code",
   "execution_count": 18,
   "source": [
    "cal_tax(10,2)"
   ],
   "outputs": [
    {
     "output_type": "stream",
     "name": "stdout",
     "text": [
      "0\n",
      "20\n"
     ]
    }
   ],
   "metadata": {}
  },
  {
   "cell_type": "code",
   "execution_count": 19,
   "source": [],
   "outputs": [],
   "metadata": {}
  },
  {
   "cell_type": "code",
   "execution_count": 20,
   "source": [
    "main()"
   ],
   "outputs": [
    {
     "output_type": "stream",
     "name": "stdout",
     "text": [
      "20\n",
      "42.5\n",
      "42.5\n"
     ]
    }
   ],
   "metadata": {}
  },
  {
   "cell_type": "code",
   "execution_count": 23,
   "source": [
    "tax=0\r\n",
    "def cal_tax(amt,tax1):\r\n",
    "    #global tax\r\n",
    "    #print(tax)\r\n",
    "    tax=amt*tax1\r\n",
    "    print(tax)\r\n",
    "def main():\r\n",
    "    cal_tax(85,0.5)\r\n",
    "    print(tax)"
   ],
   "outputs": [],
   "metadata": {}
  },
  {
   "cell_type": "code",
   "execution_count": 24,
   "source": [
    "main()"
   ],
   "outputs": [
    {
     "output_type": "stream",
     "name": "stdout",
     "text": [
      "42.5\n",
      "0\n"
     ]
    }
   ],
   "metadata": {}
  }
 ],
 "metadata": {
  "orig_nbformat": 4,
  "language_info": {
   "name": "python"
  }
 },
 "nbformat": 4,
 "nbformat_minor": 2
}