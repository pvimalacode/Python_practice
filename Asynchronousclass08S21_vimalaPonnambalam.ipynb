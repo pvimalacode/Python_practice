{
 "cells": [
  {
   "cell_type": "code",
   "execution_count": 18,
   "source": [
    "n=4\r\n",
    "for i in range(2,5):\r\n",
    "    print(i)\r\n",
    "    if (n%i!=0 and i<n):\r\n",
    "        print(n)\r\n",
    "        break"
   ],
   "outputs": [
    {
     "output_type": "stream",
     "name": "stdout",
     "text": [
      "2\n",
      "3\n",
      "4\n"
     ]
    }
   ],
   "metadata": {}
  },
  {
   "cell_type": "code",
   "execution_count": 7,
   "source": [
    "4%2"
   ],
   "outputs": [
    {
     "output_type": "execute_result",
     "data": {
      "text/plain": [
       "0"
      ]
     },
     "metadata": {},
     "execution_count": 7
    }
   ],
   "metadata": {}
  },
  {
   "cell_type": "code",
   "execution_count": 13,
   "source": [
    "5%2==0"
   ],
   "outputs": [
    {
     "output_type": "execute_result",
     "data": {
      "text/plain": [
       "False"
      ]
     },
     "metadata": {},
     "execution_count": 13
    }
   ],
   "metadata": {}
  },
  {
   "cell_type": "code",
   "execution_count": 35,
   "source": [
    "for i in range(2,6):\r\n",
    "    if (6%i==0):\r\n",
    "        print('not prime number')\r\n",
    "\r\n",
    "        break\r\n",
    "    else:\r\n",
    "        continue\r\n",
    "else:print('prime')"
   ],
   "outputs": [
    {
     "output_type": "stream",
     "name": "stdout",
     "text": [
      "not prime number\n"
     ]
    }
   ],
   "metadata": {}
  },
  {
   "cell_type": "code",
   "execution_count": 60,
   "source": [
    "\r\n",
    "def prime(n):\r\n",
    "    \r\n",
    "    for i in range(2,n):\r\n",
    "        if (n%i==0):\r\n",
    "             \r\n",
    "            print(n,'is not a prime number')\r\n",
    "            break\r\n",
    "        else:\r\n",
    "            continue\r\n",
    "    else:print(n,'is a prime number')\r\n",
    "    "
   ],
   "outputs": [],
   "metadata": {}
  },
  {
   "cell_type": "code",
   "execution_count": 62,
   "source": [
    "prime(4)\r\n",
    "#fact"
   ],
   "outputs": [
    {
     "output_type": "stream",
     "name": "stdout",
     "text": [
      "4 is not a prime number\n"
     ]
    }
   ],
   "metadata": {}
  },
  {
   "cell_type": "code",
   "execution_count": 63,
   "source": [
    "def prime(n):\r\n",
    "    \r\n",
    "    for i in range(2,n):\r\n",
    "        if (n%i==0):\r\n",
    "            print(n,'is not a prime number')\r\n",
    "            #break\r\n",
    "        else:\r\n",
    "            continue\r\n",
    "    else:print(n,'is a prime number')"
   ],
   "outputs": [],
   "metadata": {}
  },
  {
   "cell_type": "code",
   "execution_count": 64,
   "source": [
    "#prime(4)"
   ],
   "outputs": [
    {
     "output_type": "stream",
     "name": "stdout",
     "text": [
      "4 is not a prime number\n",
      "4 is a prime number\n"
     ]
    }
   ],
   "metadata": {}
  },
  {
   "cell_type": "code",
   "execution_count": 75,
   "source": [
    "j=0\r\n",
    "for i in range(2,10):\r\n",
    "    if 10%i==0:\r\n",
    "        #print(i)\r\n",
    "        j+=1\r\n",
    "print(j+2)"
   ],
   "outputs": [
    {
     "output_type": "stream",
     "name": "stdout",
     "text": [
      "4\n"
     ]
    }
   ],
   "metadata": {}
  },
  {
   "cell_type": "code",
   "execution_count": 95,
   "source": [
    "def prime(n):\r\n",
    "    j=0\r\n",
    "    for i in range(2,n):\r\n",
    "        if (n%i==0):\r\n",
    "            j+=1\r\n",
    "            #print(n,'is not a prime number')\r\n",
    "            #break\r\n",
    "        else:\r\n",
    "            continue\r\n",
    "    if j==0:\r\n",
    "        print(n,'is a prime number')\r\n",
    "    else:\r\n",
    "        print(n,'is not a prime number\\n',n,'has',j+2,'factors')"
   ],
   "outputs": [],
   "metadata": {}
  },
  {
   "cell_type": "code",
   "execution_count": 97,
   "source": [
    "prime(8)"
   ],
   "outputs": [
    {
     "output_type": "stream",
     "name": "stdout",
     "text": [
      "8 is not a prime number\n",
      " 8 has 4 factors\n"
     ]
    }
   ],
   "metadata": {}
  },
  {
   "cell_type": "code",
   "execution_count": 101,
   "source": [
    "option ='y'\r\n",
    "while option=='y':\r\n",
    "    n=int(input(\"Please enter an integer between 1 and 5000:\"))\r\n",
    "    option = input('Try again? (y/n):')\r\n",
    "    prime(n)\r\n",
    "    "
   ],
   "outputs": [
    {
     "output_type": "stream",
     "name": "stdout",
     "text": [
      "7 is a prime number\n"
     ]
    }
   ],
   "metadata": {}
  },
  {
   "cell_type": "code",
   "execution_count": 104,
   "source": [
    "def disp():\r\n",
    "    print('1.Yum Yum Burger = .99\\n2.Grease Yum Fries = .79\\n3.Soda Yum = 1.09')"
   ],
   "outputs": [],
   "metadata": {}
  },
  {
   "cell_type": "code",
   "execution_count": 105,
   "source": [
    "disp()"
   ],
   "outputs": [
    {
     "output_type": "stream",
     "name": "stdout",
     "text": [
      "1.Yum Yum Burger = .99\n",
      "2.Grease Yum Fries = .79\n",
      "3.Soda Yum = 1.09\n"
     ]
    }
   ],
   "metadata": {}
  },
  {
   "cell_type": "code",
   "execution_count": 140,
   "source": [
    "def get_ord():\r\n",
    "    end ='n'\r\n",
    "    print('1.Yum Yum Burger = .99\\n2.Grease Yum Fries = .79\\n3.Soda Yum = 1.09')\r\n",
    "    print('Enter 1 for Burger\\nEnter 2 for fries\\nEnter 3 for Soda')\r\n",
    "    total_burger=0\r\n",
    "    total_fries=0\r\n",
    "    total_soda=0\r\n",
    "    cost=0\r\n",
    "    \r\n",
    "    while end=='n':\r\n",
    "        \r\n",
    "        option = int(input('Enter now---:'))\r\n",
    "        if option ==1:\r\n",
    "            total_burger+=int(input('Enter number of Burgers:'))\r\n",
    "        elif option==2:\r\n",
    "            total_fries+=int(input('Enter number of Fries:'))\r\n",
    "        elif option==3:\r\n",
    "            total_soda+=int(input('Enter number of Sodas:'))\r\n",
    "        else:\r\n",
    "            print('Invalid Entry! Try again')\r\n",
    "        end=input('Do you want to end order? Enter y or n:')\r\n",
    "    cost= round((total_burger*.99)+(total_fries*.79)+(total_soda*1.09),2)\r\n",
    "    #tax=.06*cost\r\n",
    "    total=round(cost*1.06,2)\r\n",
    "    print('The total Price is $',total)\r\n",
    "    #print (cost,total_burger,total_fries,total_soda)\r\n",
    "    #return(cost,total_burger,total_fries,total_soda)\r\n"
   ],
   "outputs": [],
   "metadata": {}
  },
  {
   "cell_type": "code",
   "execution_count": 141,
   "source": [
    "get_ord()"
   ],
   "outputs": [
    {
     "output_type": "stream",
     "name": "stdout",
     "text": [
      "1.Yum Yum Burger = .99\n",
      "2.Grease Yum Fries = .79\n",
      "3.Soda Yum = 1.09\n",
      "Enter 1 for Burger\n",
      "Enter 2 for fries\n",
      "Enter 3 for Soda\n",
      "The total Price is $ 4.09\n"
     ]
    }
   ],
   "metadata": {}
  },
  {
   "cell_type": "code",
   "execution_count": null,
   "source": [],
   "outputs": [],
   "metadata": {}
  }
 ],
 "metadata": {
  "orig_nbformat": 4,
  "language_info": {
   "name": "python"
  }
 },
 "nbformat": 4,
 "nbformat_minor": 2
}