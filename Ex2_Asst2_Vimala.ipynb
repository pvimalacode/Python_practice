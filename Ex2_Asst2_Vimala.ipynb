{
 "metadata": {
  "language_info": {
   "codemirror_mode": {
    "name": "ipython",
    "version": 3
   },
   "file_extension": ".py",
   "mimetype": "text/x-python",
   "name": "python",
   "nbconvert_exporter": "python",
   "pygments_lexer": "ipython3",
   "version": "3.9.5"
  },
  "orig_nbformat": 4,
  "kernelspec": {
   "name": "python3",
   "display_name": "Python 3.9.5 64-bit"
  },
  "interpreter": {
   "hash": "ac59ebe37160ed0dfa835113d9b8498d9f09ceb179beaac4002f036b9467c963"
  }
 },
 "nbformat": 4,
 "nbformat_minor": 2,
 "cells": [
  {
   "cell_type": "code",
   "execution_count": 1,
   "metadata": {},
   "outputs": [],
   "source": [
    "import pandas as pd\n",
    "cooking=pd.read_csv('C:\\DS&AI\\Vimala\\Python\\AI Principles and Best Practices in Canada 01\\whats_cookin\\exportable_action_objects_youtube.csv')"
   ]
  },
  {
   "cell_type": "code",
   "execution_count": 2,
   "metadata": {},
   "outputs": [
    {
     "output_type": "execute_result",
     "data": {
      "text/plain": [
       "             170799        178799\n",
       "count  3.649340e+05  3.649340e+05\n",
       "mean   2.348403e+05  2.428403e+05\n",
       "std    2.456125e+05  2.456125e+05\n",
       "min   -1.961000e+03  6.039000e+03\n",
       "25%    8.566900e+04  9.366900e+04\n",
       "50%    1.649400e+05  1.729400e+05\n",
       "75%    2.997568e+05  3.077568e+05\n",
       "max    5.950489e+06  5.958489e+06"
      ],
      "text/html": "<div>\n<style scoped>\n    .dataframe tbody tr th:only-of-type {\n        vertical-align: middle;\n    }\n\n    .dataframe tbody tr th {\n        vertical-align: top;\n    }\n\n    .dataframe thead th {\n        text-align: right;\n    }\n</style>\n<table border=\"1\" class=\"dataframe\">\n  <thead>\n    <tr style=\"text-align: right;\">\n      <th></th>\n      <th>170799</th>\n      <th>178799</th>\n    </tr>\n  </thead>\n  <tbody>\n    <tr>\n      <th>count</th>\n      <td>3.649340e+05</td>\n      <td>3.649340e+05</td>\n    </tr>\n    <tr>\n      <th>mean</th>\n      <td>2.348403e+05</td>\n      <td>2.428403e+05</td>\n    </tr>\n    <tr>\n      <th>std</th>\n      <td>2.456125e+05</td>\n      <td>2.456125e+05</td>\n    </tr>\n    <tr>\n      <th>min</th>\n      <td>-1.961000e+03</td>\n      <td>6.039000e+03</td>\n    </tr>\n    <tr>\n      <th>25%</th>\n      <td>8.566900e+04</td>\n      <td>9.366900e+04</td>\n    </tr>\n    <tr>\n      <th>50%</th>\n      <td>1.649400e+05</td>\n      <td>1.729400e+05</td>\n    </tr>\n    <tr>\n      <th>75%</th>\n      <td>2.997568e+05</td>\n      <td>3.077568e+05</td>\n    </tr>\n    <tr>\n      <th>max</th>\n      <td>5.950489e+06</td>\n      <td>5.958489e+06</td>\n    </tr>\n  </tbody>\n</table>\n</div>"
     },
     "metadata": {},
     "execution_count": 2
    }
   ],
   "source": [
    "cooking.describe()"
   ]
  },
  {
   "cell_type": "code",
   "execution_count": 3,
   "metadata": {},
   "outputs": [
    {
     "output_type": "stream",
     "name": "stdout",
     "text": [
      "<class 'pandas.core.frame.DataFrame'>\nRangeIndex: 364934 entries, 0 to 364933\nData columns (total 5 columns):\n #   Column       Non-Null Count   Dtype \n---  ------       --------------   ----- \n 0   BpZD1Wbxo14  364934 non-null  object\n 1   170799       364934 non-null  int64 \n 2   178799       364934 non-null  int64 \n 3   set          364934 non-null  object\n 4   Unnamed: 4   246552 non-null  object\ndtypes: int64(2), object(3)\nmemory usage: 13.9+ MB\n"
     ]
    }
   ],
   "source": [
    "cooking.info()"
   ]
  },
  {
   "cell_type": "code",
   "execution_count": 4,
   "metadata": {},
   "outputs": [
    {
     "output_type": "execute_result",
     "data": {
      "text/plain": [
       "Index(['BpZD1Wbxo14', '170799', '178799', 'set', 'Unnamed: 4'], dtype='object')"
      ]
     },
     "metadata": {},
     "execution_count": 4
    }
   ],
   "source": [
    "cooking.columns"
   ]
  },
  {
   "cell_type": "code",
   "execution_count": 5,
   "metadata": {},
   "outputs": [
    {
     "output_type": "execute_result",
     "data": {
      "text/plain": [
       "   BpZD1Wbxo14  170799  178799      set Unnamed: 4\n",
       "0  f9pjQJBGyYE  348500  356500    chill        NaN\n",
       "1  5-P7x4FV4lg   64279   72279  combine        rep"
      ],
      "text/html": "<div>\n<style scoped>\n    .dataframe tbody tr th:only-of-type {\n        vertical-align: middle;\n    }\n\n    .dataframe tbody tr th {\n        vertical-align: top;\n    }\n\n    .dataframe thead th {\n        text-align: right;\n    }\n</style>\n<table border=\"1\" class=\"dataframe\">\n  <thead>\n    <tr style=\"text-align: right;\">\n      <th></th>\n      <th>BpZD1Wbxo14</th>\n      <th>170799</th>\n      <th>178799</th>\n      <th>set</th>\n      <th>Unnamed: 4</th>\n    </tr>\n  </thead>\n  <tbody>\n    <tr>\n      <th>0</th>\n      <td>f9pjQJBGyYE</td>\n      <td>348500</td>\n      <td>356500</td>\n      <td>chill</td>\n      <td>NaN</td>\n    </tr>\n    <tr>\n      <th>1</th>\n      <td>5-P7x4FV4lg</td>\n      <td>64279</td>\n      <td>72279</td>\n      <td>combine</td>\n      <td>rep</td>\n    </tr>\n  </tbody>\n</table>\n</div>"
     },
     "metadata": {},
     "execution_count": 5
    }
   ],
   "source": [
    "cooking.head(2)"
   ]
  },
  {
   "cell_type": "code",
   "execution_count": null,
   "metadata": {},
   "outputs": [],
   "source": []
  }
 ]
}