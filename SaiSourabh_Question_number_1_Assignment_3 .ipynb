{
 "cells": [
  {
   "cell_type": "markdown",
   "source": [
    "# Sai Sourabh Cherukupally - 500194560"
   ],
   "metadata": {}
  },
  {
   "cell_type": "code",
   "execution_count": 18,
   "source": [
    "def tuple_pass1(temp):\r\n",
    "    \r\n",
    "\r\n",
    "        \r\n",
    "        \r\n",
    "    passwords = tuple(temp)\r\n",
    "    search = input('Enter the password that you are looking for: ')\r\n",
    "    if search in passwords:\r\n",
    "        for ele in passwords:\r\n",
    "            if search == ele:\r\n",
    "                print('{} index number of the password you searched is {}'.format(t_entries,passwords.index(search)))\r\n",
    "            \r\n",
    "        \r\n",
    "        \r\n",
    "            \r\n",
    "   \r\n",
    "    else:\r\n",
    "        print('the password is not found') \r\n",
    "        \r\n",
    "t_entries = input('Enter your name ')\r\n",
    "t_n = int(input('How many entries would you like? '))\r\n",
    "temp = []\r\n",
    "for i in range(t_n):\r\n",
    "    passwords = input('Enter your password no {} '.format(i+1))\r\n",
    "        \r\n",
    "    temp.append(passwords)\r\n",
    "temp\r\n",
    "\r\n",
    "\r\n",
    "choice = 'y'\r\n",
    "  \r\n",
    "while choice.lower() == 'y': #Converting into lower case\r\n",
    "    tuple_pass1(temp)\r\n",
    "    print()\r\n",
    "    choice = input('Again? (y/n): ') #re-run the program\r\n",
    "  \r\n",
    "print('Thanks, bye!')"
   ],
   "outputs": [
    {
     "output_type": "stream",
     "name": "stdout",
     "text": [
      "vimala index number of the password you searched is 1\n",
      "\n",
      "vimala index number of the password you searched is 2\n",
      "\n",
      "vimala index number of the password you searched is 0\n",
      "\n",
      "the password is not found\n",
      "\n",
      "Thanks, bye!\n"
     ]
    }
   ],
   "metadata": {}
  },
  {
   "cell_type": "code",
   "execution_count": null,
   "source": [],
   "outputs": [],
   "metadata": {}
  }
 ],
 "metadata": {
  "kernelspec": {
   "display_name": "Python 3",
   "language": "python",
   "name": "python3"
  },
  "language_info": {
   "codemirror_mode": {
    "name": "ipython",
    "version": 3
   },
   "file_extension": ".py",
   "mimetype": "text/x-python",
   "name": "python",
   "nbconvert_exporter": "python",
   "pygments_lexer": "ipython3",
   "version": "3.9.5"
  }
 },
 "nbformat": 4,
 "nbformat_minor": 5
}