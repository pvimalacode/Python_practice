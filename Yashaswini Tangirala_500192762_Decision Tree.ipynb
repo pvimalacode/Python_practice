{
 "cells": [
  {
   "cell_type": "code",
   "execution_count": 1,
   "id": "93b39915",
   "metadata": {},
   "outputs": [],
   "source": [
    "import pandas as pd\n",
    "import numpy as np\n",
    "import os\n",
    "import seaborn as sns\n",
    "import matplotlib.pyplot as plt"
   ]
  },
  {
   "cell_type": "code",
   "execution_count": 2,
   "id": "ee2183b4",
   "metadata": {},
   "outputs": [
    {
     "data": {
      "text/html": [
       "<div>\n",
       "<style scoped>\n",
       "    .dataframe tbody tr th:only-of-type {\n",
       "        vertical-align: middle;\n",
       "    }\n",
       "\n",
       "    .dataframe tbody tr th {\n",
       "        vertical-align: top;\n",
       "    }\n",
       "\n",
       "    .dataframe thead th {\n",
       "        text-align: right;\n",
       "    }\n",
       "</style>\n",
       "<table border=\"1\" class=\"dataframe\">\n",
       "  <thead>\n",
       "    <tr style=\"text-align: right;\">\n",
       "      <th></th>\n",
       "      <th>PassengerId</th>\n",
       "      <th>Survived</th>\n",
       "      <th>Pclass</th>\n",
       "      <th>Name</th>\n",
       "      <th>Sex</th>\n",
       "      <th>Age</th>\n",
       "      <th>SibSp</th>\n",
       "      <th>Parch</th>\n",
       "      <th>Ticket</th>\n",
       "      <th>Fare</th>\n",
       "      <th>Cabin</th>\n",
       "      <th>Embarked</th>\n",
       "    </tr>\n",
       "  </thead>\n",
       "  <tbody>\n",
       "    <tr>\n",
       "      <th>0</th>\n",
       "      <td>1</td>\n",
       "      <td>0</td>\n",
       "      <td>3</td>\n",
       "      <td>Braund, Mr. Owen Harris</td>\n",
       "      <td>male</td>\n",
       "      <td>22.0</td>\n",
       "      <td>1</td>\n",
       "      <td>0</td>\n",
       "      <td>A/5 21171</td>\n",
       "      <td>7.2500</td>\n",
       "      <td>NaN</td>\n",
       "      <td>S</td>\n",
       "    </tr>\n",
       "    <tr>\n",
       "      <th>1</th>\n",
       "      <td>2</td>\n",
       "      <td>1</td>\n",
       "      <td>1</td>\n",
       "      <td>Cumings, Mrs. John Bradley (Florence Briggs Th...</td>\n",
       "      <td>female</td>\n",
       "      <td>38.0</td>\n",
       "      <td>1</td>\n",
       "      <td>0</td>\n",
       "      <td>PC 17599</td>\n",
       "      <td>71.2833</td>\n",
       "      <td>C85</td>\n",
       "      <td>C</td>\n",
       "    </tr>\n",
       "    <tr>\n",
       "      <th>2</th>\n",
       "      <td>3</td>\n",
       "      <td>1</td>\n",
       "      <td>3</td>\n",
       "      <td>Heikkinen, Miss. Laina</td>\n",
       "      <td>female</td>\n",
       "      <td>26.0</td>\n",
       "      <td>0</td>\n",
       "      <td>0</td>\n",
       "      <td>STON/O2. 3101282</td>\n",
       "      <td>7.9250</td>\n",
       "      <td>NaN</td>\n",
       "      <td>S</td>\n",
       "    </tr>\n",
       "    <tr>\n",
       "      <th>3</th>\n",
       "      <td>4</td>\n",
       "      <td>1</td>\n",
       "      <td>1</td>\n",
       "      <td>Futrelle, Mrs. Jacques Heath (Lily May Peel)</td>\n",
       "      <td>female</td>\n",
       "      <td>35.0</td>\n",
       "      <td>1</td>\n",
       "      <td>0</td>\n",
       "      <td>113803</td>\n",
       "      <td>53.1000</td>\n",
       "      <td>C123</td>\n",
       "      <td>S</td>\n",
       "    </tr>\n",
       "    <tr>\n",
       "      <th>4</th>\n",
       "      <td>5</td>\n",
       "      <td>0</td>\n",
       "      <td>3</td>\n",
       "      <td>Allen, Mr. William Henry</td>\n",
       "      <td>male</td>\n",
       "      <td>35.0</td>\n",
       "      <td>0</td>\n",
       "      <td>0</td>\n",
       "      <td>373450</td>\n",
       "      <td>8.0500</td>\n",
       "      <td>NaN</td>\n",
       "      <td>S</td>\n",
       "    </tr>\n",
       "  </tbody>\n",
       "</table>\n",
       "</div>"
      ],
      "text/plain": [
       "   PassengerId  Survived  Pclass  \\\n",
       "0            1         0       3   \n",
       "1            2         1       1   \n",
       "2            3         1       3   \n",
       "3            4         1       1   \n",
       "4            5         0       3   \n",
       "\n",
       "                                                Name     Sex   Age  SibSp  \\\n",
       "0                            Braund, Mr. Owen Harris    male  22.0      1   \n",
       "1  Cumings, Mrs. John Bradley (Florence Briggs Th...  female  38.0      1   \n",
       "2                             Heikkinen, Miss. Laina  female  26.0      0   \n",
       "3       Futrelle, Mrs. Jacques Heath (Lily May Peel)  female  35.0      1   \n",
       "4                           Allen, Mr. William Henry    male  35.0      0   \n",
       "\n",
       "   Parch            Ticket     Fare Cabin Embarked  \n",
       "0      0         A/5 21171   7.2500   NaN        S  \n",
       "1      0          PC 17599  71.2833   C85        C  \n",
       "2      0  STON/O2. 3101282   7.9250   NaN        S  \n",
       "3      0            113803  53.1000  C123        S  \n",
       "4      0            373450   8.0500   NaN        S  "
      ]
     },
     "execution_count": 2,
     "metadata": {},
     "output_type": "execute_result"
    }
   ],
   "source": [
    "titanic = pd.read_csv(\"C:\\\\Users\\\\admin\\\\Desktop\\\\Loyalist\\\\ML\\\\Titanic_data.csv\")\n",
    "titanic.head()"
   ]
  },
  {
   "cell_type": "code",
   "execution_count": 3,
   "id": "9f53b3e3",
   "metadata": {},
   "outputs": [
    {
     "data": {
      "text/plain": [
       "(891, 12)"
      ]
     },
     "execution_count": 3,
     "metadata": {},
     "output_type": "execute_result"
    }
   ],
   "source": [
    "titanic.shape"
   ]
  },
  {
   "cell_type": "code",
   "execution_count": 4,
   "id": "4ba1a58f",
   "metadata": {},
   "outputs": [
    {
     "name": "stdout",
     "output_type": "stream",
     "text": [
      "<class 'pandas.core.frame.DataFrame'>\n",
      "RangeIndex: 891 entries, 0 to 890\n",
      "Data columns (total 12 columns):\n",
      " #   Column       Non-Null Count  Dtype  \n",
      "---  ------       --------------  -----  \n",
      " 0   PassengerId  891 non-null    int64  \n",
      " 1   Survived     891 non-null    int64  \n",
      " 2   Pclass       891 non-null    int64  \n",
      " 3   Name         891 non-null    object \n",
      " 4   Sex          891 non-null    object \n",
      " 5   Age          714 non-null    float64\n",
      " 6   SibSp        891 non-null    int64  \n",
      " 7   Parch        891 non-null    int64  \n",
      " 8   Ticket       891 non-null    object \n",
      " 9   Fare         891 non-null    float64\n",
      " 10  Cabin        204 non-null    object \n",
      " 11  Embarked     889 non-null    object \n",
      "dtypes: float64(2), int64(5), object(5)\n",
      "memory usage: 83.7+ KB\n"
     ]
    }
   ],
   "source": [
    "titanic.info()"
   ]
  },
  {
   "cell_type": "code",
   "execution_count": 5,
   "id": "304456be",
   "metadata": {},
   "outputs": [
    {
     "data": {
      "text/html": [
       "<div>\n",
       "<style scoped>\n",
       "    .dataframe tbody tr th:only-of-type {\n",
       "        vertical-align: middle;\n",
       "    }\n",
       "\n",
       "    .dataframe tbody tr th {\n",
       "        vertical-align: top;\n",
       "    }\n",
       "\n",
       "    .dataframe thead th {\n",
       "        text-align: right;\n",
       "    }\n",
       "</style>\n",
       "<table border=\"1\" class=\"dataframe\">\n",
       "  <thead>\n",
       "    <tr style=\"text-align: right;\">\n",
       "      <th></th>\n",
       "      <th>PassengerId</th>\n",
       "      <th>Survived</th>\n",
       "      <th>Pclass</th>\n",
       "      <th>Age</th>\n",
       "      <th>SibSp</th>\n",
       "      <th>Parch</th>\n",
       "      <th>Fare</th>\n",
       "    </tr>\n",
       "  </thead>\n",
       "  <tbody>\n",
       "    <tr>\n",
       "      <th>count</th>\n",
       "      <td>891.000000</td>\n",
       "      <td>891.000000</td>\n",
       "      <td>891.000000</td>\n",
       "      <td>714.000000</td>\n",
       "      <td>891.000000</td>\n",
       "      <td>891.000000</td>\n",
       "      <td>891.000000</td>\n",
       "    </tr>\n",
       "    <tr>\n",
       "      <th>mean</th>\n",
       "      <td>446.000000</td>\n",
       "      <td>0.383838</td>\n",
       "      <td>2.308642</td>\n",
       "      <td>29.699118</td>\n",
       "      <td>0.523008</td>\n",
       "      <td>0.381594</td>\n",
       "      <td>32.204208</td>\n",
       "    </tr>\n",
       "    <tr>\n",
       "      <th>std</th>\n",
       "      <td>257.353842</td>\n",
       "      <td>0.486592</td>\n",
       "      <td>0.836071</td>\n",
       "      <td>14.526497</td>\n",
       "      <td>1.102743</td>\n",
       "      <td>0.806057</td>\n",
       "      <td>49.693429</td>\n",
       "    </tr>\n",
       "    <tr>\n",
       "      <th>min</th>\n",
       "      <td>1.000000</td>\n",
       "      <td>0.000000</td>\n",
       "      <td>1.000000</td>\n",
       "      <td>0.420000</td>\n",
       "      <td>0.000000</td>\n",
       "      <td>0.000000</td>\n",
       "      <td>0.000000</td>\n",
       "    </tr>\n",
       "    <tr>\n",
       "      <th>25%</th>\n",
       "      <td>223.500000</td>\n",
       "      <td>0.000000</td>\n",
       "      <td>2.000000</td>\n",
       "      <td>20.125000</td>\n",
       "      <td>0.000000</td>\n",
       "      <td>0.000000</td>\n",
       "      <td>7.910400</td>\n",
       "    </tr>\n",
       "    <tr>\n",
       "      <th>50%</th>\n",
       "      <td>446.000000</td>\n",
       "      <td>0.000000</td>\n",
       "      <td>3.000000</td>\n",
       "      <td>28.000000</td>\n",
       "      <td>0.000000</td>\n",
       "      <td>0.000000</td>\n",
       "      <td>14.454200</td>\n",
       "    </tr>\n",
       "    <tr>\n",
       "      <th>75%</th>\n",
       "      <td>668.500000</td>\n",
       "      <td>1.000000</td>\n",
       "      <td>3.000000</td>\n",
       "      <td>38.000000</td>\n",
       "      <td>1.000000</td>\n",
       "      <td>0.000000</td>\n",
       "      <td>31.000000</td>\n",
       "    </tr>\n",
       "    <tr>\n",
       "      <th>max</th>\n",
       "      <td>891.000000</td>\n",
       "      <td>1.000000</td>\n",
       "      <td>3.000000</td>\n",
       "      <td>80.000000</td>\n",
       "      <td>8.000000</td>\n",
       "      <td>6.000000</td>\n",
       "      <td>512.329200</td>\n",
       "    </tr>\n",
       "  </tbody>\n",
       "</table>\n",
       "</div>"
      ],
      "text/plain": [
       "       PassengerId    Survived      Pclass         Age       SibSp  \\\n",
       "count   891.000000  891.000000  891.000000  714.000000  891.000000   \n",
       "mean    446.000000    0.383838    2.308642   29.699118    0.523008   \n",
       "std     257.353842    0.486592    0.836071   14.526497    1.102743   \n",
       "min       1.000000    0.000000    1.000000    0.420000    0.000000   \n",
       "25%     223.500000    0.000000    2.000000   20.125000    0.000000   \n",
       "50%     446.000000    0.000000    3.000000   28.000000    0.000000   \n",
       "75%     668.500000    1.000000    3.000000   38.000000    1.000000   \n",
       "max     891.000000    1.000000    3.000000   80.000000    8.000000   \n",
       "\n",
       "            Parch        Fare  \n",
       "count  891.000000  891.000000  \n",
       "mean     0.381594   32.204208  \n",
       "std      0.806057   49.693429  \n",
       "min      0.000000    0.000000  \n",
       "25%      0.000000    7.910400  \n",
       "50%      0.000000   14.454200  \n",
       "75%      0.000000   31.000000  \n",
       "max      6.000000  512.329200  "
      ]
     },
     "execution_count": 5,
     "metadata": {},
     "output_type": "execute_result"
    }
   ],
   "source": [
    "titanic.describe()"
   ]
  },
  {
   "cell_type": "markdown",
   "id": "a9d46a86",
   "metadata": {},
   "source": [
    "<h1> EDA </h1>"
   ]
  },
  {
   "cell_type": "code",
   "execution_count": 6,
   "id": "9d96ddd8",
   "metadata": {},
   "outputs": [
    {
     "data": {
      "text/plain": [
       "PassengerId      0\n",
       "Survived         0\n",
       "Pclass           0\n",
       "Name             0\n",
       "Sex              0\n",
       "Age            177\n",
       "SibSp            0\n",
       "Parch            0\n",
       "Ticket           0\n",
       "Fare             0\n",
       "Cabin          687\n",
       "Embarked         2\n",
       "dtype: int64"
      ]
     },
     "execution_count": 6,
     "metadata": {},
     "output_type": "execute_result"
    }
   ],
   "source": [
    "titanic.isnull().sum()"
   ]
  },
  {
   "cell_type": "markdown",
   "id": "5933d5a8",
   "metadata": {},
   "source": [
    "1.Cabin feature as more number of missing values (687).<br>\n",
    "2.Embarked feature can be easily filled as it as only 2 missing values.<br>\n",
    "3.The Age feature, which has 177 missing values"
   ]
  },
  {
   "cell_type": "code",
   "execution_count": 7,
   "id": "a6889ca1",
   "metadata": {},
   "outputs": [
    {
     "data": {
      "image/png": "[encoded data removed]",
      "text/plain": [
       "<Figure size 288x360 with 1 Axes>"
      ]
     },
     "metadata": {
      "needs_background": "light"
     },
     "output_type": "display_data"
    }
   ],
   "source": [
    "survived_count = titanic.groupby('Survived')['Survived'].count()\n",
    "plt.figure(figsize=(4,5))\n",
    "plt.bar(survived_count.index, survived_count.values)\n",
    "plt.title('Grouped by survival')\n",
    "plt.xticks([0,1],['Not survived', 'Survived'])\n",
    "for i, value in enumerate(survived_count.values):\n",
    "    plt.text(i, value-70, str(value), fontsize=12, color='White',\n",
    "             horizontalalignment='center', verticalalignment='center')\n",
    "plt.show()"
   ]
  },
  {
   "cell_type": "markdown",
   "id": "2b9ba106",
   "metadata": {},
   "source": [
    "There are 549 people who were are not survived."
   ]
  },
  {
   "cell_type": "code",
   "execution_count": 8,
   "id": "f452cc7d",
   "metadata": {},
   "outputs": [
    {
     "data": {
      "text/plain": [
       "<AxesSubplot:xlabel='Survived', ylabel='count'>"
      ]
     },
     "execution_count": 8,
     "metadata": {},
     "output_type": "execute_result"
    },
    {
     "data": {
      "image/png": "[encoded data removed]",
      "text/plain": [
       "<Figure size 432x288 with 1 Axes>"
      ]
     },
     "metadata": {},
     "output_type": "display_data"
    }
   ],
   "source": [
    "sns.set_style('whitegrid')\n",
    "sns.countplot(x='Survived',hue='Sex',data=titanic, palette='RdBu_r')"
   ]
  },
  {
   "cell_type": "markdown",
   "id": "d5f9fb95",
   "metadata": {},
   "source": [
    "We can see that the females survival count is more than the males."
   ]
  },
  {
   "cell_type": "code",
   "execution_count": 9,
   "id": "e8c73154",
   "metadata": {},
   "outputs": [
    {
     "data": {
      "text/plain": [
       "<AxesSubplot:xlabel='Pclass', ylabel='count'>"
      ]
     },
     "execution_count": 9,
     "metadata": {},
     "output_type": "execute_result"
    },
    {
     "data": {
      "image/png": "[encoded data removed]",
      "text/plain": [
       "<Figure size 432x288 with 1 Axes>"
      ]
     },
     "metadata": {},
     "output_type": "display_data"
    }
   ],
   "source": [
    "sns.set_style('whitegrid')\n",
    "sns.countplot(x='Pclass',hue='Survived',data=titanic, palette='RdBu_r')"
   ]
  },
  {
   "cell_type": "markdown",
   "id": "3546ea30",
   "metadata": {},
   "source": [
    "We can observe that there are more passengers in class 3 than in class 1 and class 2, but only about 110 passengers in class 3 survived. In class 2, the survival and non-survival counts are around 80 and 90, respectively, while in Class 1, there are roughly 140 passengers who survived. Class1 has a high priority for rescue."
   ]
  },
  {
   "cell_type": "code",
   "execution_count": 10,
   "id": "75b44801",
   "metadata": {},
   "outputs": [
    {
     "data": {
      "image/png": "[encoded data removed]",
      "text/plain": [
       "<Figure size 504x504 with 1 Axes>"
      ]
     },
     "metadata": {},
     "output_type": "display_data"
    }
   ],
   "source": [
    "ages = titanic[titanic['Age'].notnull()]['Age'].values\n",
    "ages_hist = np.histogram(ages, bins=[0,10,20,30,40,50,60,70,80,90])\n",
    "ages_hist_labels = ['0–10', '11–20', '21–30', '31–40', '41–50', '51–60', '61–70', '71–80', '81–90']\n",
    "plt.figure(figsize=(7,7))\n",
    "plt.title('Age distribution')\n",
    "plt.bar(ages_hist_labels, ages_hist[0])\n",
    "plt.xlabel('Age')\n",
    "plt.ylabel('No of passenger')\n",
    "for i, bin in zip(ages_hist[0], range(9)):\n",
    "    plt.text(bin, i+3, str(int(i)), fontsize=12,\n",
    "             horizontalalignment='center', verticalalignment='center')\n",
    "plt.show()"
   ]
  },
  {
   "cell_type": "markdown",
   "id": "4cc2df72",
   "metadata": {},
   "source": [
    "We can observe that the number of people between the ages of 21-30 is quite large."
   ]
  },
  {
   "cell_type": "code",
   "execution_count": 11,
   "id": "6b98b548",
   "metadata": {},
   "outputs": [
    {
     "data": {
      "text/plain": [
       "<AxesSubplot:>"
      ]
     },
     "execution_count": 11,
     "metadata": {},
     "output_type": "execute_result"
    },
    {
     "data": {
      "image/png": "[encoded data removed]",
      "text/plain": [
       "<Figure size 576x360 with 1 Axes>"
      ]
     },
     "metadata": {},
     "output_type": "display_data"
    }
   ],
   "source": [
    "titanic['Fare'].hist(color = 'Orange', bins = 30 , figsize=(8,5))"
   ]
  },
  {
   "cell_type": "markdown",
   "id": "5eddd343",
   "metadata": {},
   "source": [
    "<h1> Data Cleaning </h1>"
   ]
  },
  {
   "cell_type": "markdown",
   "id": "f0916963",
   "metadata": {},
   "source": [
    "<b> Age Column </b>\n",
    "We fill the missing values with random values distributed with standard deviation and centred around the mean."
   ]
  },
  {
   "cell_type": "code",
   "execution_count": 12,
   "id": "2a42fc75",
   "metadata": {},
   "outputs": [],
   "source": [
    "def fill_na_Age(titanic, colname):\n",
    "    mean = titanic['Age'].mean()\n",
    "    sd = titanic['Age'].std()\n",
    "    def fill_empty(x):\n",
    "        if np.isnan(x):\n",
    "            return np.random.randint(mean-sd, mean+sd, ())\n",
    "        return x\n",
    "    return titanic[colname].apply(fill_empty).astype(int)\n",
    "titanic['Age'] = fill_na_Age(titanic, 'Age')"
   ]
  },
  {
   "cell_type": "markdown",
   "id": "f5b5f49e",
   "metadata": {},
   "source": [
    "<b> Cabin Column </b> <br>\n",
    "Let's make a new column called CabinYes that has a value of 1 if there is a cabin and a value of 0 if there isn't.\n"
   ]
  },
  {
   "cell_type": "code",
   "execution_count": 13,
   "id": "76ad4756",
   "metadata": {},
   "outputs": [],
   "source": [
    "def create_Yes_cabin(titanic, colname):\n",
    "    # if NA => 0 else 1\n",
    "    def _is_nan(x):\n",
    "        if isinstance(x, type(np.nan)):\n",
    "            return 0\n",
    "        return 1\n",
    "        \n",
    "    return titanic[colname].apply(_is_nan)\n",
    "    \n",
    "titanic['CabinYes'] = create_Yes_cabin(titanic, 'Cabin')"
   ]
  },
  {
   "cell_type": "markdown",
   "id": "64a715da",
   "metadata": {},
   "source": [
    "<b> Embarked </b> <br>\n",
    "Fill the 2 missing values with most common value"
   ]
  },
  {
   "cell_type": "code",
   "execution_count": 14,
   "id": "66291008",
   "metadata": {},
   "outputs": [
    {
     "data": {
      "text/plain": [
       "Embarked\n",
       "C    168\n",
       "Q     77\n",
       "S    644\n",
       "Name: Embarked, dtype: int64"
      ]
     },
     "execution_count": 14,
     "metadata": {},
     "output_type": "execute_result"
    }
   ],
   "source": [
    "Embarked_count = titanic.groupby('Embarked')['Embarked'].count()\n",
    "Embarked_count"
   ]
  },
  {
   "cell_type": "code",
   "execution_count": 15,
   "id": "03d67737",
   "metadata": {},
   "outputs": [],
   "source": [
    "common_value = 'S'\n",
    "data = [titanic]\n",
    "\n",
    "for dataset in data:\n",
    "    dataset['Embarked'] = dataset['Embarked'].fillna(common_value)"
   ]
  },
  {
   "cell_type": "markdown",
   "id": "edc9f094",
   "metadata": {},
   "source": [
    "<b> Converting Categorical features (Name,Sex,Embarked)"
   ]
  },
  {
   "cell_type": "code",
   "execution_count": 16,
   "id": "9c8d0640",
   "metadata": {},
   "outputs": [
    {
     "data": {
      "text/plain": [
       "0                                Braund, Mr. Owen Harris\n",
       "1      Cumings, Mrs. John Bradley (Florence Briggs Th...\n",
       "2                                 Heikkinen, Miss. Laina\n",
       "3           Futrelle, Mrs. Jacques Heath (Lily May Peel)\n",
       "4                               Allen, Mr. William Henry\n",
       "                             ...                        \n",
       "886                                Montvila, Rev. Juozas\n",
       "887                         Graham, Miss. Margaret Edith\n",
       "888             Johnston, Miss. Catherine Helen \"Carrie\"\n",
       "889                                Behr, Mr. Karl Howell\n",
       "890                                  Dooley, Mr. Patrick\n",
       "Name: Name, Length: 891, dtype: object"
      ]
     },
     "execution_count": 16,
     "metadata": {},
     "output_type": "execute_result"
    }
   ],
   "source": [
    "titanic['Name']"
   ]
  },
  {
   "cell_type": "code",
   "execution_count": 17,
   "id": "d66b33a8",
   "metadata": {},
   "outputs": [],
   "source": [
    "def get_title(x):\n",
    "    return x.split(',')[1].split('.')[0].strip()\n"
   ]
  },
  {
   "cell_type": "code",
   "execution_count": 18,
   "id": "c54f1083",
   "metadata": {},
   "outputs": [
    {
     "data": {
      "text/plain": [
       "array(['Mr', 'Mrs', 'Miss', 'Master', 'Don', 'Rev', 'Dr', 'Mme', 'Ms',\n",
       "       'Major', 'Lady', 'Sir', 'Mlle', 'Col', 'Capt', 'the Countess',\n",
       "       'Jonkheer'], dtype=object)"
      ]
     },
     "execution_count": 18,
     "metadata": {},
     "output_type": "execute_result"
    }
   ],
   "source": [
    "titanic['Title'] = titanic['Name'].apply(get_title)\n",
    "titanic['Title'].unique()"
   ]
  },
  {
   "cell_type": "code",
   "execution_count": 19,
   "id": "9d0097d0",
   "metadata": {},
   "outputs": [],
   "source": [
    "Title = pd.get_dummies(titanic['Title'], prefix='Title')\n",
    "titanic1 = pd.concat([titanic, Title], axis=1)"
   ]
  },
  {
   "cell_type": "code",
   "execution_count": 20,
   "id": "31620816",
   "metadata": {},
   "outputs": [],
   "source": [
    "#Convert Sex column to numeric\n",
    "Gender = {\"male\": 0, \"female\": 1}\n",
    "data = [titanic1]\n",
    "\n",
    "for dataset in data:\n",
    "    dataset['Sex'] = dataset['Sex'].map(Gender)"
   ]
  },
  {
   "cell_type": "code",
   "execution_count": 21,
   "id": "933c22b3",
   "metadata": {},
   "outputs": [],
   "source": [
    "#Convert Embarked into numeric\n",
    "ports = {\"S\": 0, \"C\": 1, \"Q\": 2}\n",
    "data = [titanic1]\n",
    "\n",
    "for dataset in data:\n",
    "    dataset['Embarked'] = dataset['Embarked'].map(ports)"
   ]
  },
  {
   "cell_type": "code",
   "execution_count": 22,
   "id": "94a8fdda",
   "metadata": {},
   "outputs": [
    {
     "data": {
      "text/plain": [
       "PassengerId             int64\n",
       "Survived                int64\n",
       "Pclass                  int64\n",
       "Name                   object\n",
       "Sex                     int64\n",
       "Age                     int32\n",
       "SibSp                   int64\n",
       "Parch                   int64\n",
       "Ticket                 object\n",
       "Fare                  float64\n",
       "Cabin                  object\n",
       "Embarked                int64\n",
       "CabinYes                int64\n",
       "Title                  object\n",
       "Title_Capt              uint8\n",
       "Title_Col               uint8\n",
       "Title_Don               uint8\n",
       "Title_Dr                uint8\n",
       "Title_Jonkheer          uint8\n",
       "Title_Lady              uint8\n",
       "Title_Major             uint8\n",
       "Title_Master            uint8\n",
       "Title_Miss              uint8\n",
       "Title_Mlle              uint8\n",
       "Title_Mme               uint8\n",
       "Title_Mr                uint8\n",
       "Title_Mrs               uint8\n",
       "Title_Ms                uint8\n",
       "Title_Rev               uint8\n",
       "Title_Sir               uint8\n",
       "Title_the Countess      uint8\n",
       "dtype: object"
      ]
     },
     "execution_count": 22,
     "metadata": {},
     "output_type": "execute_result"
    }
   ],
   "source": [
    "titanic1.dtypes"
   ]
  },
  {
   "cell_type": "code",
   "execution_count": 23,
   "id": "7cbf22b0",
   "metadata": {},
   "outputs": [],
   "source": [
    "titanic_df = titanic1.drop(['PassengerId', 'Name', 'Ticket', 'Cabin','Title'], axis=1)"
   ]
  },
  {
   "cell_type": "code",
   "execution_count": 24,
   "id": "864e6158",
   "metadata": {},
   "outputs": [
    {
     "data": {
      "text/plain": [
       "Index(['Survived', 'Pclass', 'Sex', 'Age', 'SibSp', 'Parch', 'Fare',\n",
       "       'Embarked', 'CabinYes', 'Title_Capt', 'Title_Col', 'Title_Don',\n",
       "       'Title_Dr', 'Title_Jonkheer', 'Title_Lady', 'Title_Major',\n",
       "       'Title_Master', 'Title_Miss', 'Title_Mlle', 'Title_Mme', 'Title_Mr',\n",
       "       'Title_Mrs', 'Title_Ms', 'Title_Rev', 'Title_Sir',\n",
       "       'Title_the Countess'],\n",
       "      dtype='object')"
      ]
     },
     "execution_count": 24,
     "metadata": {},
     "output_type": "execute_result"
    }
   ],
   "source": [
    "\n",
    "\n",
    "titanic_df.columns"
   ]
  },
  {
   "cell_type": "markdown",
   "id": "9de37153",
   "metadata": {},
   "source": [
    "<h1> Decision Tree </h1>"
   ]
  },
  {
   "cell_type": "code",
   "execution_count": 33,
   "id": "1035bf72",
   "metadata": {},
   "outputs": [],
   "source": [
    "from sklearn import datasets\n",
    "from sklearn import tree\n",
    "from sklearn.tree import DecisionTreeClassifier\n",
    "X = titanic_df.drop(\"Survived\", axis=1)\n",
    "Y = titanic_df[\"Survived\"]\n"
   ]
  },
  {
   "cell_type": "code",
   "execution_count": 41,
   "id": "7bd33793",
   "metadata": {},
   "outputs": [],
   "source": [
    "#Split the data into 80% training and 20% testing\n",
    "from sklearn.model_selection import train_test_split\n",
    "X_train, X_test, Y_train, Y_test = train_test_split(X, Y, test_size=0.2, random_state=42)\n"
   ]
  },
  {
   "cell_type": "code",
   "execution_count": 42,
   "id": "1ae34758",
   "metadata": {},
   "outputs": [
    {
     "data": {
      "text/plain": [
       "DecisionTreeClassifier(criterion='entropy', random_state=1)"
      ]
     },
     "execution_count": 42,
     "metadata": {},
     "output_type": "execute_result"
    }
   ],
   "source": [
    "clf = tree.DecisionTreeClassifier(criterion=\"entropy\", random_state=1)\n",
    "clf\n"
   ]
  },
  {
   "cell_type": "code",
   "execution_count": 43,
   "id": "2dea1f5d",
   "metadata": {},
   "outputs": [],
   "source": [
    "clf = clf.fit(X_train, Y_train)\n",
    "\n",
    "Y_predict = clf.predict(X_test)\n"
   ]
  },
  {
   "cell_type": "code",
   "execution_count": 44,
   "id": "7d9eade4",
   "metadata": {},
   "outputs": [
    {
     "data": {
      "text/html": [
       "<div>\n",
       "<style scoped>\n",
       "    .dataframe tbody tr th:only-of-type {\n",
       "        vertical-align: middle;\n",
       "    }\n",
       "\n",
       "    .dataframe tbody tr th {\n",
       "        vertical-align: top;\n",
       "    }\n",
       "\n",
       "    .dataframe thead th {\n",
       "        text-align: right;\n",
       "    }\n",
       "</style>\n",
       "<table border=\"1\" class=\"dataframe\">\n",
       "  <thead>\n",
       "    <tr style=\"text-align: right;\">\n",
       "      <th></th>\n",
       "      <th>Actual</th>\n",
       "      <th>Predicted</th>\n",
       "    </tr>\n",
       "  </thead>\n",
       "  <tbody>\n",
       "    <tr>\n",
       "      <th>709</th>\n",
       "      <td>1</td>\n",
       "      <td>0</td>\n",
       "    </tr>\n",
       "    <tr>\n",
       "      <th>439</th>\n",
       "      <td>0</td>\n",
       "      <td>0</td>\n",
       "    </tr>\n",
       "    <tr>\n",
       "      <th>840</th>\n",
       "      <td>0</td>\n",
       "      <td>0</td>\n",
       "    </tr>\n",
       "    <tr>\n",
       "      <th>720</th>\n",
       "      <td>1</td>\n",
       "      <td>1</td>\n",
       "    </tr>\n",
       "    <tr>\n",
       "      <th>39</th>\n",
       "      <td>1</td>\n",
       "      <td>1</td>\n",
       "    </tr>\n",
       "    <tr>\n",
       "      <th>...</th>\n",
       "      <td>...</td>\n",
       "      <td>...</td>\n",
       "    </tr>\n",
       "    <tr>\n",
       "      <th>433</th>\n",
       "      <td>0</td>\n",
       "      <td>0</td>\n",
       "    </tr>\n",
       "    <tr>\n",
       "      <th>773</th>\n",
       "      <td>0</td>\n",
       "      <td>0</td>\n",
       "    </tr>\n",
       "    <tr>\n",
       "      <th>25</th>\n",
       "      <td>1</td>\n",
       "      <td>0</td>\n",
       "    </tr>\n",
       "    <tr>\n",
       "      <th>84</th>\n",
       "      <td>1</td>\n",
       "      <td>1</td>\n",
       "    </tr>\n",
       "    <tr>\n",
       "      <th>10</th>\n",
       "      <td>1</td>\n",
       "      <td>1</td>\n",
       "    </tr>\n",
       "  </tbody>\n",
       "</table>\n",
       "<p>179 rows × 2 columns</p>\n",
       "</div>"
      ],
      "text/plain": [
       "     Actual  Predicted\n",
       "709       1          0\n",
       "439       0          0\n",
       "840       0          0\n",
       "720       1          1\n",
       "39        1          1\n",
       "..      ...        ...\n",
       "433       0          0\n",
       "773       0          0\n",
       "25        1          0\n",
       "84        1          1\n",
       "10        1          1\n",
       "\n",
       "[179 rows x 2 columns]"
      ]
     },
     "execution_count": 44,
     "metadata": {},
     "output_type": "execute_result"
    }
   ],
   "source": [
    "\n",
    "#plt.figure(figsize=(30,18))\n",
    "#tree.plot_tree(clf,fontsize=14)\n",
    "#tree.plot_tree(clf)\n",
    "df = pd.DataFrame({'Actual': Y_test, 'Predicted': Y_predict})\n",
    "df"
   ]
  },
  {
   "cell_type": "code",
   "execution_count": 45,
   "id": "bf8a1e5e",
   "metadata": {},
   "outputs": [
    {
     "name": "stdout",
     "output_type": "stream",
     "text": [
      "precision score: 0.8265109717551488\n",
      "recall score: 0.8268156424581006\n",
      "accuracy score: 0.8268156424581006\n"
     ]
    }
   ],
   "source": [
    "from sklearn import metrics\n",
    "print('precision score:', metrics.precision_score(Y_test,Y_predict, average='weighted'))\n",
    "print('recall score:', metrics.recall_score(Y_test,Y_predict, average='weighted'))\n",
    "print('accuracy score:', metrics.accuracy_score(Y_test, Y_predict))"
   ]
  },
  {
   "cell_type": "code",
   "execution_count": 46,
   "id": "b2d64f55",
   "metadata": {},
   "outputs": [
    {
     "name": "stdout",
     "output_type": "stream",
     "text": [
      "[[90 15]\n",
      " [16 58]]\n",
      "Classification report : \n",
      "               precision    recall  f1-score   support\n",
      "\n",
      "           1       0.79      0.78      0.79        74\n",
      "           0       0.85      0.86      0.85       105\n",
      "\n",
      "    accuracy                           0.83       179\n",
      "   macro avg       0.82      0.82      0.82       179\n",
      "weighted avg       0.83      0.83      0.83       179\n",
      "\n"
     ]
    }
   ],
   "source": [
    "from sklearn.metrics import confusion_matrix\n",
    "from sklearn.metrics import classification_report\n",
    "titanic_cm = confusion_matrix(Y_test, Y_predict)\n",
    "print(titanic_cm)\n",
    "\n",
    "\n",
    "# classification report for precision, recall f1-score and accuracy\n",
    "matrix = classification_report(Y_test,Y_predict,labels=[1,0])\n",
    "print('Classification report : \\n',matrix)"
   ]
  },
  {
   "cell_type": "code",
   "execution_count": 47,
   "id": "0af4730e",
   "metadata": {},
   "outputs": [
    {
     "data": {
      "image/png": "[encoded data removed]",
      "text/plain": [
       "<Figure size 360x360 with 1 Axes>"
      ]
     },
     "metadata": {},
     "output_type": "display_data"
    }
   ],
   "source": [
    "# convert the ndarray to a pandas dataframe\n",
    "#cm_df = pd.DataFrame(titanic_cm)\n",
    "# set the size of the figure\n",
    "plt.figure(figsize = (5,5))\n",
    "sns.heatmap(titanic_cm, \n",
    "           annot=True, annot_kws={\"size\": 25},\n",
    "           fmt=\"d\",         # decimals format\n",
    "           xticklabels=False, \n",
    "           yticklabels=False,\n",
    "           cmap=\"viridis\", \n",
    "           cbar=False)\n",
    "plt.show()"
   ]
  },
  {
   "cell_type": "code",
   "execution_count": null,
   "id": "b83b81c3",
   "metadata": {},
   "outputs": [],
   "source": []
  }
 ],
 "metadata": {
  "kernelspec": {
   "display_name": "Python 3",
   "language": "python",
   "name": "python3"
  },
  "language_info": {
   "codemirror_mode": {
    "name": "ipython",
    "version": 3
   },
   "file_extension": ".py",
   "mimetype": "text/x-python",
   "name": "python",
   "nbconvert_exporter": "python",
   "pygments_lexer": "ipython3",
   "version": "3.9.5"
  }
 },
 "nbformat": 4,
 "nbformat_minor": 5
}
