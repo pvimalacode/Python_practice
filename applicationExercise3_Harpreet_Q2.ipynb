{
 "cells": [
  {
   "cell_type": "code",
   "execution_count": 46,
   "id": "9a5448b2",
   "metadata": {},
   "outputs": [],
   "source": [
    "def translation():\n",
    "    EngSpa={'apple':'manzana','watch':'mirar','paper':'papel','wall':'pared','girl':'nina'}\n",
    "    SpaIta={'manzana':'mela','mirar':'orologio','papel':'carta','pared':'parete','nina':'ragazza'}\n",
    "    eng1=input(\"Enter the English word :  \")\n",
    "    print()\n",
    "    if(eng1 in EngSpa.keys()):\n",
    "        var1=EngSpa[eng1]\n",
    "        var2=SpaIta[var1]\n",
    "        print(\"Italian name for \",eng1,\" is: \",var2)\n",
    "    else:\n",
    "        print(\"Word not found in Dictionary\")"
   ]
  },
  {
   "cell_type": "code",
   "execution_count": 47,
   "id": "f7d357a4",
   "metadata": {},
   "outputs": [
    {
     "name": "stdout",
     "output_type": "stream",
     "text": [
      "******* TRANSLATOR *******\n",
      "Enter the English word :  paper\n",
      "\n",
      "Italian name for  paper  is:  carta\n",
      "\n",
      "Do you want to search for another word? (y/n): y\n",
      "Enter the English word :  girl\n",
      "\n",
      "Italian name for  girl  is:  ragazza\n",
      "\n",
      "Do you want to search for another word? (y/n): y\n",
      "Enter the English word :  hgj\n",
      "\n",
      "Word not found in Dictionary\n",
      "\n",
      "Do you want to search for another word? (y/n): n\n",
      "Thanks, bye!\n"
     ]
    }
   ],
   "source": [
    "def main():\n",
    "    print(\"******* TRANSLATOR *******\")\n",
    "    choice = 'y'\n",
    "    while choice.lower() == 'y':\n",
    "        translation()\n",
    "        print()\n",
    "        choice = input('Do you want to search for another word? (y/n): ')\n",
    "    print('Thanks, bye!')\n",
    "main()\n"
   ]
  },
  {
   "cell_type": "code",
   "execution_count": null,
   "id": "119c3973",
   "metadata": {},
   "outputs": [],
   "source": []
  },
  {
   "cell_type": "code",
   "execution_count": null,
   "id": "6ae5dd95",
   "metadata": {},
   "outputs": [],
   "source": []
  }
 ],
 "metadata": {
  "kernelspec": {
   "display_name": "Python 3",
   "language": "python",
   "name": "python3"
  },
  "language_info": {
   "codemirror_mode": {
    "name": "ipython",
    "version": 3
   },
   "file_extension": ".py",
   "mimetype": "text/x-python",
   "name": "python",
   "nbconvert_exporter": "python",
   "pygments_lexer": "ipython3",
   "version": "3.7.0"
  }
 },
 "nbformat": 4,
 "nbformat_minor": 5
}
