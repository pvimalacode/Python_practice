{
 "cells": [
  {
   "cell_type": "code",
   "execution_count": null,
   "source": [
    "players= {'Elizabeth':{'wins':41,'Losses':3,'Ties':22},'Joel':{'wins':32,'Losses':10,'Ties':12},'Abby':{'wins':2,'Losses':8,'Ties':10}}"
   ],
   "outputs": [],
   "metadata": {}
  },
  {
   "cell_type": "code",
   "execution_count": null,
   "source": [
    "players"
   ],
   "outputs": [],
   "metadata": {}
  },
  {
   "cell_type": "code",
   "execution_count": null,
   "source": [],
   "outputs": [],
   "metadata": {}
  },
  {
   "cell_type": "code",
   "execution_count": 30,
   "source": [
    "import numpy as np\r\n",
    "test=[]\r\n",
    "print('Game Stats Program\\nALL PLAYERS:')\r\n",
    "for n in players:\r\n",
    "    test.append(n)\r\n",
    "test=sorted(test)\r\n",
    "print(*test,sep='\\n')\r\n",
    "\r\n"
   ],
   "outputs": [
    {
     "output_type": "stream",
     "name": "stdout",
     "text": [
      "Game Stats Program\n",
      "ALL PLAYERS:\n",
      "Abby\n",
      "Elizabeth\n",
      "Joel\n"
     ]
    }
   ],
   "metadata": {}
  },
  {
   "cell_type": "code",
   "execution_count": 80,
   "source": [
    "\r\n",
    "def display():\r\n",
    "    test=[]\r\n",
    "    print('Game Stats Program\\nALL PLAYERS:')\r\n",
    "    for n in players:\r\n",
    "        test.append(n)\r\n",
    "    test=sorted(test)\r\n",
    "    print(*test,sep='\\n')\r\n",
    "#test=[]\r\n",
    "    "
   ],
   "outputs": [],
   "metadata": {}
  },
  {
   "cell_type": "code",
   "execution_count": 81,
   "source": [
    "display()"
   ],
   "outputs": [
    {
     "output_type": "stream",
     "name": "stdout",
     "text": [
      "Game Stats Program\n",
      "ALL PLAYERS:\n",
      "Abby\n",
      "Elizabeth\n",
      "Joel\n"
     ]
    }
   ],
   "metadata": {}
  },
  {
   "cell_type": "code",
   "execution_count": 82,
   "source": [
    "def get_details():\r\n",
    "    name=input('Enter a player name: ')\r\n",
    "    for n,k in players.items():\r\n",
    "        #print(len(k))\r\n",
    "        if name in players:\r\n",
    "            #print(type(k))\r\n",
    "            if n==name:\r\n",
    "                for sts,v in k.items():\r\n",
    "                    print(sts,'\\t:',v)\r\n",
    "        else:\r\n",
    "            print('There is no player named',name)\r\n",
    "            break\r\n",
    "        "
   ],
   "outputs": [],
   "metadata": {}
  },
  {
   "cell_type": "code",
   "execution_count": 85,
   "source": [
    "get_details()"
   ],
   "outputs": [
    {
     "output_type": "stream",
     "name": "stdout",
     "text": [
      "wins \t: 41\n",
      "Losses \t: 3\n",
      "Ties \t: 22\n"
     ]
    }
   ],
   "metadata": {}
  },
  {
   "cell_type": "code",
   "execution_count": 90,
   "source": [
    "temp='y'\r\n",
    "display()\r\n",
    "while temp!='n':\r\n",
    "    \r\n",
    "    get_details()\r\n",
    "    temp=input('Continue? (y/n): ')\r\n",
    "    "
   ],
   "outputs": [
    {
     "output_type": "stream",
     "name": "stdout",
     "text": [
      "Game Stats Program\n",
      "ALL PLAYERS:\n",
      "Abby\n",
      "Elizabeth\n",
      "Joel\n",
      "wins \t: 2\n",
      "Losses \t: 8\n",
      "Ties \t: 10\n",
      "wins \t: 41\n",
      "Losses \t: 3\n",
      "Ties \t: 22\n",
      "wins \t: 32\n",
      "Losses \t: 10\n",
      "Ties \t: 12\n"
     ]
    }
   ],
   "metadata": {}
  },
  {
   "cell_type": "code",
   "execution_count": null,
   "source": [
    "\r\n",
    "\r\n",
    "   \r\n",
    "t_n = int(input('How many entries would you like?'))\r\n",
    "temp = []\r\n",
    "for i in range(t_n):\r\n",
    "    passwords = input('Enter your entry no {​​​​​​​}​​​​​​​ '.format(i))\r\n",
    "    temp.append(passwords)\r\n",
    "    passwords = tuple(temp)\r\n",
    "    search = input('Enter the password that you are looking for ')\r\n",
    "for ele in passwords:\r\n",
    "    if search == ele:\r\n",
    "        print('{​​​​​​​}​​​​​​​ index number of the password you searched is {​​​​​​​}​​​​​​​'.format(t_entries,passwords.index(search)))\r\n",
    "           \r\n",
    "    if search not in passwords:\r\n",
    "        print('the password is not found')\r\n",
    "        break\r\n"
   ],
   "outputs": [],
   "metadata": {}
  },
  {
   "cell_type": "code",
   "execution_count": null,
   "source": [
    "for temp=\"y\":\r\n",
    "    x=input('Enter the password:')"
   ],
   "outputs": [],
   "metadata": {}
  }
 ],
 "metadata": {
  "orig_nbformat": 4,
  "language_info": {
   "name": "python"
  }
 },
 "nbformat": 4,
 "nbformat_minor": 2
}