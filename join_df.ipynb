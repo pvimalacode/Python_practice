{
 "metadata": {
  "language_info": {
   "codemirror_mode": {
    "name": "ipython",
    "version": 3
   },
   "file_extension": ".py",
   "mimetype": "text/x-python",
   "name": "python",
   "nbconvert_exporter": "python",
   "pygments_lexer": "ipython3",
   "version": "3.9.5"
  },
  "orig_nbformat": 2,
  "kernelspec": {
   "name": "python395jvsc74a57bd0ac59ebe37160ed0dfa835113d9b8498d9f09ceb179beaac4002f036b9467c963",
   "display_name": "Python 3.9.5 64-bit"
  },
  "metadata": {
   "interpreter": {
    "hash": "ac59ebe37160ed0dfa835113d9b8498d9f09ceb179beaac4002f036b9467c963"
   }
  }
 },
 "nbformat": 4,
 "nbformat_minor": 2,
 "cells": [
  {
   "source": [
    "Import libraries"
   ],
   "cell_type": "markdown",
   "metadata": {}
  },
  {
   "cell_type": "code",
   "execution_count": 21,
   "metadata": {},
   "outputs": [],
   "source": [
    "import pandas as pd\n",
    "import numpy as np\n",
    "import matplotlib.pyplot as plt\n",
    "import seaborn as sns\n"
   ]
  },
  {
   "source": [
    "check the working directory"
   ],
   "cell_type": "markdown",
   "metadata": {}
  },
  {
   "cell_type": "code",
   "execution_count": 22,
   "metadata": {},
   "outputs": [
    {
     "output_type": "execute_result",
     "data": {
      "text/plain": [
       "'c:\\\\DS&AI\\\\Vimala\\\\Python\\\\step Presentation'"
      ]
     },
     "metadata": {},
     "execution_count": 22
    }
   ],
   "source": [
    "import os\n",
    "os.getcwd()"
   ]
  },
  {
   "source": [
    "Importing necessary Data sets"
   ],
   "cell_type": "markdown",
   "metadata": {}
  },
  {
   "cell_type": "code",
   "execution_count": 23,
   "metadata": {},
   "outputs": [],
   "source": [
    "facebook=pd.read_csv('Facebook.csv')\n",
    "amazon=pd.read_csv('Amazon.csv')\n",
    "apple=pd.read_csv('Apple.csv')\n",
    "netflix=pd.read_csv('Netflix.csv')\n",
    "google=pd.read_csv('Google.csv')"
   ]
  },
  {
   "source": [
    "Adding prefix to each of the files"
   ],
   "cell_type": "markdown",
   "metadata": {}
  },
  {
   "cell_type": "code",
   "execution_count": 24,
   "metadata": {},
   "outputs": [],
   "source": [
    "files=[facebook,amazon,apple,google,netflix]\n",
    "prefix=['facebook_','amazon_','apple_','netflix_','google_']\n",
    "names=[facebook,amazon,apple,netflix,google]"
   ]
  },
  {
   "source": [
    "Adding categorical data to make visualization more meaningful"
   ],
   "cell_type": "markdown",
   "metadata": {}
  },
  {
   "cell_type": "code",
   "execution_count": 25,
   "metadata": {},
   "outputs": [],
   "source": [
    "facebook['company']='Facebook'\n",
    "apple['company']='Apple'\n",
    "amazon['company']='Amazon'\n",
    "netflix['company']='Netflix'\n",
    "google['company']='Google'"
   ]
  },
  {
   "source": [
    "Adding prefix to each of the dataset"
   ],
   "cell_type": "markdown",
   "metadata": {}
  },
  {
   "cell_type": "code",
   "execution_count": 26,
   "metadata": {},
   "outputs": [],
   "source": [
    "for count in range(len(files)):\n",
    "  names[count]=pd.DataFrame(files[count]).add_prefix(prefix[count])\n",
    "  "
   ]
  },
  {
   "source": [
    "Converting Date column to Datetime format"
   ],
   "cell_type": "markdown",
   "metadata": {}
  },
  {
   "cell_type": "code",
   "execution_count": 27,
   "metadata": {},
   "outputs": [],
   "source": [
    "for name in names:\n",
    "  name[name.columns[0]]=name[name.columns[0]].apply(lambda x : pd.to_datetime(x))"
   ]
  },
  {
   "source": [
    "Renaming the Date column as 'Date'"
   ],
   "cell_type": "markdown",
   "metadata": {}
  },
  {
   "cell_type": "code",
   "execution_count": 28,
   "metadata": {},
   "outputs": [],
   "source": [
    "for name in names:\n",
    "  name.rename(columns={name.columns[0]:'Date'},inplace=True)"
   ]
  },
  {
   "source": [
    "Replacing any NaN values with 0"
   ],
   "cell_type": "markdown",
   "metadata": {}
  },
  {
   "cell_type": "code",
   "execution_count": 29,
   "metadata": {},
   "outputs": [],
   "source": [
    "for name in names:\n",
    "  name=name.replace(np.nan,0)"
   ]
  },
  {
   "source": [
    "Normalising the Volume column as the scale is very large"
   ],
   "cell_type": "markdown",
   "metadata": {}
  },
  {
   "cell_type": "code",
   "execution_count": 30,
   "metadata": {},
   "outputs": [],
   "source": [
    "for name in names:\n",
    "    name[name.columns[6]]=name[name.columns[6]].apply(lambda x: np.log(x) if x!=0 else 0)"
   ]
  },
  {
   "source": [
    "assigning the datasets "
   ],
   "cell_type": "markdown",
   "metadata": {}
  },
  {
   "cell_type": "code",
   "execution_count": 31,
   "metadata": {},
   "outputs": [],
   "source": [
    "facebook=names[0]\n",
    "amazon=names[1]\n",
    "apple=names[2]\n",
    "netflix=names[3]\n",
    "google=names[4]"
   ]
  },
  {
   "source": [
    "Merging all the datasets into one by joining them on Date column"
   ],
   "cell_type": "markdown",
   "metadata": {}
  },
  {
   "cell_type": "code",
   "execution_count": 32,
   "metadata": {},
   "outputs": [],
   "source": [
    "final=pd.merge(facebook,amazon,how='outer' ,on='Date') \n",
    "final1=pd.merge(final,apple,how='outer' ,on='Date') \n",
    "final2=pd.merge(final1,netflix,how='outer' ,on='Date') \n",
    "final3=pd.merge(final2,google,how='outer' ,on='Date') "
   ]
  },
  {
   "source": [
    "Converting Date column as YYYY format to make the visualisation to load faster"
   ],
   "cell_type": "markdown",
   "metadata": {}
  },
  {
   "cell_type": "code",
   "execution_count": 33,
   "metadata": {},
   "outputs": [],
   "source": [
    "final3['Date']=final3['Date'].apply(lambda x:x.year)"
   ]
  },
  {
   "cell_type": "code",
   "execution_count": 34,
   "metadata": {},
   "outputs": [],
   "source": [
    "#Replacing any Nan values with 0 after joining"
   ]
  },
  {
   "cell_type": "code",
   "execution_count": 35,
   "metadata": {},
   "outputs": [
    {
     "output_type": "execute_result",
     "data": {
      "text/plain": [
       "(10019, 36)"
      ]
     },
     "metadata": {},
     "execution_count": 35
    }
   ],
   "source": [
    "final3.replace(np.nan,0,inplace=True)\n",
    "final3.shape"
   ]
  },
  {
   "source": [
    "Grouping the data set by Date and getting the median of numerical columns after grouping"
   ],
   "cell_type": "markdown",
   "metadata": {}
  },
  {
   "cell_type": "code",
   "execution_count": 36,
   "metadata": {},
   "outputs": [],
   "source": [
    "final4=final3.groupby('Date').median()"
   ]
  },
  {
   "source": [
    "adding index as columns after grouping"
   ],
   "cell_type": "markdown",
   "metadata": {}
  },
  {
   "cell_type": "code",
   "execution_count": 37,
   "metadata": {},
   "outputs": [],
   "source": [
    "final4['Date']=final4.index"
   ]
  },
  {
   "source": [
    "Comparing shapes before and after grouping"
   ],
   "cell_type": "markdown",
   "metadata": {}
  },
  {
   "cell_type": "code",
   "execution_count": 38,
   "metadata": {},
   "outputs": [
    {
     "output_type": "execute_result",
     "data": {
      "text/plain": [
       "((10019, 36), (41, 31))"
      ]
     },
     "metadata": {},
     "execution_count": 38
    }
   ],
   "source": [
    "final3.shape,final4.shape"
   ]
  }
 ]
}