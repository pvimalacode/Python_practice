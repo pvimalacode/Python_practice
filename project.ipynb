{
 "cells": [
  {
   "cell_type": "code",
   "execution_count": 2,
   "metadata": {},
   "outputs": [],
   "source": [
    "import pyinputplus as pyip\n",
    "import datetime\n",
    "import numpy as np"
   ]
  },
  {
   "cell_type": "code",
   "execution_count": 5,
   "metadata": {},
   "outputs": [],
   "source": [
    "def get_det(year):\n",
    "    e_bill=[]\n",
    "    #months =['Jan','Feb','Mar','Apr','May','Jun','July','Aug','Sep','Oct','Nov','Dec']\n",
    "    for i in range(12):\n",
    "        print(\"Enter Enerygy bill for the year\",year,\"month-\",months[i],':')\n",
    "        x=int(input())\n",
    "        e_bill.append(x)\n",
    "    return(e_bill)"
   ]
  },
  {
   "cell_type": "code",
   "execution_count": null,
   "metadata": {},
   "outputs": [],
   "source": [
    "energy=[int(item) if item.isdigit() else 0 for item in energy ]"
   ]
  },
  {
   "cell_type": "code",
   "execution_count": 60,
   "metadata": {},
   "outputs": [],
   "source": [
    "import statistics"
   ]
  },
  {
   "cell_type": "code",
   "execution_count": 64,
   "metadata": {},
   "outputs": [],
   "source": [
    "\r\n",
    "def get_eng():\r\n",
    "    energy=[]\r\n",
    "    for i in range(12):\r\n",
    "        print(\"Natural Gas Spent for the Month\",months[i],':')\r\n",
    "        x=input()\r\n",
    "        energy.append(x)\r\n",
    "        #print(x)\r\n",
    "    energy=[int(item) if item.isdigit() else 0 for item in energy]\r\n",
    "    return([x if x!=0 else statistics.mean(energy) for x in energy ])\r\n",
    "    "
   ]
  },
  {
   "cell_type": "code",
   "execution_count": 236,
   "metadata": {},
   "outputs": [
    {
     "name": "stdout",
     "output_type": "stream",
     "text": [
      "There is no relationship between X and savings\n"
     ]
    }
   ],
   "source": [
    "from scipy.stats import pearsonr as p\r\n",
    "\r\n",
    "\r\n",
    "corr=-.13\r\n",
    "\r\n",
    "if corr>0:\r\n",
    "    if (corr<.15):\r\n",
    "        print('There is no relationship between X and savings')\r\n",
    "    elif (corr<=0.4 and corr >=0.15):\r\n",
    "        print('X is in positive linear relationship with savings but weak')\r\n",
    "    elif(corr<=0.6 and corr > .4):\r\n",
    "        print('X is in positive linear relationship with savings but moderate')\r\n",
    "    elif(corr >.6):\r\n",
    "        print('X is in positive linear relationship with savings and strong')\r\n",
    "\r\n",
    "elif corr<0:\r\n",
    "    if (corr>-.15):\r\n",
    "        print('There is no relationship between X and savings')\r\n",
    "    elif (corr>=-0.4 and corr <=-0.15):\r\n",
    "        print('X is in negative linear relationship with savings but weak')\r\n",
    "    elif(corr>=-0.6 and corr < -.4):\r\n",
    "        print('X is in negative linear relationship with savings but moderate')\r\n",
    "    elif(corr <-.6):\r\n",
    "        print('X is in negative linear relationship with savings and strong')\r\n",
    "else:\r\n",
    "    print('There is no relationship between X and savings')\r\n",
    "\r\n"
   ]
  },
  {
   "cell_type": "markdown",
   "metadata": {},
   "source": [
    "near to abs (corr<.3): liner relation is weak\r\n",
    "near to 1 : strong lienar co relation\r\n",
    "0 : There is no relation"
   ]
  },
  {
   "cell_type": "code",
   "execution_count": 77,
   "metadata": {},
   "outputs": [],
   "source": [
    "corr=-0.2\r\n",
    "\r\n",
    "-.5 -.6\r\n",
    "-2-1 0 1 3"
   ]
  },
  {
   "cell_type": "code",
   "execution_count": null,
   "metadata": {},
   "outputs": [],
   "source": []
  },
  {
   "cell_type": "code",
   "execution_count": 139,
   "metadata": {},
   "outputs": [],
   "source": [
    "l1=[1,3,5,3,6,8]\r\n",
    "l2=[345,32,34,6,523,345]\r\n",
    "\r\n",
    "def rel(l1,l2):\r\n",
    "    corr, _ = pearsonr(l1, l2)\r\n",
    "    print('Corelation value between Savings and Natual Gas consumption(X):',round(corr,2))\r\n",
    "\r\n",
    "\r\n",
    "    if corr>0:\r\n",
    "        if (corr>=0.7):\r\n",
    "            return('positive and strong')\r\n",
    "        elif(corr<0.7 and corr >= .25):\r\n",
    "            return('positive linear and moderate')\r\n",
    "        elif(corr <.25):\r\n",
    "            return('positive linear and weak')\r\n",
    "\r\n",
    "    elif corr<0:\r\n",
    "        if (corr<= -0.7 ):\r\n",
    "            return('Negative and strong')\r\n",
    "        elif(corr> -0.7 and corr <= -.25):\r\n",
    "            return('Negative linear and moderate')\r\n",
    "        elif(corr > -.25):\r\n",
    "            return('Negative linear and weak')\r\n",
    "    else:\r\n",
    "        return('No relation')\r\n"
   ]
  },
  {
   "cell_type": "code",
   "execution_count": 140,
   "metadata": {},
   "outputs": [
    {
     "name": "stdout",
     "output_type": "stream",
     "text": [
      "Corelation value between Savings and Natual Gas consumption(X): 0.35\n",
      "positive linear and moderate\n"
     ]
    }
   ],
   "source": [
    "l1=[1,3,5,3,6,8]\r\n",
    "l2=[345,32,34,6,523,345]\r\n",
    "print(rel(l1,l2))"
   ]
  },
  {
   "cell_type": "code",
   "execution_count": 130,
   "metadata": {},
   "outputs": [
    {
     "data": {
      "text/plain": [
       "'positive linear and moderate'"
      ]
     },
     "execution_count": 130,
     "metadata": {},
     "output_type": "execute_result"
    }
   ],
   "source": [
    "x"
   ]
  },
  {
   "cell_type": "code",
   "execution_count": 78,
   "metadata": {},
   "outputs": [
    {
     "name": "stdout",
     "output_type": "stream",
     "text": [
      "Saving and Energy Negatively related \n"
     ]
    }
   ],
   "source": [
    "if corr< -0.3 and corr >0:\r\n",
    "\r\n",
    "    print('Saving and Energy Negatively related ')\r\n"
   ]
  },
  {
   "cell_type": "code",
   "execution_count": null,
   "metadata": {},
   "outputs": [],
   "source": [
    "def rel(l1,l1):\r\n",
    "    "
   ]
  },
  {
   "cell_type": "code",
   "execution_count": 72,
   "metadata": {},
   "outputs": [
    {
     "name": "stdout",
     "output_type": "stream",
     "text": [
      "negative\n"
     ]
    }
   ],
   "source": [
    "l1=[1,3,5,3,6,8]\r\n",
    "l2=[345,32,34,6,523,345]\r\n",
    "corr, _ = pearsonr(l1, l2)\r\n",
    "\r\n",
    "corr=-.4\r\n",
    "\r\n",
    "print('positive' if corr>0 else ('no relation' if corr==0 else 'negative'))"
   ]
  },
  {
   "cell_type": "code",
   "execution_count": 68,
   "metadata": {},
   "outputs": [
    {
     "data": {
      "text/plain": [
       "0.3506206177055581"
      ]
     },
     "execution_count": 68,
     "metadata": {},
     "output_type": "execute_result"
    }
   ],
   "source": [
    "corr"
   ]
  },
  {
   "cell_type": "code",
   "execution_count": 31,
   "metadata": {},
   "outputs": [],
   "source": [
    "import pandas as pd\r\n",
    "x=pd.DataFrame()"
   ]
  },
  {
   "cell_type": "code",
   "execution_count": 36,
   "metadata": {},
   "outputs": [
    {
     "data": {
      "text/plain": [
       "['str', ' ']"
      ]
     },
     "execution_count": 36,
     "metadata": {},
     "output_type": "execute_result"
    }
   ],
   "source": [
    "[item for item in x if not any(item.isdigit() for c in item)]\r\n",
    "\r\n",
    "#[x for x in my_list if not any(c.isdigit() for c in x)]"
   ]
  },
  {
   "cell_type": "code",
   "execution_count": 43,
   "metadata": {},
   "outputs": [
    {
     "data": {
      "text/plain": [
       "False"
      ]
     },
     "execution_count": 43,
     "metadata": {},
     "output_type": "execute_result"
    }
   ],
   "source": [
    "'-2'.isdigit()"
   ]
  },
  {
   "cell_type": "code",
   "execution_count": 49,
   "metadata": {},
   "outputs": [
    {
     "data": {
      "text/plain": [
       "[2, 4, 1.5, 1.5]"
      ]
     },
     "execution_count": 49,
     "metadata": {},
     "output_type": "execute_result"
    }
   ],
   "source": [
    "l1=[2, 4, 0, 0]\r\n",
    "\r\n",
    "[x if x!=0 else sum(l1)/len(l1) for x in l1 ]"
   ]
  },
  {
   "cell_type": "code",
   "execution_count": 38,
   "metadata": {},
   "outputs": [
    {
     "data": {
      "text/plain": [
       "[2, 4, 0, 0]"
      ]
     },
     "execution_count": 38,
     "metadata": {},
     "output_type": "execute_result"
    }
   ],
   "source": [
    "\r\n",
    "[int(item) if item.isdigit() else 0 for item in x ]"
   ]
  },
  {
   "cell_type": "code",
   "execution_count": 27,
   "metadata": {},
   "outputs": [
    {
     "name": "stdout",
     "output_type": "stream",
     "text": [
      "Natural Gas Spent for the Month Jan :\n",
      "['34']\n",
      "Natural Gas Spent for the Month Feb :\n",
      "['34', '234']\n",
      "Natural Gas Spent for the Month Mar :\n",
      "['34', '234', '234']\n",
      "Natural Gas Spent for the Month Apr :\n",
      "['34', '234', '234', '235']\n",
      "Natural Gas Spent for the Month May :\n",
      "['34', '234', '234', '235', '235']\n",
      "Natural Gas Spent for the Month Jun :\n",
      "['34', '234', '234', '235', '235', '4']\n",
      "Natural Gas Spent for the Month July :\n",
      "['34', '234', '234', '235', '235', '4', '34463']\n",
      "Natural Gas Spent for the Month Aug :\n",
      "['34', '234', '234', '235', '235', '4', '34463', '346']\n",
      "Natural Gas Spent for the Month Sep :\n",
      "['34', '234', '234', '235', '235', '4', '34463', '346', '346']\n",
      "Natural Gas Spent for the Month Oct :\n",
      "['34', '234', '234', '235', '235', '4', '34463', '346', '346', '346']\n",
      "Natural Gas Spent for the Month Nov :\n",
      "['34', '234', '234', '235', '235', '4', '34463', '346', '346', '346', '']\n",
      "Natural Gas Spent for the Month Dec :\n",
      "['34', '234', '234', '235', '235', '4', '34463', '346', '346', '346', '', '']\n"
     ]
    }
   ],
   "source": [
    "energy=[]\r\n",
    "for i in range(12):\r\n",
    "    print(\"Natural Gas Spent for the Month\",months[i],':')\r\n",
    "    x=input()\r\n",
    "    energy.append(x)\r\n",
    "    print(energy)"
   ]
  },
  {
   "cell_type": "markdown",
   "metadata": {},
   "source": [
    "\r\n",
    "\r\n",
    "median\r\n",
    "\r\n",
    " "
   ]
  },
  {
   "cell_type": "code",
   "execution_count": 24,
   "metadata": {},
   "outputs": [
    {
     "name": "stdout",
     "output_type": "stream",
     "text": [
      "Natural Gas Spent for the Month Jan :\n",
      "Natural Gas Spent for the Month Feb :\n",
      "Natural Gas Spent for the Month Mar :\n",
      "Natural Gas Spent for the Month Apr :\n",
      "Natural Gas Spent for the Month May :\n",
      "Natural Gas Spent for the Month Jun :\n",
      "Natural Gas Spent for the Month July :\n",
      "Natural Gas Spent for the Month Aug :\n",
      "Natural Gas Spent for the Month Sep :\n",
      "Natural Gas Spent for the Month Oct :\n",
      "Natural Gas Spent for the Month Nov :\n",
      "Natural Gas Spent for the Month Dec :\n"
     ]
    }
   ],
   "source": [
    "y=get_eng()"
   ]
  },
  {
   "cell_type": "code",
   "execution_count": 25,
   "metadata": {},
   "outputs": [
    {
     "data": {
      "text/plain": [
       "'346'"
      ]
     },
     "execution_count": 25,
     "metadata": {},
     "output_type": "execute_result"
    }
   ],
   "source": [
    "y"
   ]
  },
  {
   "cell_type": "code",
   "execution_count": 7,
   "metadata": {},
   "outputs": [],
   "source": [
    "def cal(bill1,bill2):\n",
    "    bill1=np.array(bill1)\n",
    "    bill2=np.array(bill2)\n",
    "    savings=np.subtract(bill2,bill1)\n",
    "    for i in range(len(savings)):\n",
    "        print('savings in',months[i],year,'=',savings[i])\n",
    "    print('max savings occured in ',months[np.where(savings==savings.max())[0][0]],year,':',max(savings))\n",
    "    print('Min savings occured in ',months[np.where(savings==savings.min())[0][0]],year,':',min(savings))"
   ]
  },
  {
   "cell_type": "code",
   "execution_count": 8,
   "metadata": {},
   "outputs": [
    {
     "name": "stdout",
     "output_type": "stream",
     "text": [
      "Enter the year the rooftop gardens was implemented:"
     ]
    }
   ],
   "source": [
    "months =['Jan','Feb','Mar','Apr','May','Jun','July','Aug','Sep','Oct','Nov','Dec']\r\n",
    "year= pyip.inputNum(\"Enter the year the rooftop gardens was implemented:\",max=datetime.date.today().year)\r\n",
    "\r\n",
    "\r\n"
   ]
  },
  {
   "cell_type": "code",
   "execution_count": 16,
   "metadata": {},
   "outputs": [
    {
     "name": "stdout",
     "output_type": "stream",
     "text": [
      "Enter Enerygy bill for the year 2000 month- Jan :\n"
     ]
    },
    {
     "ename": "ValueError",
     "evalue": "invalid literal for int() with base 10: 'lkdjf'",
     "output_type": "error",
     "traceback": [
      "\u001b[1;31m---------------------------------------------------------------------------\u001b[0m",
      "\u001b[1;31mValueError\u001b[0m                                Traceback (most recent call last)",
      "\u001b[1;32m<ipython-input-16-f40c0ee2a428>\u001b[0m in \u001b[0;36m<module>\u001b[1;34m\u001b[0m\n\u001b[1;32m----> 1\u001b[1;33m \u001b[0mbill1\u001b[0m\u001b[1;33m=\u001b[0m\u001b[0mget_det\u001b[0m\u001b[1;33m(\u001b[0m\u001b[0myear\u001b[0m\u001b[1;33m)\u001b[0m\u001b[1;33m\u001b[0m\u001b[1;33m\u001b[0m\u001b[0m\n\u001b[0m\u001b[0;32m      2\u001b[0m \u001b[0mbill2\u001b[0m\u001b[1;33m=\u001b[0m\u001b[0mget_det\u001b[0m\u001b[1;33m(\u001b[0m\u001b[0myear\u001b[0m\u001b[1;33m-\u001b[0m\u001b[1;36m1\u001b[0m\u001b[1;33m)\u001b[0m\u001b[1;33m\u001b[0m\u001b[1;33m\u001b[0m\u001b[0m\n",
      "\u001b[1;32m<ipython-input-5-548bef4ccb40>\u001b[0m in \u001b[0;36mget_det\u001b[1;34m(year)\u001b[0m\n\u001b[0;32m      4\u001b[0m     \u001b[1;32mfor\u001b[0m \u001b[0mi\u001b[0m \u001b[1;32min\u001b[0m \u001b[0mrange\u001b[0m\u001b[1;33m(\u001b[0m\u001b[1;36m12\u001b[0m\u001b[1;33m)\u001b[0m\u001b[1;33m:\u001b[0m\u001b[1;33m\u001b[0m\u001b[1;33m\u001b[0m\u001b[0m\n\u001b[0;32m      5\u001b[0m         \u001b[0mprint\u001b[0m\u001b[1;33m(\u001b[0m\u001b[1;34m\"Enter Enerygy bill for the year\"\u001b[0m\u001b[1;33m,\u001b[0m\u001b[0myear\u001b[0m\u001b[1;33m,\u001b[0m\u001b[1;34m\"month-\"\u001b[0m\u001b[1;33m,\u001b[0m\u001b[0mmonths\u001b[0m\u001b[1;33m[\u001b[0m\u001b[0mi\u001b[0m\u001b[1;33m]\u001b[0m\u001b[1;33m,\u001b[0m\u001b[1;34m':'\u001b[0m\u001b[1;33m)\u001b[0m\u001b[1;33m\u001b[0m\u001b[1;33m\u001b[0m\u001b[0m\n\u001b[1;32m----> 6\u001b[1;33m         \u001b[0mx\u001b[0m\u001b[1;33m=\u001b[0m\u001b[0mint\u001b[0m\u001b[1;33m(\u001b[0m\u001b[0minput\u001b[0m\u001b[1;33m(\u001b[0m\u001b[1;33m)\u001b[0m\u001b[1;33m)\u001b[0m\u001b[1;33m\u001b[0m\u001b[1;33m\u001b[0m\u001b[0m\n\u001b[0m\u001b[0;32m      7\u001b[0m         \u001b[0me_bill\u001b[0m\u001b[1;33m.\u001b[0m\u001b[0mappend\u001b[0m\u001b[1;33m(\u001b[0m\u001b[0mx\u001b[0m\u001b[1;33m)\u001b[0m\u001b[1;33m\u001b[0m\u001b[1;33m\u001b[0m\u001b[0m\n\u001b[0;32m      8\u001b[0m     \u001b[1;32mreturn\u001b[0m\u001b[1;33m(\u001b[0m\u001b[0me_bill\u001b[0m\u001b[1;33m)\u001b[0m\u001b[1;33m\u001b[0m\u001b[1;33m\u001b[0m\u001b[0m\n",
      "\u001b[1;31mValueError\u001b[0m: invalid literal for int() with base 10: 'lkdjf'"
     ]
    }
   ],
   "source": [
    "bill1=get_det(year)\r\n",
    "bill2=get_det(year-1)"
   ]
  },
  {
   "cell_type": "code",
   "execution_count": 10,
   "metadata": {},
   "outputs": [
    {
     "name": "stdout",
     "output_type": "stream",
     "text": [
      "savings in Jan 2000 = 300\n",
      "savings in Feb 2000 = 200\n",
      "savings in Mar 2000 = 300\n",
      "savings in Apr 2000 = 200\n",
      "savings in May 2000 = 200\n",
      "savings in Jun 2000 = 300\n",
      "savings in July 2000 = 300\n",
      "savings in Aug 2000 = 300\n",
      "savings in Sep 2000 = 300\n",
      "savings in Oct 2000 = 300\n",
      "savings in Nov 2000 = 300\n",
      "savings in Dec 2000 = 300\n",
      "max savings occured in  Jan 2000 : 300\n",
      "Min savings occured in  Feb 2000 : 200\n"
     ]
    }
   ],
   "source": [
    "\n",
    "cal(bill1,bill2)"
   ]
  },
  {
   "cell_type": "code",
   "execution_count": 25,
   "metadata": {},
   "outputs": [],
   "source": [
    "#GCD of two numbers\r\n",
    "n=6\r\n",
    "def gcd(n):\r\n",
    "    for i in range(1,n+1):\r\n",
    "        if n%i==0:\r\n",
    "            print(i)"
   ]
  },
  {
   "cell_type": "code",
   "execution_count": 50,
   "metadata": {},
   "outputs": [
    {
     "name": "stdout",
     "output_type": "stream",
     "text": [
      "1\n",
      "5\n"
     ]
    }
   ],
   "source": [
    "gcd(5)"
   ]
  },
  {
   "cell_type": "code",
   "execution_count": 23,
   "metadata": {},
   "outputs": [],
   "source": [
    "def rec(n):\n",
    "    if n==0:\n",
    "        return()\n",
    "    else:\n",
    "        print(n)\n",
    "        rec(n-1)"
   ]
  },
  {
   "cell_type": "code",
   "execution_count": 24,
   "metadata": {},
   "outputs": [
    {
     "name": "stdout",
     "output_type": "stream",
     "text": [
      "3\n",
      "2\n",
      "1\n"
     ]
    }
   ],
   "source": [
    "rec(3)"
   ]
  },
  {
   "cell_type": "code",
   "execution_count": null,
   "metadata": {},
   "outputs": [],
   "source": [
    "5 1\n",
    "5 2\n",
    "5 3\n",
    "5 4\n",
    "5 5"
   ]
  },
  {
   "cell_type": "code",
   "execution_count": 109,
   "metadata": {},
   "outputs": [],
   "source": [
    "\n",
    "def r_fac(n,x=1,f=[]):\n",
    "    if x==n+1:\n",
    "        print(f)\n",
    "        return(f)\n",
    "    else:\n",
    "        if n%x==0:\n",
    "            f.append(x)\n",
    "        r_fac(n,x+1,f)\n",
    "    \n",
    "\n",
    "    "
   ]
  },
  {
   "cell_type": "code",
   "execution_count": 110,
   "metadata": {},
   "outputs": [
    {
     "name": "stdout",
     "output_type": "stream",
     "text": [
      "[1, 5]\n"
     ]
    }
   ],
   "source": [
    "r_fac(5)"
   ]
  },
  {
   "cell_type": "code",
   "execution_count": 111,
   "metadata": {},
   "outputs": [],
   "source": [
    "j"
   ]
  },
  {
   "cell_type": "code",
   "execution_count": 18,
   "metadata": {},
   "outputs": [
    {
     "data": {
      "text/plain": [
       "2.5"
      ]
     },
     "execution_count": 18,
     "metadata": {},
     "output_type": "execute_result"
    }
   ],
   "source": [
    "l1=[1,2,3,4]\r\n",
    "sum(l1)/len(l1)"
   ]
  },
  {
   "cell_type": "code",
   "execution_count": 19,
   "metadata": {},
   "outputs": [],
   "source": [
    "import numpy as np"
   ]
  },
  {
   "cell_type": "code",
   "execution_count": 20,
   "metadata": {},
   "outputs": [
    {
     "data": {
      "text/plain": [
       "array([1, 2, 3, 4])"
      ]
     },
     "execution_count": 20,
     "metadata": {},
     "output_type": "execute_result"
    }
   ],
   "source": [
    "np.array(l1)"
   ]
  },
  {
   "cell_type": "code",
   "execution_count": 21,
   "metadata": {},
   "outputs": [
    {
     "data": {
      "text/plain": [
       "2.5"
      ]
     },
     "execution_count": 21,
     "metadata": {},
     "output_type": "execute_result"
    }
   ],
   "source": [
    "np.mean(np.array(l1))"
   ]
  },
  {
   "cell_type": "code",
   "execution_count": 141,
   "metadata": {},
   "outputs": [
    {
     "name": "stdout",
     "output_type": "stream",
     "text": [
      "2.45436 %.2f\n"
     ]
    }
   ],
   "source": [
    "print(2.45436,'%.2f')"
   ]
  },
  {
   "cell_type": "code",
   "execution_count": 148,
   "metadata": {},
   "outputs": [
    {
     "name": "stdout",
     "output_type": "stream",
     "text": [
      "my number is 8975\n"
     ]
    }
   ],
   "source": [
    "[239857.349874368,43543.436547]\r\n",
    "x=8975\r\n",
    "\r\n",
    "print('my number is %i' % x)"
   ]
  },
  {
   "cell_type": "code",
   "execution_count": 145,
   "metadata": {},
   "outputs": [
    {
     "name": "stdout",
     "output_type": "stream",
     "text": [
      "Rational number formatting using %d\n",
      "2 is equal to 8/3 using this operator.\n"
     ]
    }
   ],
   "source": [
    "frac_num = 8/3\r\n",
    "#concatenating numeric value within string\r\n",
    "print (\"Rational number formatting using %d\")\r\n",
    "print(\"%d is equal to 8/3 using this operator.\" % frac_num)"
   ]
  },
  {
   "cell_type": "code",
   "execution_count": 149,
   "metadata": {},
   "outputs": [
    {
     "data": {
      "text/plain": [
       "{'month': ['Jan', 'Feb'], 2019: [123, 235, 436]}"
      ]
     },
     "execution_count": 149,
     "metadata": {},
     "output_type": "execute_result"
    }
   ],
   "source": [
    "dict={'month':['Jan','Feb'],2019:[123,235,436,]}\r\n",
    "dict"
   ]
  },
  {
   "cell_type": "code",
   "execution_count": null,
   "metadata": {},
   "outputs": [],
   "source": [
    "print('Month\\t2019\\t2020\\t')"
   ]
  },
  {
   "cell_type": "code",
   "execution_count": 204,
   "metadata": {},
   "outputs": [
    {
     "data": {
      "text/plain": [
       "12"
      ]
     },
     "execution_count": 204,
     "metadata": {},
     "output_type": "execute_result"
    }
   ],
   "source": [
    "l3=[12]\r\n",
    "len([str(l3[0]) if x==0 else ' ' for x in range(12)])"
   ]
  },
  {
   "cell_type": "code",
   "execution_count": 191,
   "metadata": {},
   "outputs": [],
   "source": [
    "months =['January','February','March','April','May','June','July','August','September','October','November','December']\r\n",
    "goneGreenCost=[93845,325,3457,567,65,846,67,8,8787,87,234,53]\r\n",
    "notGreenCost=[93845,325,3457,567,65,846,67,8,8787,87,234,53]\r\n",
    "savings=[93845,325,3457,567,65,846,67,8,8787,87,234,53]\r\n",
    "maxim_1=['93845',' ',' ',' ' ,' ',' ',' ', '','','','','']\r\n"
   ]
  },
  {
   "cell_type": "code",
   "execution_count": 194,
   "metadata": {},
   "outputs": [
    {
     "name": "stdout",
     "output_type": "stream",
     "text": [
      "January  93845\t93845\t93845\t93845\n",
      "February   325\t325\t325\t \n",
      "  March  3457\t3457\t3457\t \n",
      "  April   567\t567\t567\t \n",
      "    May    65\t65\t65\t \n",
      "   June   846\t846\t846\t \n",
      "   July    67\t67\t67\t \n",
      " August     8\t 8\t8\t\n",
      "September  8787\t8787\t8787\t\n",
      "October    87\t87\t87\t\n",
      "November   234\t234\t234\t\n"
     ]
    },
    {
     "ename": "IndexError",
     "evalue": "list index out of range",
     "output_type": "error",
     "traceback": [
      "\u001b[1;31m---------------------------------------------------------------------------\u001b[0m",
      "\u001b[1;31mIndexError\u001b[0m                                Traceback (most recent call last)",
      "\u001b[1;32m<ipython-input-194-49466427a8db>\u001b[0m in \u001b[0;36m<module>\u001b[1;34m\u001b[0m\n\u001b[0;32m      2\u001b[0m \u001b[1;32mwhile\u001b[0m \u001b[0mcounter\u001b[0m \u001b[1;33m<\u001b[0m \u001b[1;36m12\u001b[0m\u001b[1;33m:\u001b[0m\u001b[1;33m\u001b[0m\u001b[1;33m\u001b[0m\u001b[0m\n\u001b[0;32m      3\u001b[0m     \u001b[0mprint\u001b[0m\u001b[1;33m\u001b[0m\u001b[1;33m\u001b[0m\u001b[0m\n\u001b[1;32m----> 4\u001b[1;33m     \u001b[0mprint\u001b[0m \u001b[1;33m(\u001b[0m\u001b[1;34m'%7s  %4d\\t%2d\\t%d\\t%s'\u001b[0m \u001b[1;33m%\u001b[0m\u001b[1;33m(\u001b[0m\u001b[0mmonths\u001b[0m\u001b[1;33m[\u001b[0m\u001b[0mcounter\u001b[0m\u001b[1;33m]\u001b[0m\u001b[1;33m,\u001b[0m\u001b[0mnotGreenCost\u001b[0m\u001b[1;33m[\u001b[0m\u001b[0mcounter\u001b[0m\u001b[1;33m]\u001b[0m\u001b[1;33m,\u001b[0m \u001b[0mgoneGreenCost\u001b[0m\u001b[1;33m[\u001b[0m\u001b[0mcounter\u001b[0m\u001b[1;33m]\u001b[0m\u001b[1;33m,\u001b[0m \u001b[0msavings\u001b[0m\u001b[1;33m[\u001b[0m\u001b[0mcounter\u001b[0m\u001b[1;33m]\u001b[0m\u001b[1;33m,\u001b[0m\u001b[0mmaxim_1\u001b[0m\u001b[1;33m[\u001b[0m\u001b[0mcounter\u001b[0m\u001b[1;33m]\u001b[0m\u001b[1;33m)\u001b[0m\u001b[1;33m)\u001b[0m\u001b[1;33m\u001b[0m\u001b[1;33m\u001b[0m\u001b[0m\n\u001b[0m\u001b[0;32m      5\u001b[0m     \u001b[0mcounter\u001b[0m \u001b[1;33m=\u001b[0m \u001b[0mcounter\u001b[0m \u001b[1;33m+\u001b[0m \u001b[1;36m1\u001b[0m\u001b[1;33m\u001b[0m\u001b[1;33m\u001b[0m\u001b[0m\n\u001b[0;32m      6\u001b[0m \u001b[1;33m\u001b[0m\u001b[0m\n",
      "\u001b[1;31mIndexError\u001b[0m: list index out of range"
     ]
    }
   ],
   "source": [
    "counter =0\r\n",
    "while counter < 12:\r\n",
    "    print\r\n",
    "    print ('%7s  %4d\\t%2d\\t%d\\t%s' %(months[counter],notGreenCost[counter], goneGreenCost[counter], savings[counter],maxim_1[counter])) \r\n",
    "    counter = counter + 1\r\n",
    "\r\n",
    "    print "
   ]
  },
  {
   "cell_type": "code",
   "execution_count": 167,
   "metadata": {},
   "outputs": [
    {
     "name": "stdout",
     "output_type": "stream",
     "text": [
      "my first itme 100\n"
     ]
    }
   ],
   "source": [
    "l1=[100,2,3]\r\n",
    "print('my first itme %d' % l1[0])"
   ]
  },
  {
   "cell_type": "code",
   "execution_count": 175,
   "metadata": {},
   "outputs": [
    {
     "name": "stdout",
     "output_type": "stream",
     "text": [
      "93845 \t93845\n",
      "325 \t325\n",
      "3457 \t3457\n",
      "567 \t567\n",
      "65 \t65\n",
      "846 \t846\n",
      "67 \t67\n",
      "8 \t8\n",
      "8787 \t8787\n",
      "87 \t87\n",
      "234 \t234\n",
      "53 \t53\n"
     ]
    }
   ],
   "source": [
    "counter =0\r\n",
    "while counter < 12:\r\n",
    "    print\r\n",
    "    print ('%d \\t%d' %(savings[counter] ,notGreenCost[counter]) )\r\n",
    "    counter = counter + 1\r\n",
    "\r\n",
    "    print "
   ]
  },
  {
   "cell_type": "code",
   "execution_count": 213,
   "metadata": {},
   "outputs": [
    {
     "name": "stdout",
     "output_type": "stream",
     "text": [
      "*****       ******\t****\t****\t****\t****\t****\t****\t\n"
     ]
    }
   ],
   "source": [
    "\r\n",
    "print('*'*5+' '*7+'*'*6+'\\t'+'*'*4+'\\t'+'*'*4+'\\t'+'*'*4+'\\t'+'*'*4+'\\t'+'*'*4+'\\t'+'*'*4+'\\t')"
   ]
  },
  {
   "cell_type": "code",
   "execution_count": null,
   "metadata": {},
   "outputs": [],
   "source": []
  }
 ],
 "metadata": {
  "interpreter": {
   "hash": "ac59ebe37160ed0dfa835113d9b8498d9f09ceb179beaac4002f036b9467c963"
  },
  "kernelspec": {
   "display_name": "Python 3.9.5 64-bit",
   "name": "python3"
  },
  "language_info": {
   "codemirror_mode": {
    "name": "ipython",
    "version": 3
   },
   "file_extension": ".py",
   "mimetype": "text/x-python",
   "name": "python",
   "nbconvert_exporter": "python",
   "pygments_lexer": "ipython3",
   "version": "3.9.5"
  },
  "metadata": {
   "interpreter": {
    "hash": "ac59ebe37160ed0dfa835113d9b8498d9f09ceb179beaac4002f036b9467c963"
   }
  },
  "orig_nbformat": 2
 },
 "nbformat": 4,
 "nbformat_minor": 2
}