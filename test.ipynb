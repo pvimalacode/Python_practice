{
 "cells": [
  {
   "cell_type": "code",
   "execution_count": 4,
   "source": [
    "'*'.isalpha()"
   ],
   "outputs": [
    {
     "output_type": "execute_result",
     "data": {
      "text/plain": [
       "False"
      ]
     },
     "metadata": {},
     "execution_count": 4
    }
   ],
   "metadata": {}
  },
  {
   "cell_type": "code",
   "execution_count": 75,
   "source": [
    "data = int(input(\"Enter the number of countries to be be entered: \"))\r\n",
    "print()\r\n",
    "cnt_dict = dict()\r\n",
    "for i in range(data):\r\n",
    "    x = input(\"Enter the country name: \")\r\n",
    "    y = input(\"Enter the capital: \")\r\n",
    "    print()\r\n",
    "    cnt_dict[x] = y\r\n",
    "print(cnt_dict)\r\n",
    "countries =list(cnt_dict.keys())\r\n",
    "capitals=list(cnt_dict.values())\r\n",
    "\r\n",
    "print(countries,capitals)"
   ],
   "outputs": [
    {
     "output_type": "stream",
     "name": "stdout",
     "text": [
      "\n",
      "\n",
      "\n",
      "{'India': 'Delhi', 'Canada': 'Toronto'}\n",
      "['India', 'Canada'] ['Delhi', 'Toronto']\n"
     ]
    }
   ],
   "metadata": {}
  },
  {
   "cell_type": "code",
   "execution_count": 91,
   "source": [
    "ncountry={}\r\n",
    "c=[]\r\n",
    "ca=[]\r\n",
    "for letters in countries:\r\n",
    "    #c=[]\r\n",
    "    if letters.isalpha():\r\n",
    "        c.append(letters)\r\n",
    "n1=' '.join(c)\r\n",
    "#n1=n1.split(' ')\r\n",
    "print(n1.split(' '))\r\n",
    "for letters in capitals:\r\n",
    "    #ca=[]\r\n",
    "    if letters.isalpha():\r\n",
    "        ca.append(letters)\r\n",
    "k1=' '.join(ca)\r\n",
    "print(k1.split(' '))\r\n",
    "ncountry.update({n1:k1})"
   ],
   "outputs": [
    {
     "output_type": "stream",
     "name": "stdout",
     "text": [
      "['India', 'Canada']\n",
      "['Delhi', 'Toronto']\n"
     ]
    }
   ],
   "metadata": {}
  },
  {
   "cell_type": "code",
   "execution_count": 97,
   "source": [
    "a=k1.split(' ')\r\n",
    "b=n1.split(' ')"
   ],
   "outputs": [],
   "metadata": {}
  },
  {
   "cell_type": "code",
   "execution_count": 98,
   "source": [
    "\r\n",
    "ncountry = {a[i]: b[i] for i in range(len(a))}"
   ],
   "outputs": [],
   "metadata": {}
  },
  {
   "cell_type": "code",
   "execution_count": 99,
   "source": [
    "ncountry"
   ],
   "outputs": [
    {
     "output_type": "execute_result",
     "data": {
      "text/plain": [
       "{'Delhi': 'India', 'Toronto': 'Canada'}"
      ]
     },
     "metadata": {},
     "execution_count": 99
    }
   ],
   "metadata": {}
  },
  {
   "cell_type": "code",
   "execution_count": 69,
   "source": [
    "#country ={'1In2$dia$':'NewDelhi','Ca5nada':'Toro235nto'}\r\n",
    "\r\n",
    "ncountry={}\r\n",
    "for n,k in cnt_dict.items():\r\n",
    "    c=[]\r\n",
    "    ca=[]\r\n",
    "    \r\n",
    "    for letters in list(n):\r\n",
    "        if letters.isalpha():\r\n",
    "            c.append(letters)\r\n",
    "    for letters in list(k):\r\n",
    "        if letters.isalpha():\r\n",
    "            ca.append(letters)\r\n",
    "        \r\n",
    "    n1=''.join(c)\r\n",
    "    k1=''.join(ca)\r\n",
    "    \r\n",
    "    ncountry.update({n1:k1})\r\n",
    "    #print(ncountry)\r\n",
    "ncountry\r\n"
   ],
   "outputs": [
    {
     "output_type": "execute_result",
     "data": {
      "text/plain": [
       "{'India': 'NewDelhi', 'USA': 'NewYork'}"
      ]
     },
     "metadata": {},
     "execution_count": 69
    }
   ],
   "metadata": {}
  },
  {
   "cell_type": "code",
   "execution_count": 6,
   "source": [
    "6*10 + 6*6"
   ],
   "outputs": [
    {
     "output_type": "execute_result",
     "data": {
      "text/plain": [
       "96"
      ]
     },
     "metadata": {},
     "execution_count": 6
    }
   ],
   "metadata": {}
  },
  {
   "cell_type": "code",
   "execution_count": 3,
   "source": [
    "4*6"
   ],
   "outputs": [
    {
     "output_type": "execute_result",
     "data": {
      "text/plain": [
       "24"
      ]
     },
     "metadata": {},
     "execution_count": 3
    }
   ],
   "metadata": {}
  },
  {
   "cell_type": "code",
   "execution_count": 7,
   "source": [
    "200*10 + 250*7"
   ],
   "outputs": [
    {
     "output_type": "execute_result",
     "data": {
      "text/plain": [
       "3750"
      ]
     },
     "metadata": {},
     "execution_count": 7
    }
   ],
   "metadata": {}
  },
  {
   "cell_type": "code",
   "execution_count": 8,
   "source": [
    "11*10 +15*7"
   ],
   "outputs": [
    {
     "output_type": "execute_result",
     "data": {
      "text/plain": [
       "215"
      ]
     },
     "metadata": {},
     "execution_count": 8
    }
   ],
   "metadata": {}
  },
  {
   "cell_type": "code",
   "execution_count": 11,
   "source": [
    "200*16 +250*7"
   ],
   "outputs": [
    {
     "output_type": "execute_result",
     "data": {
      "text/plain": [
       "4950"
      ]
     },
     "metadata": {},
     "execution_count": 11
    }
   ],
   "metadata": {}
  },
  {
   "cell_type": "code",
   "execution_count": 17,
   "source": [
    "11*16 + 15*7"
   ],
   "outputs": [
    {
     "output_type": "execute_result",
     "data": {
      "text/plain": [
       "281"
      ]
     },
     "metadata": {},
     "execution_count": 17
    }
   ],
   "metadata": {}
  },
  {
   "cell_type": "code",
   "execution_count": 19,
   "source": [
    "16*10 + 7*6"
   ],
   "outputs": [
    {
     "output_type": "execute_result",
     "data": {
      "text/plain": [
       "202"
      ]
     },
     "metadata": {},
     "execution_count": 19
    }
   ],
   "metadata": {}
  },
  {
   "cell_type": "code",
   "execution_count": 20,
   "source": [
    "16*10 +12*6"
   ],
   "outputs": [
    {
     "output_type": "execute_result",
     "data": {
      "text/plain": [
       "232"
      ]
     },
     "metadata": {},
     "execution_count": 20
    }
   ],
   "metadata": {}
  },
  {
   "cell_type": "code",
   "execution_count": null,
   "source": [],
   "outputs": [],
   "metadata": {}
  }
 ],
 "metadata": {
  "orig_nbformat": 4,
  "language_info": {
   "name": "python",
   "version": "3.9.5",
   "mimetype": "text/x-python",
   "codemirror_mode": {
    "name": "ipython",
    "version": 3
   },
   "pygments_lexer": "ipython3",
   "nbconvert_exporter": "python",
   "file_extension": ".py"
  },
  "kernelspec": {
   "name": "python3",
   "display_name": "Python 3.9.5 64-bit"
  },
  "interpreter": {
   "hash": "ac59ebe37160ed0dfa835113d9b8498d9f09ceb179beaac4002f036b9467c963"
  }
 },
 "nbformat": 4,
 "nbformat_minor": 2
}