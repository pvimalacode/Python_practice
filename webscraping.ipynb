{
 "cells": [
  {
   "cell_type": "code",
   "execution_count": 1,
   "metadata": {},
   "outputs": [],
   "source": [
    "from bs4 import BeautifulSoup\r\n",
    "import requests\r\n",
    "import csv\r\n",
    "import pandas as pd\r\n",
    "url='https://www.flipkart.com/search?q=laptop&otracker=search&otracker1=search&marketplace=FLIPKART&as-show=on&as=off&as-pos=1&as-type=HISTORY'\r\n",
    "page=requests.get(url)\r\n",
    "soup=BeautifulSoup(page.content,'html.parser')"
   ]
  },
  {
   "cell_type": "code",
   "execution_count": 2,
   "metadata": {},
   "outputs": [],
   "source": [
    "products=[]\r\n",
    "prices=[]\r\n",
    "ratings=[]"
   ]
  },
  {
   "cell_type": "code",
   "execution_count": 13,
   "metadata": {},
   "outputs": [],
   "source": [
    "\r\n",
    "\r\n",
    "for a in soup.find_all('a',href=True,attrs={'class':'_1fQZEK'}):\r\n",
    "    product = soup.find('div',attrs={'class':'_4rR01T'}).text\r\n",
    "    price = soup.find('div',attrs={'class':'_30jeq3 _1_WHN1'}).text\r\n",
    "    rating = soup.find('div',attrs={'class':'_3LWZlK'}).text\r\n",
    "    products.append(product)\r\n",
    "    prices.append(price)\r\n",
    "    ratings.append(rating)\r\n",
    "\r\n"
   ]
  },
  {
   "cell_type": "code",
   "execution_count": 15,
   "metadata": {},
   "outputs": [],
   "source": [
    "df=pd.DataFrame({'Product':products,'Price':prices,'Rating':ratings})"
   ]
  },
  {
   "cell_type": "code",
   "execution_count": 16,
   "metadata": {},
   "outputs": [
    {
     "data": {
      "text/html": [
       "<div>\n",
       "<style scoped>\n",
       "    .dataframe tbody tr th:only-of-type {\n",
       "        vertical-align: middle;\n",
       "    }\n",
       "\n",
       "    .dataframe tbody tr th {\n",
       "        vertical-align: top;\n",
       "    }\n",
       "\n",
       "    .dataframe thead th {\n",
       "        text-align: right;\n",
       "    }\n",
       "</style>\n",
       "<table border=\"1\" class=\"dataframe\">\n",
       "  <thead>\n",
       "    <tr style=\"text-align: right;\">\n",
       "      <th></th>\n",
       "      <th>Product</th>\n",
       "      <th>Price</th>\n",
       "      <th>Rating</th>\n",
       "    </tr>\n",
       "  </thead>\n",
       "  <tbody>\n",
       "    <tr>\n",
       "      <th>0</th>\n",
       "      <td>acer Nitro 5 Ryzen 5 Hexa Core 4600H - (8 GB/1...</td>\n",
       "      <td>₹66,990</td>\n",
       "      <td>4.5</td>\n",
       "    </tr>\n",
       "    <tr>\n",
       "      <th>1</th>\n",
       "      <td>acer Nitro 5 Ryzen 5 Hexa Core 4600H - (8 GB/1...</td>\n",
       "      <td>₹66,990</td>\n",
       "      <td>4.5</td>\n",
       "    </tr>\n",
       "    <tr>\n",
       "      <th>2</th>\n",
       "      <td>acer Nitro 5 Ryzen 5 Hexa Core 4600H - (8 GB/1...</td>\n",
       "      <td>₹66,990</td>\n",
       "      <td>4.5</td>\n",
       "    </tr>\n",
       "    <tr>\n",
       "      <th>3</th>\n",
       "      <td>acer Nitro 5 Ryzen 5 Hexa Core 4600H - (8 GB/1...</td>\n",
       "      <td>₹66,990</td>\n",
       "      <td>4.5</td>\n",
       "    </tr>\n",
       "    <tr>\n",
       "      <th>4</th>\n",
       "      <td>acer Nitro 5 Ryzen 5 Hexa Core 4600H - (8 GB/1...</td>\n",
       "      <td>₹66,990</td>\n",
       "      <td>4.5</td>\n",
       "    </tr>\n",
       "  </tbody>\n",
       "</table>\n",
       "</div>"
      ],
      "text/plain": [
       "                                             Product    Price Rating\n",
       "0  acer Nitro 5 Ryzen 5 Hexa Core 4600H - (8 GB/1...  ₹66,990    4.5\n",
       "1  acer Nitro 5 Ryzen 5 Hexa Core 4600H - (8 GB/1...  ₹66,990    4.5\n",
       "2  acer Nitro 5 Ryzen 5 Hexa Core 4600H - (8 GB/1...  ₹66,990    4.5\n",
       "3  acer Nitro 5 Ryzen 5 Hexa Core 4600H - (8 GB/1...  ₹66,990    4.5\n",
       "4  acer Nitro 5 Ryzen 5 Hexa Core 4600H - (8 GB/1...  ₹66,990    4.5"
      ]
     },
     "execution_count": 16,
     "metadata": {},
     "output_type": "execute_result"
    }
   ],
   "source": [
    "df.head()"
   ]
  },
  {
   "cell_type": "code",
   "execution_count": 18,
   "metadata": {},
   "outputs": [
    {
     "data": {
      "text/plain": [
       "(24, 3)"
      ]
     },
     "execution_count": 18,
     "metadata": {},
     "output_type": "execute_result"
    }
   ],
   "source": [
    "df.shape"
   ]
  }
 ],
 "metadata": {
  "interpreter": {
   "hash": "ac59ebe37160ed0dfa835113d9b8498d9f09ceb179beaac4002f036b9467c963"
  },
  "kernelspec": {
   "display_name": "Python 3.9.5 64-bit",
   "name": "python3"
  },
  "language_info": {
   "codemirror_mode": {
    "name": "ipython",
    "version": 3
   },
   "file_extension": ".py",
   "mimetype": "text/x-python",
   "name": "python",
   "nbconvert_exporter": "python",
   "pygments_lexer": "ipython3",
   "version": "3.9.5"
  },
  "orig_nbformat": 4
 },
 "nbformat": 4,
 "nbformat_minor": 2
}