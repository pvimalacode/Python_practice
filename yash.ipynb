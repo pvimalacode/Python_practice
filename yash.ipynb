{
 "cells": [
  {
   "cell_type": "code",
   "execution_count": 56,
   "source": [
    "file = open(\"reviews.txt\", \"r+\",newline=None)\r\n",
    "#with open('input.txt') as file:\r\n",
    "x=file.read()"
   ],
   "outputs": [],
   "metadata": {}
  },
  {
   "cell_type": "code",
   "execution_count": 42,
   "source": [
    "\r\n",
    "l=x.split('\\n')"
   ],
   "outputs": [],
   "metadata": {}
  },
  {
   "cell_type": "code",
   "execution_count": 57,
   "source": [
    "w=[]\r\n",
    "for s in l:\r\n",
    "    #s.split()\r\n",
    "    for words in s.split(): \r\n",
    "        w.append(words.lower())"
   ],
   "outputs": [],
   "metadata": {}
  },
  {
   "cell_type": "code",
   "execution_count": 58,
   "source": [
    "print(*[w[i] for i in range(30)])"
   ],
   "outputs": [
    {
     "output_type": "stream",
     "name": "stdout",
     "text": [
      "bed frames are good and setup was easy , but the slats are too far apart to use it without a box spring . $ if slats are more than\n"
     ]
    }
   ],
   "metadata": {}
  },
  {
   "cell_type": "code",
   "execution_count": 87,
   "source": [
    "#New_list = lst\r\n",
    "import re\r\n",
    "w1=[re.sub('[^a-zA-Z0-9]+','',_) for _ in w]\r\n",
    "w1=[re.sub('','',_) for _ in w]"
   ],
   "outputs": [],
   "metadata": {}
  },
  {
   "cell_type": "code",
   "execution_count": 105,
   "source": [
    "art = ['a','an','the','she','are','is','at','this','that','to','on','it','if','and','is','was','i','for','has','had','have','from','will','me','him','her','she','he','his','her','their','they','them','you','your']\r\n",
    "for word in list(w1):  # iterating on a copy since removing will mess things up\r\n",
    "    if word in art:\r\n",
    "        w1.remove(word)\r\n",
    "w2=[i for i in w1 if i]"
   ],
   "outputs": [],
   "metadata": {}
  },
  {
   "cell_type": "code",
   "execution_count": 106,
   "source": [
    "print(*[w2[i] for i in range(170,200)])"
   ],
   "outputs": [
    {
     "output_type": "stream",
     "name": "stdout",
     "text": [
      "velcro holds slats in place my mattress bit higher than would liked as takes away headboard but looks so great could store millions of dollars in back of zippered headboard\n"
     ]
    }
   ],
   "metadata": {}
  },
  {
   "cell_type": "code",
   "execution_count": 116,
   "source": [
    "g=len(re.findall(r'good|amazing|happy|easy|nice|great|wonderful', ' '.join(w2)))\r\n",
    "b=len(re.findall(r'terrible|angry|dirty|hard|sad|worst|tough', ' '.join(w2)))\r\n",
    "if g>b:\r\n",
    "    print('Good ')\r\n",
    "elif g==b:\r\n",
    "    print('Neutral')\r\n",
    "else:\r\n",
    "    print('Bad')\r\n",
    "g,b"
   ],
   "outputs": [
    {
     "output_type": "stream",
     "name": "stdout",
     "text": [
      "Good \n"
     ]
    },
    {
     "output_type": "execute_result",
     "data": {
      "text/plain": [
       "(14, 1)"
      ]
     },
     "metadata": {},
     "execution_count": 116
    }
   ],
   "metadata": {}
  },
  {
   "cell_type": "code",
   "execution_count": null,
   "source": [],
   "outputs": [],
   "metadata": {}
  }
 ],
 "metadata": {
  "orig_nbformat": 4,
  "language_info": {
   "name": "python",
   "version": "3.9.5",
   "mimetype": "text/x-python",
   "codemirror_mode": {
    "name": "ipython",
    "version": 3
   },
   "pygments_lexer": "ipython3",
   "nbconvert_exporter": "python",
   "file_extension": ".py"
  },
  "kernelspec": {
   "name": "python3",
   "display_name": "Python 3.9.5 64-bit"
  },
  "interpreter": {
   "hash": "ac59ebe37160ed0dfa835113d9b8498d9f09ceb179beaac4002f036b9467c963"
  }
 },
 "nbformat": 4,
 "nbformat_minor": 2
}